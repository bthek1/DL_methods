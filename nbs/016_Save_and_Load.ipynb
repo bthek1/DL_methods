{
 "cells": [
  {
   "cell_type": "markdown",
   "id": "14f62104-d5d0-4c12-953f-61602392dfed",
   "metadata": {},
   "source": [
    "# Save and Load\n",
    "\n",
    "> Save and Load\n",
    "\n",
    "- skip_showdoc: true\n",
    "- skip_exec: true"
   ]
  },
  {
   "cell_type": "code",
   "execution_count": null,
   "id": "2b0f9611-b0a0-47b1-8d82-0ab0a96248a5",
   "metadata": {},
   "outputs": [],
   "source": [
    "import torch\n",
    "import torch.nn as nn"
   ]
  },
  {
   "cell_type": "markdown",
   "id": "21076f65-f191-497c-885a-cb3412d728fa",
   "metadata": {},
   "source": [
    "## Save arg dict with python pickle"
   ]
  },
  {
   "cell_type": "markdown",
   "id": "bc0780e9-81ea-4af8-a298-7bb017b4ec57",
   "metadata": {},
   "source": [
    "```python\n",
    "torch.save(arg, PATH)\n",
    "torch.load(PATH)\n",
    "model.load_state_dict(arg)\n",
    "```"
   ]
  },
  {
   "cell_type": "markdown",
   "id": "9a76594d-7646-491e-9556-041c3249bf57",
   "metadata": {},
   "source": [
    "## Save model with python pickle"
   ]
  },
  {
   "cell_type": "markdown",
   "id": "d4fe96df-943d-4eb8-8676-3f3642b10bb8",
   "metadata": {},
   "source": [
    "```python\n",
    "torch.save(model, PATH)\n",
    "\n",
    "model = torch.load(PATH)\n",
    "\n",
    "model.eval()\n",
    "```"
   ]
  },
  {
   "cell_type": "markdown",
   "id": "c3192328-188f-472c-9f24-e18df00acc97",
   "metadata": {},
   "source": [
    "## Recommented Method"
   ]
  },
  {
   "cell_type": "markdown",
   "id": "ca8ada51-712f-4e6b-b4e2-3bba7beb8b85",
   "metadata": {},
   "source": [
    "```python\n",
    "torch.save(model.state_dict(), PATH)\n",
    "\n",
    "model = Model(*args, **kwargs)\n",
    "\n",
    "model.load_state_dict(torch.load(PATH))\n",
    "\n",
    "model.eval()\n",
    "```"
   ]
  },
  {
   "cell_type": "markdown",
   "id": "2bec99d2-c4c5-4373-8efb-0e47c15aacc0",
   "metadata": {},
   "source": [
    "## Test model"
   ]
  },
  {
   "cell_type": "code",
   "execution_count": null,
   "id": "3febb3e1-6408-4793-b900-603ee2cf3b61",
   "metadata": {},
   "outputs": [],
   "source": [
    "class Model(nn.Module):\n",
    "    def __init__(self, n_input_features):\n",
    "        super(Model, self).__init__()\n",
    "        self.linear = nn.Linear(n_input_features, 1)\n",
    "\n",
    "    def forward(self, x):\n",
    "        y_pred = torch.sigmoid(self.linear(x))\n",
    "        return y_pred\n",
    "\n"
   ]
  },
  {
   "cell_type": "code",
   "execution_count": null,
   "id": "2e5a87e9-e474-4be2-869d-fd49f8de7eea",
   "metadata": {},
   "outputs": [
    {
     "data": {
      "text/plain": [
       "Model(\n",
       "  (linear): Linear(in_features=6, out_features=1, bias=True)\n",
       ")"
      ]
     },
     "execution_count": null,
     "metadata": {},
     "output_type": "execute_result"
    }
   ],
   "source": [
    "device = torch.device(\"cuda\")\n",
    "model = Model(n_input_features = 6)\n",
    "model"
   ]
  },
  {
   "cell_type": "markdown",
   "id": "683e5fa1-e32a-45d5-bc35-fd8c90e11c92",
   "metadata": {},
   "source": [
    "## Method 1"
   ]
  },
  {
   "cell_type": "code",
   "execution_count": null,
   "id": "a47a544e-3cb8-44bf-82d3-cbe511b36483",
   "metadata": {},
   "outputs": [],
   "source": [
    "FILE = \"model.pth1\"\n",
    "torch.save(model, FILE)"
   ]
  },
  {
   "cell_type": "code",
   "execution_count": null,
   "id": "4dc71701-19d2-4d4b-8924-6ca352b2cdca",
   "metadata": {},
   "outputs": [
    {
     "data": {
      "text/plain": [
       "Model(\n",
       "  (linear): Linear(in_features=6, out_features=1, bias=True)\n",
       ")"
      ]
     },
     "execution_count": null,
     "metadata": {},
     "output_type": "execute_result"
    }
   ],
   "source": [
    "model = torch.load(FILE)\n",
    "model.eval()"
   ]
  },
  {
   "cell_type": "code",
   "execution_count": null,
   "id": "c80ebc74-81f4-48db-80ee-e528d0585c23",
   "metadata": {},
   "outputs": [
    {
     "name": "stdout",
     "output_type": "stream",
     "text": [
      "Parameter containing:\n",
      "tensor([[-0.3002, -0.2477, -0.2695, -0.1810, -0.0604,  0.1516]],\n",
      "       requires_grad=True)\n",
      "Parameter containing:\n",
      "tensor([-0.3233], requires_grad=True)\n"
     ]
    }
   ],
   "source": [
    "for param in model.parameters():\n",
    "    print(param)"
   ]
  },
  {
   "cell_type": "markdown",
   "id": "96b93a15-6a3a-4e77-8bca-918f225dda64",
   "metadata": {},
   "source": [
    "## Method 2"
   ]
  },
  {
   "cell_type": "code",
   "execution_count": null,
   "id": "a3578fe6-317e-44ae-96b0-79537622a9e6",
   "metadata": {},
   "outputs": [],
   "source": [
    "FILE = \"model.pth2\"\n",
    "torch.save(model.state_dict(), FILE)\n"
   ]
  },
  {
   "cell_type": "code",
   "execution_count": null,
   "id": "2fe02316-a705-4982-8fae-f521823c899e",
   "metadata": {},
   "outputs": [],
   "source": [
    "model = Model(n_input_features = 6)"
   ]
  },
  {
   "cell_type": "code",
   "execution_count": null,
   "id": "638de3e5-119a-468f-ae22-9b00fb2c29bf",
   "metadata": {},
   "outputs": [
    {
     "data": {
      "text/plain": [
       "Model(\n",
       "  (linear): Linear(in_features=6, out_features=1, bias=True)\n",
       ")"
      ]
     },
     "execution_count": null,
     "metadata": {},
     "output_type": "execute_result"
    }
   ],
   "source": [
    "model.load_state_dict(torch.load(FILE))\n",
    "\n",
    "model.eval()"
   ]
  },
  {
   "cell_type": "code",
   "execution_count": null,
   "id": "6daf93d0-f73e-4d0f-b580-60d438c49937",
   "metadata": {},
   "outputs": [
    {
     "name": "stdout",
     "output_type": "stream",
     "text": [
      "Parameter containing:\n",
      "tensor([[-0.3002, -0.2477, -0.2695, -0.1810, -0.0604,  0.1516]],\n",
      "       requires_grad=True)\n",
      "Parameter containing:\n",
      "tensor([-0.3233], requires_grad=True)\n"
     ]
    }
   ],
   "source": [
    "for param in model.parameters():\n",
    "    print(param)"
   ]
  },
  {
   "cell_type": "code",
   "execution_count": null,
   "id": "da1e8cc0-6f10-49e9-a0f4-b145fcc555ba",
   "metadata": {},
   "outputs": [
    {
     "data": {
      "text/plain": [
       "OrderedDict([('linear.weight',\n",
       "              tensor([[-0.3002, -0.2477, -0.2695, -0.1810, -0.0604,  0.1516]])),\n",
       "             ('linear.bias', tensor([-0.3233]))])"
      ]
     },
     "execution_count": null,
     "metadata": {},
     "output_type": "execute_result"
    }
   ],
   "source": [
    "model.state_dict()"
   ]
  },
  {
   "cell_type": "code",
   "execution_count": null,
   "id": "43418073-8808-4937-a89c-3e811a86455c",
   "metadata": {},
   "outputs": [
    {
     "data": {
      "text/plain": [
       "{'state': {},\n",
       " 'param_groups': [{'lr': 0.01,\n",
       "   'momentum': 0,\n",
       "   'dampening': 0,\n",
       "   'weight_decay': 0,\n",
       "   'nesterov': False,\n",
       "   'maximize': False,\n",
       "   'foreach': None,\n",
       "   'differentiable': False,\n",
       "   'params': [0, 1]}]}"
      ]
     },
     "execution_count": null,
     "metadata": {},
     "output_type": "execute_result"
    }
   ],
   "source": [
    "learning_rate = 0.01\n",
    "optimizer = torch.optim.SGD(model.parameters(), lr = learning_rate)\n",
    "optimizer.state_dict()"
   ]
  },
  {
   "cell_type": "code",
   "execution_count": null,
   "id": "9314b0cd-561e-449b-b4b7-a720c0569de4",
   "metadata": {},
   "outputs": [
    {
     "data": {
      "text/plain": [
       "{'epoch': 90,\n",
       " 'model_state': OrderedDict([('linear.weight',\n",
       "               tensor([[-0.3002, -0.2477, -0.2695, -0.1810, -0.0604,  0.1516]])),\n",
       "              ('linear.bias', tensor([-0.3233]))]),\n",
       " 'optim_state': {'state': {},\n",
       "  'param_groups': [{'lr': 0.01,\n",
       "    'momentum': 0,\n",
       "    'dampening': 0,\n",
       "    'weight_decay': 0,\n",
       "    'nesterov': False,\n",
       "    'maximize': False,\n",
       "    'foreach': None,\n",
       "    'differentiable': False,\n",
       "    'params': [0, 1]}]}}"
      ]
     },
     "execution_count": null,
     "metadata": {},
     "output_type": "execute_result"
    }
   ],
   "source": [
    "checkpoint = {\n",
    "    \"epoch\": 90,\n",
    "    \"model_state\": model.state_dict(),\n",
    "    \"optim_state\": optimizer.state_dict()\n",
    "}\n",
    "checkpoint"
   ]
  },
  {
   "cell_type": "code",
   "execution_count": null,
   "id": "a6d19314-da46-4bb7-9102-6c982163a9ad",
   "metadata": {},
   "outputs": [],
   "source": [
    "torch.save(checkpoint, \"checkpoint.pth\")"
   ]
  },
  {
   "cell_type": "code",
   "execution_count": null,
   "id": "d37eb479-29e4-47fb-8929-b93454443ba3",
   "metadata": {},
   "outputs": [],
   "source": [
    "loaded_checkpoint = torch.load(\"checkpoint.pth\")"
   ]
  },
  {
   "cell_type": "code",
   "execution_count": null,
   "id": "e91997ba-c419-465d-9a4f-d3dce7e88b1c",
   "metadata": {},
   "outputs": [
    {
     "data": {
      "text/plain": [
       "90"
      ]
     },
     "execution_count": null,
     "metadata": {},
     "output_type": "execute_result"
    }
   ],
   "source": [
    "loaded_checkpoint['epoch']"
   ]
  },
  {
   "cell_type": "code",
   "execution_count": null,
   "id": "ea7e3902-2776-49ae-9910-e254de43684e",
   "metadata": {},
   "outputs": [
    {
     "data": {
      "text/plain": [
       "OrderedDict([('linear.weight',\n",
       "              tensor([[-0.3002, -0.2477, -0.2695, -0.1810, -0.0604,  0.1516]])),\n",
       "             ('linear.bias', tensor([-0.3233]))])"
      ]
     },
     "execution_count": null,
     "metadata": {},
     "output_type": "execute_result"
    }
   ],
   "source": [
    "model.load_state_dict(loaded_checkpoint['model_state'])\n",
    "model.state_dict()"
   ]
  },
  {
   "cell_type": "code",
   "execution_count": null,
   "id": "d7061565-701c-495f-b058-4fc0fb2f2a49",
   "metadata": {},
   "outputs": [
    {
     "data": {
      "text/plain": [
       "{'state': {},\n",
       " 'param_groups': [{'lr': 0.01,\n",
       "   'momentum': 0,\n",
       "   'dampening': 0,\n",
       "   'weight_decay': 0,\n",
       "   'nesterov': False,\n",
       "   'maximize': False,\n",
       "   'foreach': None,\n",
       "   'differentiable': False,\n",
       "   'params': [0, 1]}]}"
      ]
     },
     "execution_count": null,
     "metadata": {},
     "output_type": "execute_result"
    }
   ],
   "source": [
    "optimizer.load_state_dict(loaded_checkpoint['optim_state'])\n",
    "optimizer.state_dict()\n"
   ]
  },
  {
   "cell_type": "code",
   "execution_count": null,
   "id": "f3038c66-af0f-4183-965e-876f7ecba1ae",
   "metadata": {},
   "outputs": [],
   "source": []
  }
 ],
 "metadata": {
  "kernelspec": {
   "display_name": "python3",
   "language": "python",
   "name": "python3"
  }
 },
 "nbformat": 4,
 "nbformat_minor": 5
}
