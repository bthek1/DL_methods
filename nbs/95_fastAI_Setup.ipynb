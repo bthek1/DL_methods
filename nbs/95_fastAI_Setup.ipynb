{
 "cells": [
  {
   "cell_type": "markdown",
   "id": "aa5d97b1-c0f7-4207-96fb-6b307b746ade",
   "metadata": {},
   "source": [
    "# FastAI Setup\n",
    "\n",
    "> Details on setting up FASTAI\n",
    "\n",
    "\n",
    "- skip_showdoc: true\n",
    "- skip_exec: true"
   ]
  },
  {
   "cell_type": "code",
   "execution_count": null,
   "id": "cad6f852-362f-4b4c-9f53-216487995f76",
   "metadata": {},
   "outputs": [],
   "source": [
    "#| default_exp fastai"
   ]
  },
  {
   "cell_type": "markdown",
   "id": "8702bbe4-abdd-4882-a08c-b21410636d2b",
   "metadata": {},
   "source": [
    "## Installs"
   ]
  },
  {
   "cell_type": "markdown",
   "id": "ea32ab03-1d40-426b-9a62-feeb24068e6c",
   "metadata": {},
   "source": [
    "### For installing fastai"
   ]
  },
  {
   "cell_type": "markdown",
   "id": "42509b5b-c4ae-45d3-bdc3-71beaac2004f",
   "metadata": {},
   "source": [
    "```sh\n",
    "pip install fastai\n",
    "```"
   ]
  },
  {
   "cell_type": "code",
   "execution_count": null,
   "id": "269fd483-3d0d-4ff4-b0d1-fe1376c285d8",
   "metadata": {},
   "outputs": [],
   "source": [
    "!pip list | grep \"fastai\" "
   ]
  },
  {
   "cell_type": "markdown",
   "id": "52d3865f-b0c5-4c6c-b421-6ff81ef8fc16",
   "metadata": {},
   "source": [
    "```sh\n",
    "!mamba install -c nvidia fastai\n",
    "```"
   ]
  },
  {
   "cell_type": "markdown",
   "id": "761d436f-2573-4db3-a233-ce6bd3390140",
   "metadata": {},
   "source": [
    "```sh\n",
    "conda install -c nvidia fastai anaconda\n",
    "```"
   ]
  },
  {
   "cell_type": "markdown",
   "id": "0ea9b97e-666e-42ff-bf3f-b54c190207ed",
   "metadata": {},
   "source": [
    "### For installing fastbook"
   ]
  },
  {
   "cell_type": "markdown",
   "id": "2f7eaf77-82de-411a-b2d5-4bccceb00f5f",
   "metadata": {},
   "source": [
    "```sh\n",
    "pip install fastbook\n",
    "```"
   ]
  },
  {
   "cell_type": "code",
   "execution_count": null,
   "id": "fd754451-b08e-4ed3-a2ed-569cfa19db8e",
   "metadata": {},
   "outputs": [],
   "source": [
    "!pip list | grep \"fastbook\""
   ]
  },
  {
   "cell_type": "code",
   "execution_count": null,
   "id": "3388a896-88d7-49fe-a24d-704da4bf773d",
   "metadata": {},
   "outputs": [
    {
     "ename": "ModuleNotFoundError",
     "evalue": "No module named 'torch'",
     "output_type": "error",
     "traceback": [
      "\u001b[0;31m---------------------------------------------------------------------------\u001b[0m",
      "\u001b[0;31mModuleNotFoundError\u001b[0m                       Traceback (most recent call last)",
      "Cell \u001b[0;32mIn[7], line 1\u001b[0m\n\u001b[0;32m----> 1\u001b[0m \u001b[38;5;28;01mimport\u001b[39;00m \u001b[38;5;21;01mtorch\u001b[39;00m\n",
      "\u001b[0;31mModuleNotFoundError\u001b[0m: No module named 'torch'"
     ]
    }
   ],
   "source": [
    "import torch"
   ]
  },
  {
   "cell_type": "code",
   "execution_count": null,
   "id": "a2c1352c-9b01-4711-84fc-2247fa13964b",
   "metadata": {},
   "outputs": [],
   "source": [
    "if torch.cuda.is_available():\n",
    "    print(\"GPU is available.\")\n",
    "    num_gpu = torch.cuda.device_count()\n",
    "    for i in range(num_gpu):\n",
    "        gpu_name = torch.cuda.get_device_name(i)\n",
    "        gpu_memory = torch.cuda.get_device_properties(i).total_memory / (1024 ** 3)  # Convert bytes to GB\n",
    "        print(f\"GPU {i}: {gpu_name}, Memory: {gpu_memory:.2f} GB\")\n",
    "else:\n",
    "    print(\"GPU is not available.\")"
   ]
  },
  {
   "cell_type": "code",
   "execution_count": null,
   "id": "ae5066d0-05c5-40ba-b364-38446903bd85",
   "metadata": {},
   "outputs": [],
   "source": []
  }
 ],
 "metadata": {
  "kernelspec": {
   "display_name": "python3",
   "language": "python",
   "name": "python3"
  },
  "widgets": {
   "application/vnd.jupyter.widget-state+json": {
    "state": {},
    "version_major": 2,
    "version_minor": 0
   }
  }
 },
 "nbformat": 4,
 "nbformat_minor": 5
}
