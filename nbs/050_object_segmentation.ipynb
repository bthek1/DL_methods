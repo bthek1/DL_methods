{
 "cells": [
  {
   "cell_type": "markdown",
   "id": "e49119fe-f5f8-4753-8b97-a4b1dfc34a7c",
   "metadata": {},
   "source": [
    "# Object detection model\n",
    "\n",
    "> Object Detection Model\n",
    "\n",
    "\n",
    "- skip_showdoc: true\n",
    "- skip_exec: true"
   ]
  },
  {
   "cell_type": "code",
   "execution_count": null,
   "id": "8b87077c-5606-4404-bb7f-1996cf2fab20",
   "metadata": {},
   "outputs": [],
   "source": []
  }
 ],
 "metadata": {
  "kernelspec": {
   "display_name": "python3",
   "language": "python",
   "name": "python3"
  }
 },
 "nbformat": 4,
 "nbformat_minor": 5
}
