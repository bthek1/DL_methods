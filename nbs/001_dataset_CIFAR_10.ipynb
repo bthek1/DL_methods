{
 "cells": [
  {
   "cell_type": "markdown",
   "metadata": {},
   "source": [
    "# Dataset: CIFAR 10\n",
    "\n",
    "> CIFAR 10\n",
    "\n",
    "\n",
    "- skip_showdoc: true\n",
    "- skip_exec: true"
   ]
  },
  {
   "cell_type": "code",
   "execution_count": null,
   "metadata": {},
   "outputs": [],
   "source": [
    "#| default_exp cifar"
   ]
  },
  {
   "cell_type": "code",
   "execution_count": null,
   "metadata": {},
   "outputs": [],
   "source": [
    "import torch"
   ]
  },
  {
   "cell_type": "code",
   "execution_count": null,
   "metadata": {},
   "outputs": [
    {
     "data": {
      "text/plain": [
       "True"
      ]
     },
     "execution_count": null,
     "metadata": {},
     "output_type": "execute_result"
    }
   ],
   "source": [
    "torch.cuda.is_available()"
   ]
  },
  {
   "cell_type": "code",
   "execution_count": null,
   "metadata": {},
   "outputs": [],
   "source": [
    "from fastbook import search_images_ddg\n",
    "from fastdownload import download_url\n",
    "from fastai.vision.all import *\n",
    "import fastcore.all as fc\n",
    "from nbdevAuto import functions\n",
    "import os\n",
    "import glob\n",
    "import shutil\n",
    "import numpy as np"
   ]
  },
  {
   "cell_type": "code",
   "execution_count": null,
   "metadata": {},
   "outputs": [
    {
     "data": {
      "text/plain": [
       "\u001b[0;31mSignature:\u001b[0m \u001b[0mfc\u001b[0m\u001b[0;34m.\u001b[0m\u001b[0mhasattrs\u001b[0m\u001b[0;34m(\u001b[0m\u001b[0mo\u001b[0m\u001b[0;34m,\u001b[0m \u001b[0mattrs\u001b[0m\u001b[0;34m)\u001b[0m\u001b[0;34m\u001b[0m\u001b[0;34m\u001b[0m\u001b[0m\n",
       "\u001b[0;31mDocstring:\u001b[0m Test whether `o` contains all `attrs`\n",
       "\u001b[0;31mFile:\u001b[0m      ~/mambaforge/envs/cfast/lib/python3.11/site-packages/fastcore/basics.py\n",
       "\u001b[0;31mType:\u001b[0m      function"
      ]
     },
     "metadata": {},
     "output_type": "display_data"
    }
   ],
   "source": [
    "fc.hasattrs?"
   ]
  },
  {
   "cell_type": "code",
   "execution_count": null,
   "metadata": {},
   "outputs": [],
   "source": [
    "# Specify the directory path\n",
    "directory_path = 'Data/cifar-10-batches-py'"
   ]
  },
  {
   "cell_type": "code",
   "execution_count": null,
   "metadata": {},
   "outputs": [],
   "source": [
    "#|exports\n",
    "def show_image(im,\n",
    "               ax=None,\n",
    "               figsize=None,\n",
    "               title=None, \n",
    "               noframe=True,\n",
    "               **kwargs):\n",
    "    \"Show a PIL or PyTorch image on `ax`.\"\n",
    "    if fc.hasattrs(im, ('cpu','permute','detach')):\n",
    "        im = im.detach().cpu()\n",
    "        if len(im.shape)==3 and im.shape[0]<5: im=im.permute(1,2,0)\n",
    "    elif not isinstance(im,np.ndarray): im=np.array(im)\n",
    "    if im.shape[-1]==1: im=im[...,0]\n",
    "    if ax is None: _,ax = plt.subplots(figsize=figsize)\n",
    "    ax.imshow(im, **kwargs)\n",
    "    if title is not None: ax.set_title(title)\n",
    "    ax.set_xticks([]) \n",
    "    ax.set_yticks([]) \n",
    "    if noframe: ax.axis('off')\n",
    "    return ax"
   ]
  },
  {
   "cell_type": "code",
   "execution_count": null,
   "metadata": {},
   "outputs": [],
   "source": [
    "#|exports\n",
    "def get_grid(\n",
    "    n:int, # Number of axes\n",
    "    nrows:int=None, # Number of rows, defaulting to `int(math.sqrt(n))`\n",
    "    ncols:int=None, # Number of columns, defaulting to `ceil(n/rows)`\n",
    "    title:str=None, # If passed, title set to the figure\n",
    "    weight:str='bold', # Title font weight\n",
    "    size:int=14, # Title font size\n",
    "    **kwargs,\n",
    "): # fig and axs\n",
    "    \"Return a grid of `n` axes, `rows` by `cols`\"\n",
    "    if nrows: ncols = ncols or int(np.floor(n/nrows))\n",
    "    elif ncols: nrows = nrows or int(np.ceil(n/ncols))\n",
    "    else:\n",
    "        nrows = int(math.sqrt(n))\n",
    "        ncols = int(np.floor(n/nrows))\n",
    "        \n",
    "    fig,axs = subplots(nrows, ncols, **kwargs)\n",
    "    \n",
    "    for i in range(n, nrows*ncols): # ignore the extra space\n",
    "        axs.flat[i].set_axis_off()\n",
    "        \n",
    "    if title is not None: fig.suptitle(title, weight=weight, size=size) #title settings\n",
    "        \n",
    "    return fig,axs"
   ]
  },
  {
   "cell_type": "code",
   "execution_count": null,
   "metadata": {},
   "outputs": [],
   "source": [
    "#|exports\n",
    "def show_images(ims:list, # Images to show\n",
    "                nrows:int|None=None, # Number of rows in grid\n",
    "                ncols:int|None=None, # Number of columns in grid (auto-calculated if None)\n",
    "                titles:list|None=None, # Optional list of titles for each image\n",
    "                **kwargs):\n",
    "    \"Show all images `ims` as subplots with `rows` using `titles`\"\n",
    "    axs = get_grid(len(ims), nrows, ncols, **kwargs)[1].flat\n",
    "    \n",
    "    for im,t,ax in zip_longest(ims, titles or [], axs): \n",
    "        show_image(im, ax=ax, title=t)"
   ]
  },
  {
   "cell_type": "code",
   "execution_count": null,
   "metadata": {},
   "outputs": [],
   "source": [
    "class Image:\n",
    "    def __init__(self, image, label, name, category):\n",
    "        self.value = image\n",
    "        self.label = label\n",
    "        self.name = name\n",
    "        self.category = category\n",
    "\n",
    "    def __repr__(self):\n",
    "        return np.array2string(self.value)\n",
    "\n",
    "    @property\n",
    "    def plot(self):\n",
    "        show_images(self.value, titles = self.category)\n",
    "\n",
    "class Cifar:\n",
    "    def __init__(self, file_path):\n",
    "        self.types = ['plane', 'car', 'bird', 'cat','deer', 'dog', 'frog', 'horse', 'ship', 'truck']\n",
    "        self.file_path = file_path\n",
    "        self.full_data = self.data_retrieve()\n",
    "        self.labels = self.get_labels()\n",
    "        self.images = self.get_images_data()\n",
    "        self.filenames = self.get_filenames()\n",
    "        \n",
    "        \n",
    "    def __len__(self): return len(self.images)\n",
    "        \n",
    "    def __getitem__(self, i): \n",
    "        if isinstance(i, int):\n",
    "            slide = slice(i, i + 1)  \n",
    "        elif isinstance(i, slice):\n",
    "            slide = i\n",
    "            \n",
    "        return Image(self.images[slide],\n",
    "              self.labels[slide], \n",
    "              self.filenames[slide], \n",
    "              [self.types[i] for i in self.labels[slide]])        \n",
    "\n",
    "    def batch_label(self):\n",
    "        return self.data[b'batch_label']\n",
    "\n",
    "    def get_labels(self):\n",
    "        labels = []\n",
    "        for data in self.full_data:\n",
    "            labels.extend(data[b'labels'])\n",
    "        return labels\n",
    "\n",
    "    def get_images_data(self):\n",
    "        images = []\n",
    "        for data in self.full_data:\n",
    "            reshaped_array = data[b'data'].reshape(len(data[b'data']), 3, 32, 32).astype(np.uint8)\n",
    "        \n",
    "            # Transpose the dimensions to get the desired shape (32x32x3)\n",
    "            reshaped_array = np.transpose(reshaped_array, (0, 2, 3, 1))\n",
    "\n",
    "            images.extend(reshaped_array)\n",
    "        images = np.array(images)\n",
    "        return images\n",
    "        \n",
    "    def get_filenames(self):\n",
    "        filenames = []\n",
    "        for data in self.full_data:\n",
    "            filenames.extend(data[b'filenames'])\n",
    "        return filenames\n",
    "\n",
    "    def data_retrieve(self):\n",
    "        import pickle\n",
    "        data = []\n",
    "        \n",
    "        # Use glob to find all files starting with 'data' in the specified directory\n",
    "        matching_files = glob.glob(f'{self.file_path}/data*')\n",
    "    \n",
    "        # Print the list of matching files\n",
    "        for files in matching_files:\n",
    "            with open(files, 'rb') as fo:\n",
    "                dict = pickle.load(fo, encoding='bytes')\n",
    "            data.append(dict)\n",
    "    \n",
    "        return data\n",
    "    "
   ]
  },
  {
   "cell_type": "code",
   "execution_count": null,
   "metadata": {},
   "outputs": [],
   "source": [
    "cifar = Cifar(directory_path)"
   ]
  },
  {
   "cell_type": "code",
   "execution_count": null,
   "metadata": {},
   "outputs": [
    {
     "data": {
      "image/png": "[encoded data removed]",
      "text/plain": [
       "<Figure size 900x900 with 9 Axes>"
      ]
     },
     "metadata": {},
     "output_type": "display_data"
    }
   ],
   "source": [
    "cifar[1:10].plot"
   ]
  },
  {
   "cell_type": "code",
   "execution_count": null,
   "metadata": {},
   "outputs": [
    {
     "data": {
      "text/plain": [
       "5"
      ]
     },
     "execution_count": null,
     "metadata": {},
     "output_type": "execute_result"
    }
   ],
   "source": [
    "len(cifar.full_data)"
   ]
  },
  {
   "cell_type": "code",
   "execution_count": null,
   "metadata": {},
   "outputs": [
    {
     "data": {
      "text/plain": [
       "(list, 50000)"
      ]
     },
     "execution_count": null,
     "metadata": {},
     "output_type": "execute_result"
    }
   ],
   "source": [
    "type(cifar.labels), len(cifar.labels)"
   ]
  },
  {
   "cell_type": "code",
   "execution_count": null,
   "metadata": {},
   "outputs": [
    {
     "data": {
      "text/plain": [
       "(numpy.ndarray, 50000)"
      ]
     },
     "execution_count": null,
     "metadata": {},
     "output_type": "execute_result"
    }
   ],
   "source": [
    "type(cifar.images), len(cifar.images)"
   ]
  },
  {
   "cell_type": "code",
   "execution_count": null,
   "metadata": {},
   "outputs": [
    {
     "data": {
      "text/plain": [
       "(list, 50000)"
      ]
     },
     "execution_count": null,
     "metadata": {},
     "output_type": "execute_result"
    }
   ],
   "source": [
    "type(cifar.filenames), len(cifar.filenames)"
   ]
  },
  {
   "cell_type": "code",
   "execution_count": null,
   "metadata": {},
   "outputs": [
    {
     "data": {
      "text/plain": [
       "numpy.ndarray"
      ]
     },
     "execution_count": null,
     "metadata": {},
     "output_type": "execute_result"
    }
   ],
   "source": [
    "type(cifar.full_data[1][b'data'])"
   ]
  },
  {
   "cell_type": "code",
   "execution_count": null,
   "metadata": {},
   "outputs": [
    {
     "data": {
      "text/plain": [
       "((32, 32, 3), numpy.ndarray)"
      ]
     },
     "execution_count": null,
     "metadata": {},
     "output_type": "execute_result"
    }
   ],
   "source": [
    "cifar.images[1].shape, type(cifar.images[1]), "
   ]
  },
  {
   "cell_type": "code",
   "execution_count": null,
   "metadata": {},
   "outputs": [],
   "source": [
    "images = np.array(cifar.images)"
   ]
  },
  {
   "cell_type": "code",
   "execution_count": null,
   "metadata": {},
   "outputs": [
    {
     "data": {
      "text/plain": [
       "(50000, 32, 32, 3)"
      ]
     },
     "execution_count": null,
     "metadata": {},
     "output_type": "execute_result"
    }
   ],
   "source": [
    "images.shape"
   ]
  },
  {
   "cell_type": "code",
   "execution_count": null,
   "metadata": {},
   "outputs": [
    {
     "data": {
      "text/plain": [
       "50000"
      ]
     },
     "execution_count": null,
     "metadata": {},
     "output_type": "execute_result"
    }
   ],
   "source": [
    "len(cifar)"
   ]
  },
  {
   "cell_type": "code",
   "execution_count": null,
   "metadata": {},
   "outputs": [
    {
     "data": {
      "text/plain": [
       "[b'icebreaker_s_001689.png',\n",
       " b'convertible_s_000520.png',\n",
       " b'broodmare_s_000313.png',\n",
       " b'true_cat_s_000886.png',\n",
       " b'ostrich_s_001561.png']"
      ]
     },
     "execution_count": null,
     "metadata": {},
     "output_type": "execute_result"
    }
   ],
   "source": [
    "cifar.filenames[1:10:2]"
   ]
  },
  {
   "cell_type": "code",
   "execution_count": null,
   "metadata": {},
   "outputs": [
    {
     "data": {
      "text/plain": [
       "__main__.Image"
      ]
     },
     "execution_count": null,
     "metadata": {},
     "output_type": "execute_result"
    }
   ],
   "source": [
    "type(cifar[1])"
   ]
  },
  {
   "cell_type": "code",
   "execution_count": null,
   "metadata": {},
   "outputs": [
    {
     "data": {
      "text/plain": [
       "[b'icebreaker_s_001689.png',\n",
       " b'peke_s_000545.png',\n",
       " b'convertible_s_000520.png',\n",
       " b'domestic_dog_s_000455.png']"
      ]
     },
     "execution_count": null,
     "metadata": {},
     "output_type": "execute_result"
    }
   ],
   "source": [
    "cifar[1:5].name"
   ]
  },
  {
   "cell_type": "code",
   "execution_count": null,
   "metadata": {},
   "outputs": [
    {
     "data": {
      "text/plain": [
       "['ship', 'dog', 'car', 'dog']"
      ]
     },
     "execution_count": null,
     "metadata": {},
     "output_type": "execute_result"
    }
   ],
   "source": [
    "cifar[1:5].category"
   ]
  },
  {
   "cell_type": "code",
   "execution_count": null,
   "metadata": {},
   "outputs": [
    {
     "data": {
      "image/png": "[encoded data removed]",
      "text/plain": [
       "<Figure size 640x480 with 1 Axes>"
      ]
     },
     "metadata": {},
     "output_type": "display_data"
    },
    {
     "name": "stdout",
     "output_type": "stream",
     "text": [
      "[b'icebreaker_s_001689.png']\n",
      "['ship']\n"
     ]
    }
   ],
   "source": [
    "# Display the image\n",
    "plt.imshow(cifar.images[1])\n",
    "plt.axis('off')  # Hide axis\n",
    "plt.show()\n",
    "print(cifar[1].name)\n",
    "print(cifar[1].category)"
   ]
  },
  {
   "cell_type": "code",
   "execution_count": null,
   "metadata": {},
   "outputs": [],
   "source": []
  }
 ],
 "metadata": {
  "kernelspec": {
   "display_name": "python3",
   "language": "python",
   "name": "python3"
  },
  "widgets": {
   "application/vnd.jupyter.widget-state+json": {
    "state": {},
    "version_major": 2,
    "version_minor": 0
   }
  }
 },
 "nbformat": 4,
 "nbformat_minor": 4
}
