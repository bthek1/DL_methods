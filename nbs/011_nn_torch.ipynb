{
 "cells": [
  {
   "cell_type": "markdown",
   "id": "71b1f0fc-1870-4a75-8480-db58aed548c6",
   "metadata": {},
   "source": [
    "# nn_torch\n",
    "\n",
    ">  nn_torch\n",
    "\n",
    "\n",
    "- skip_showdoc: true\n",
    "- skip_exec: true"
   ]
  },
  {
   "cell_type": "code",
   "execution_count": null,
   "id": "015df8b6-b176-47d5-9075-a3783ac847ed",
   "metadata": {},
   "outputs": [],
   "source": [
    "#| default_exp torch"
   ]
  },
  {
   "cell_type": "code",
   "execution_count": null,
   "id": "ed167a40-28ef-4e36-84cb-e07e990d1311",
   "metadata": {},
   "outputs": [],
   "source": [
    "import torch\n",
    "import numpy as np"
   ]
  },
  {
   "cell_type": "code",
   "execution_count": null,
   "id": "5dd58b44-94e4-46ad-988f-c43ef407dea2",
   "metadata": {},
   "outputs": [
    {
     "data": {
      "text/plain": [
       "True"
      ]
     },
     "execution_count": null,
     "metadata": {},
     "output_type": "execute_result"
    }
   ],
   "source": [
    "torch.cuda.is_available()"
   ]
  },
  {
   "cell_type": "markdown",
   "id": "2ee295ed-253a-4e22-a7f4-1ecda0a23c9c",
   "metadata": {},
   "source": [
    "## Autograd"
   ]
  },
  {
   "cell_type": "code",
   "execution_count": null,
   "id": "f7a11c05-cb37-4e3a-9e46-ffe2928828f2",
   "metadata": {},
   "outputs": [
    {
     "data": {
      "text/plain": [
       "tensor([1., 2., 3.], requires_grad=True)"
      ]
     },
     "execution_count": null,
     "metadata": {},
     "output_type": "execute_result"
    }
   ],
   "source": [
    "x = torch.tensor([1,2,3], dtype=torch.float, requires_grad = True)\n",
    "x"
   ]
  },
  {
   "cell_type": "markdown",
   "id": "88be1bdc-e13c-437b-a69d-170945889749",
   "metadata": {},
   "source": [
    "## Containers"
   ]
  },
  {
   "cell_type": "markdown",
   "id": "7b3f177d-ef34-4d18-be36-324d591d564a",
   "metadata": {},
   "source": [
    "### Module"
   ]
  },
  {
   "cell_type": "code",
   "execution_count": null,
   "id": "706f9197-ca1e-4869-90de-53bf99ffa9de",
   "metadata": {},
   "outputs": [],
   "source": [
    "import torch.nn as nn\n",
    "import torch.nn.functional as F\n",
    "\n",
    "class Model(nn.Module):\n",
    "    def __init__(self):\n",
    "        super().__init__()\n",
    "        self.conv1 = nn.Conv2d(1, 20, 5)\n",
    "        self.conv2 = nn.Conv2d(20, 20, 5)\n",
    "\n",
    "    def forward(self, x):\n",
    "        x = F.relu(self.conv1(x))\n",
    "        return F.relu(self.conv2(x))"
   ]
  },
  {
   "cell_type": "code",
   "execution_count": null,
   "id": "05d9d7a6-479b-4a20-99c9-e387bf18a216",
   "metadata": {},
   "outputs": [],
   "source": [
    "@torch.no_grad()\n",
    "def init_weights(m):\n",
    "    print(m)\n",
    "    if type(m) == nn.Linear:\n",
    "        m.weight.fill_(1.0)\n",
    "        print(m.weight)"
   ]
  },
  {
   "cell_type": "code",
   "execution_count": null,
   "id": "74109ac4-8423-46c3-afd8-aac64fab1080",
   "metadata": {},
   "outputs": [
    {
     "name": "stdout",
     "output_type": "stream",
     "text": [
      "Linear(in_features=2, out_features=2, bias=True)\n",
      "Parameter containing:\n",
      "tensor([[1., 1.],\n",
      "        [1., 1.]], requires_grad=True)\n",
      "Linear(in_features=2, out_features=2, bias=True)\n",
      "Parameter containing:\n",
      "tensor([[1., 1.],\n",
      "        [1., 1.]], requires_grad=True)\n",
      "Sequential(\n",
      "  (0): Linear(in_features=2, out_features=2, bias=True)\n",
      "  (1): Linear(in_features=2, out_features=2, bias=True)\n",
      ")\n"
     ]
    }
   ],
   "source": [
    "net = nn.Sequential(nn.Linear(2, 2), nn.Linear(2, 2))\n",
    "new = net.apply(init_weights)"
   ]
  },
  {
   "cell_type": "code",
   "execution_count": null,
   "id": "cb7adf85-319a-49d8-b188-ded1d729aa01",
   "metadata": {},
   "outputs": [
    {
     "data": {
      "text/plain": [
       "Model(\n",
       "  (conv1): Conv2d(1, 20, kernel_size=(5, 5), stride=(1, 1))\n",
       "  (conv2): Conv2d(20, 20, kernel_size=(5, 5), stride=(1, 1))\n",
       ")"
      ]
     },
     "execution_count": null,
     "metadata": {},
     "output_type": "execute_result"
    }
   ],
   "source": [
    "model = Model()\n",
    "model"
   ]
  },
  {
   "cell_type": "code",
   "execution_count": null,
   "id": "13a59b96-066b-4f27-be1c-cc9cafefca15",
   "metadata": {},
   "outputs": [
    {
     "data": {
      "text/plain": [
       "{'training': True,\n",
       " '_parameters': OrderedDict(),\n",
       " '_buffers': OrderedDict(),\n",
       " '_non_persistent_buffers_set': set(),\n",
       " '_backward_pre_hooks': OrderedDict(),\n",
       " '_backward_hooks': OrderedDict(),\n",
       " '_is_full_backward_hook': None,\n",
       " '_forward_hooks': OrderedDict(),\n",
       " '_forward_hooks_with_kwargs': OrderedDict(),\n",
       " '_forward_hooks_always_called': OrderedDict(),\n",
       " '_forward_pre_hooks': OrderedDict(),\n",
       " '_forward_pre_hooks_with_kwargs': OrderedDict(),\n",
       " '_state_dict_hooks': OrderedDict(),\n",
       " '_state_dict_pre_hooks': OrderedDict(),\n",
       " '_load_state_dict_pre_hooks': OrderedDict(),\n",
       " '_load_state_dict_post_hooks': OrderedDict(),\n",
       " '_modules': OrderedDict([('conv1',\n",
       "               Conv2d(1, 20, kernel_size=(5, 5), stride=(1, 1))),\n",
       "              ('conv2', Conv2d(20, 20, kernel_size=(5, 5), stride=(1, 1)))])}"
      ]
     },
     "execution_count": null,
     "metadata": {},
     "output_type": "execute_result"
    }
   ],
   "source": [
    "model.__dict__"
   ]
  },
  {
   "cell_type": "code",
   "execution_count": null,
   "id": "a77a9e30-c54e-4190-97eb-0209c5c67423",
   "metadata": {},
   "outputs": [
    {
     "name": "stdout",
     "output_type": "stream",
     "text": [
      "torch.Size([20, 1, 5, 5])\n",
      "torch.Size([20])\n",
      "torch.Size([20, 20, 5, 5])\n",
      "torch.Size([20])\n"
     ]
    }
   ],
   "source": [
    "for para in model.parameters():\n",
    "    print(para.shape)"
   ]
  },
  {
   "cell_type": "markdown",
   "id": "b0a0e5b2-89c1-4ad5-8c56-97b74d73b645",
   "metadata": {},
   "source": [
    "### Sequential"
   ]
  },
  {
   "cell_type": "code",
   "execution_count": null,
   "id": "05f6e4dd-7f8a-43ea-914a-fce71c5c4504",
   "metadata": {},
   "outputs": [],
   "source": [
    "model = nn.Sequential(\n",
    "          nn.Conv2d(1,20,5),\n",
    "          nn.ReLU(),\n",
    "          nn.Conv2d(20,64,5),\n",
    "          nn.ReLU()\n",
    "        )"
   ]
  },
  {
   "cell_type": "code",
   "execution_count": null,
   "id": "80eab0e9-5d16-4845-81a4-e6479d3fdf62",
   "metadata": {},
   "outputs": [
    {
     "data": {
      "text/plain": [
       "Sequential(\n",
       "  (0): Conv2d(1, 20, kernel_size=(5, 5), stride=(1, 1))\n",
       "  (1): ReLU()\n",
       "  (2): Conv2d(20, 64, kernel_size=(5, 5), stride=(1, 1))\n",
       "  (3): ReLU()\n",
       ")"
      ]
     },
     "execution_count": null,
     "metadata": {},
     "output_type": "execute_result"
    }
   ],
   "source": [
    "model"
   ]
  },
  {
   "cell_type": "markdown",
   "id": "1f82354a-26b1-48f1-843f-54d5b96e85b7",
   "metadata": {},
   "source": [
    "### ModuleList"
   ]
  },
  {
   "cell_type": "code",
   "execution_count": null,
   "id": "3d48a490-4227-4655-a7d5-863364a5eaa4",
   "metadata": {},
   "outputs": [],
   "source": [
    "class MyModule(nn.Module):\n",
    "    def __init__(self):\n",
    "        super().__init__()\n",
    "        self.linears = nn.ModuleList([nn.Linear(10, 10) for i in range(10)])\n",
    "\n",
    "    def forward(self, x):\n",
    "        # ModuleList can act as an iterable, or be indexed using ints\n",
    "        for i, l in enumerate(self.linears):\n",
    "            x = self.linears[i // 2](x) + l(x)\n",
    "        return x"
   ]
  },
  {
   "cell_type": "code",
   "execution_count": null,
   "id": "e2cb05df-0e35-4d17-9b08-35bed382806b",
   "metadata": {},
   "outputs": [
    {
     "data": {
      "text/plain": [
       "MyModule(\n",
       "  (linears): ModuleList(\n",
       "    (0-9): 10 x Linear(in_features=10, out_features=10, bias=True)\n",
       "  )\n",
       ")"
      ]
     },
     "execution_count": null,
     "metadata": {},
     "output_type": "execute_result"
    }
   ],
   "source": [
    "model = MyModule()\n",
    "model"
   ]
  },
  {
   "cell_type": "code",
   "execution_count": null,
   "id": "a30fe7b6-893c-46cc-93ca-21773e8fd542",
   "metadata": {},
   "outputs": [],
   "source": [
    "class MyModule(nn.Module):\n",
    "    def __init__(self):\n",
    "        super().__init__()\n",
    "        self.choices = nn.ModuleDict({\n",
    "                'conv': nn.Conv2d(10, 10, 3),\n",
    "                'pool': nn.MaxPool2d(3)\n",
    "        })\n",
    "        self.activations = nn.ModuleDict([\n",
    "                ['lrelu', nn.LeakyReLU()],\n",
    "                ['prelu', nn.PReLU()]\n",
    "        ])\n",
    "\n",
    "    def forward(self, x, choice, act):\n",
    "        x = self.choices[choice](x)\n",
    "        x = self.activations[act](x)\n",
    "        return x"
   ]
  },
  {
   "cell_type": "code",
   "execution_count": null,
   "id": "d4bd112a-7407-42e8-a5d5-02a4d3e1ad3d",
   "metadata": {},
   "outputs": [
    {
     "data": {
      "text/plain": [
       "MyModule(\n",
       "  (choices): ModuleDict(\n",
       "    (conv): Conv2d(10, 10, kernel_size=(3, 3), stride=(1, 1))\n",
       "    (pool): MaxPool2d(kernel_size=3, stride=3, padding=0, dilation=1, ceil_mode=False)\n",
       "  )\n",
       "  (activations): ModuleDict(\n",
       "    (lrelu): LeakyReLU(negative_slope=0.01)\n",
       "    (prelu): PReLU(num_parameters=1)\n",
       "  )\n",
       ")"
      ]
     },
     "execution_count": null,
     "metadata": {},
     "output_type": "execute_result"
    }
   ],
   "source": [
    "model = MyModule()\n",
    "model"
   ]
  },
  {
   "cell_type": "markdown",
   "id": "c827d223-9ad4-458d-a159-77ed650c6588",
   "metadata": {},
   "source": [
    "### ParameterList"
   ]
  },
  {
   "cell_type": "code",
   "execution_count": null,
   "id": "abe24aa9-5699-4eb3-888c-5ffd4aa52319",
   "metadata": {},
   "outputs": [],
   "source": [
    "class MyModule(nn.Module):\n",
    "    def __init__(self):\n",
    "        super().__init__()\n",
    "        self.params = nn.ParameterList([nn.Parameter(torch.randn(10, 10)) for i in range(10)])\n",
    "\n",
    "    def forward(self, x):\n",
    "        # ParameterList can act as an iterable, or be indexed using ints\n",
    "        for i, p in enumerate(self.params):\n",
    "            x = self.params[i // 2].mm(x) + p.mm(x)\n",
    "        return x"
   ]
  },
  {
   "cell_type": "code",
   "execution_count": null,
   "id": "9cbcc3a0-191c-48b2-b28c-7672511395d4",
   "metadata": {},
   "outputs": [
    {
     "data": {
      "text/plain": [
       "MyModule(\n",
       "  (params): ParameterList(\n",
       "      (0): Parameter containing: [torch.float32 of size 10x10]\n",
       "      (1): Parameter containing: [torch.float32 of size 10x10]\n",
       "      (2): Parameter containing: [torch.float32 of size 10x10]\n",
       "      (3): Parameter containing: [torch.float32 of size 10x10]\n",
       "      (4): Parameter containing: [torch.float32 of size 10x10]\n",
       "      (5): Parameter containing: [torch.float32 of size 10x10]\n",
       "      (6): Parameter containing: [torch.float32 of size 10x10]\n",
       "      (7): Parameter containing: [torch.float32 of size 10x10]\n",
       "      (8): Parameter containing: [torch.float32 of size 10x10]\n",
       "      (9): Parameter containing: [torch.float32 of size 10x10]\n",
       "  )\n",
       ")"
      ]
     },
     "execution_count": null,
     "metadata": {},
     "output_type": "execute_result"
    }
   ],
   "source": [
    "model = MyModule()\n",
    "model"
   ]
  },
  {
   "cell_type": "markdown",
   "id": "88d7ff2e-c346-40ad-9e6a-5c15b1f771a5",
   "metadata": {},
   "source": [
    "### ParameterDict"
   ]
  },
  {
   "cell_type": "code",
   "execution_count": null,
   "id": "b2cca852-340a-44c9-b5c3-eed87535f00b",
   "metadata": {},
   "outputs": [],
   "source": [
    "class MyModule(nn.Module):\n",
    "    def __init__(self):\n",
    "        super().__init__()\n",
    "        self.params = nn.ParameterDict({\n",
    "                'left': nn.Parameter(torch.randn(5, 10)),\n",
    "                'right': nn.Parameter(torch.randn(5, 10))\n",
    "        })\n",
    "\n",
    "    def forward(self, x, choice):\n",
    "        x = self.params[choice].mm(x)\n",
    "        return x"
   ]
  },
  {
   "cell_type": "code",
   "execution_count": null,
   "id": "4b52141e-03d9-4af2-a3db-28b79f561562",
   "metadata": {},
   "outputs": [
    {
     "data": {
      "text/plain": [
       "MyModule(\n",
       "  (params): ParameterDict(\n",
       "      (left): Parameter containing: [torch.FloatTensor of size 5x10]\n",
       "      (right): Parameter containing: [torch.FloatTensor of size 5x10]\n",
       "  )\n",
       ")"
      ]
     },
     "execution_count": null,
     "metadata": {},
     "output_type": "execute_result"
    }
   ],
   "source": [
    "model = MyModule()\n",
    "model"
   ]
  },
  {
   "cell_type": "markdown",
   "id": "99fc5266-d7d3-451a-8fc8-e07f54107b60",
   "metadata": {},
   "source": [
    "## Convolution Layers "
   ]
  },
  {
   "cell_type": "markdown",
   "id": "76de5647-1fdf-44d6-85a1-63346e92bf6d",
   "metadata": {},
   "source": [
    "### nn.Conv1d"
   ]
  },
  {
   "cell_type": "code",
   "execution_count": null,
   "id": "17bf8c92-5ef2-46b6-a603-841bde9b60cf",
   "metadata": {},
   "outputs": [],
   "source": [
    "input1 = torch.torch.tensor([[[[ 1.,  2.,  3., 4., 5.],\n",
    "                                  [ 6.,  7.,  8., 9., 10.],\n",
    "                                  [11., 12., 13., 14., 15.],\n",
    "                                  [16., 17., 18., 19., 20.]]]])"
   ]
  },
  {
   "cell_type": "code",
   "execution_count": null,
   "id": "07eb385d-0469-4ecd-b4b9-58faf9590c47",
   "metadata": {},
   "outputs": [
    {
     "data": {
      "text/plain": [
       "tensor([[ 1.,  2.,  3.,  4.,  5.],\n",
       "        [ 6.,  7.,  8.,  9., 10.],\n",
       "        [11., 12., 13., 14., 15.],\n",
       "        [16., 17., 18., 19., 20.]])"
      ]
     },
     "execution_count": null,
     "metadata": {},
     "output_type": "execute_result"
    }
   ],
   "source": [
    "new = input1.reshape(4,5)\n",
    "new"
   ]
  },
  {
   "cell_type": "code",
   "execution_count": null,
   "id": "446133fe-750c-412c-9e08-110486c53be9",
   "metadata": {},
   "outputs": [
    {
     "data": {
      "text/plain": [
       "torch.nn.modules.conv.Conv1d"
      ]
     },
     "execution_count": null,
     "metadata": {},
     "output_type": "execute_result"
    }
   ],
   "source": [
    "m = nn.Conv1d(4, 2, 3, stride=2)\n",
    "type(m)"
   ]
  },
  {
   "cell_type": "code",
   "execution_count": null,
   "id": "155e10bd-67aa-4404-88fc-4e79d0b04c81",
   "metadata": {},
   "outputs": [
    {
     "name": "stdout",
     "output_type": "stream",
     "text": [
      "torch.Size([2, 4, 3])\n",
      "torch.Size([2])\n"
     ]
    }
   ],
   "source": [
    "for para in m.parameters():\n",
    "    print(para.shape)"
   ]
  },
  {
   "cell_type": "code",
   "execution_count": null,
   "id": "2df69ba9-37a3-4199-af79-1b6a8765d64f",
   "metadata": {},
   "outputs": [],
   "source": [
    "# input = torch.randn(20, 16, 50)\n",
    "output = m(new)"
   ]
  },
  {
   "cell_type": "code",
   "execution_count": null,
   "id": "3b0f1232-146f-4dc9-8422-52a8f2d7d07b",
   "metadata": {},
   "outputs": [
    {
     "data": {
      "text/plain": [
       "torch.Size([2, 2])"
      ]
     },
     "execution_count": null,
     "metadata": {},
     "output_type": "execute_result"
    }
   ],
   "source": [
    "output.shape"
   ]
  },
  {
   "cell_type": "code",
   "execution_count": null,
   "id": "760d620c-141f-47e4-a0ea-663cfbfed024",
   "metadata": {},
   "outputs": [
    {
     "data": {
      "text/plain": [
       "tensor([[-1.3600, -1.1102],\n",
       "        [ 6.1355,  6.0188]], grad_fn=<SqueezeBackward1>)"
      ]
     },
     "execution_count": null,
     "metadata": {},
     "output_type": "execute_result"
    }
   ],
   "source": [
    "output"
   ]
  },
  {
   "cell_type": "markdown",
   "id": "fc5d0bdc-c4db-454c-b399-bc1c9d655206",
   "metadata": {},
   "source": [
    "### nn.Conv2d"
   ]
  },
  {
   "cell_type": "code",
   "execution_count": null,
   "id": "b6c4e334-e38d-4271-8f60-f86ea04442e6",
   "metadata": {},
   "outputs": [
    {
     "data": {
      "text/plain": [
       "tensor([[[ 1.],\n",
       "         [ 2.],\n",
       "         [ 3.],\n",
       "         [ 4.],\n",
       "         [ 5.]],\n",
       "\n",
       "        [[ 6.],\n",
       "         [ 7.],\n",
       "         [ 8.],\n",
       "         [ 9.],\n",
       "         [10.]],\n",
       "\n",
       "        [[11.],\n",
       "         [12.],\n",
       "         [13.],\n",
       "         [14.],\n",
       "         [15.]],\n",
       "\n",
       "        [[16.],\n",
       "         [17.],\n",
       "         [18.],\n",
       "         [19.],\n",
       "         [20.]]])"
      ]
     },
     "execution_count": null,
     "metadata": {},
     "output_type": "execute_result"
    }
   ],
   "source": [
    "new = input1.reshape(4, 5,1)\n",
    "new"
   ]
  },
  {
   "cell_type": "code",
   "execution_count": null,
   "id": "d4b484d0-3ea7-45cc-9876-06365de733e8",
   "metadata": {},
   "outputs": [
    {
     "data": {
      "text/plain": [
       "torch.Size([2, 4, 1])"
      ]
     },
     "execution_count": null,
     "metadata": {},
     "output_type": "execute_result"
    }
   ],
   "source": [
    "# With square kernels and equal stride\n",
    "m = nn.Conv2d(4, 2, 3, stride=2)\n",
    "# non-square kernels and unequal stride and with padding\n",
    "m = nn.Conv2d(4, 2, (3, 5), stride=(2, 1), padding=(4, 2))\n",
    "# non-square kernels and unequal stride and with padding and dilation\n",
    "m = nn.Conv2d(4, 2, (3, 5), stride=(2, 1), padding=(4, 2), dilation=(3, 1))\n",
    "\n",
    "output = m(new)\n",
    "output.shape"
   ]
  },
  {
   "cell_type": "code",
   "execution_count": null,
   "id": "b809c916-75e4-4015-91f1-8dd4939af165",
   "metadata": {},
   "outputs": [
    {
     "data": {
      "text/plain": [
       "tensor([[[-1.3839],\n",
       "         [-1.8465],\n",
       "         [-0.8563],\n",
       "         [-0.0644]],\n",
       "\n",
       "        [[ 1.2715],\n",
       "         [ 1.5135],\n",
       "         [-2.8098],\n",
       "         [-3.2210]]], grad_fn=<SqueezeBackward1>)"
      ]
     },
     "execution_count": null,
     "metadata": {},
     "output_type": "execute_result"
    }
   ],
   "source": [
    "output"
   ]
  },
  {
   "cell_type": "markdown",
   "id": "43e396cc-ac32-4061-912e-e8b754749c6b",
   "metadata": {},
   "source": [
    "### nn.Conv3d"
   ]
  },
  {
   "cell_type": "code",
   "execution_count": null,
   "id": "6961f25e-dd86-42df-9362-21632c277c6a",
   "metadata": {},
   "outputs": [],
   "source": [
    "# With square kernels and equal stride\n",
    "m = nn.Conv3d(16, 33, 3, stride=2)\n",
    "# non-square kernels and unequal} stride and with padding\n",
    "m = nn.Conv3d(16, 33, (3, 5, 2), stride=(2, 1, 1), padding=(4, 2, 0))\n",
    "input = torch.randn(20, 16, 10, 50, 100)\n",
    "output = m(input)"
   ]
  },
  {
   "cell_type": "code",
   "execution_count": null,
   "id": "33d8749f-906b-4009-a68c-039fb4e23360",
   "metadata": {},
   "outputs": [
    {
     "data": {
      "text/plain": [
       "torch.Size([20, 33, 8, 50, 99])"
      ]
     },
     "execution_count": null,
     "metadata": {},
     "output_type": "execute_result"
    }
   ],
   "source": [
    "output.shape"
   ]
  },
  {
   "cell_type": "markdown",
   "id": "5dc6a30f-a85f-4d85-af8f-248e6eb541ea",
   "metadata": {},
   "source": [
    "### nn.ConvTranspose2d\n",
    "\n",
    "\n",
    "> This module can be seen as the gradient of Conv2d with respect to its input. It is also known as a fractionally-strided convolution or a deconvolution (although it is not an actual deconvolution operation as it does not compute a true inverse of convolution)."
   ]
  },
  {
   "cell_type": "code",
   "execution_count": null,
   "id": "7e56e0e6-a185-4a7c-93e2-75a468bc3668",
   "metadata": {},
   "outputs": [
    {
     "data": {
      "text/plain": [
       "torch.Size([20, 33, 93, 100])"
      ]
     },
     "execution_count": null,
     "metadata": {},
     "output_type": "execute_result"
    }
   ],
   "source": [
    "# With square kernels and equal stride\n",
    "m = nn.ConvTranspose2d(16, 33, 3, stride=2)\n",
    "# non-square kernels and unequal stride and with padding\n",
    "m = nn.ConvTranspose2d(16, 33, (3, 5), stride=(2, 1), padding=(4, 2))\n",
    "input = torch.randn(20, 16, 50, 100)\n",
    "output = m(input)\n",
    "output.shape"
   ]
  },
  {
   "cell_type": "code",
   "execution_count": null,
   "id": "1b775b1b-0d3a-4916-b80d-9065db9d0fbc",
   "metadata": {},
   "outputs": [
    {
     "data": {
      "text/plain": [
       "torch.Size([1, 16, 6, 6])"
      ]
     },
     "execution_count": null,
     "metadata": {},
     "output_type": "execute_result"
    }
   ],
   "source": [
    "# exact output size can be also specified as an argument\n",
    "input = torch.randn(1, 16, 12, 12)\n",
    "downsample = nn.Conv2d(16, 16, 3, stride=2, padding=1)\n",
    "upsample = nn.ConvTranspose2d(16, 16, 3, stride=2, padding=1)\n",
    "h = downsample(input)\n",
    "h.size()"
   ]
  },
  {
   "cell_type": "code",
   "execution_count": null,
   "id": "93327038-a7f3-4386-8ea4-27d11f21c493",
   "metadata": {},
   "outputs": [
    {
     "data": {
      "text/plain": [
       "torch.Size([1, 16, 12, 12])"
      ]
     },
     "execution_count": null,
     "metadata": {},
     "output_type": "execute_result"
    }
   ],
   "source": [
    "output = upsample(h, output_size=input.size())\n",
    "output.size()"
   ]
  },
  {
   "cell_type": "markdown",
   "id": "1c81d5e2-b8a7-4882-afbd-d724fe6c1f90",
   "metadata": {},
   "source": [
    "## Pooling Layers"
   ]
  },
  {
   "cell_type": "markdown",
   "id": "864a165b-31a5-4268-96ba-b7ce3bc52124",
   "metadata": {},
   "source": [
    "### nn.MaxPool2d\n",
    "\n",
    "> Applies a 2D max pooling over an input signal composed of several input planes."
   ]
  },
  {
   "cell_type": "code",
   "execution_count": null,
   "id": "c1052b72-6558-46ab-8888-e09b094ac1c9",
   "metadata": {},
   "outputs": [
    {
     "data": {
      "text/plain": [
       "tensor([[[ 1.,  2.,  3.,  4.,  5.],\n",
       "         [ 6.,  7.,  8.,  9., 10.],\n",
       "         [11., 12., 13., 14., 15.],\n",
       "         [16., 17., 18., 19., 20.]]])"
      ]
     },
     "execution_count": null,
     "metadata": {},
     "output_type": "execute_result"
    }
   ],
   "source": [
    "new = input1.reshape(1, 4,5)\n",
    "new"
   ]
  },
  {
   "cell_type": "code",
   "execution_count": null,
   "id": "481891ea-416c-4603-b00c-ee9487563c86",
   "metadata": {},
   "outputs": [
    {
     "data": {
      "text/plain": [
       "tensor([[[ 7.,  8.,  9., 10.],\n",
       "         [17., 18., 19., 20.]]])"
      ]
     },
     "execution_count": null,
     "metadata": {},
     "output_type": "execute_result"
    }
   ],
   "source": [
    "# pool of square window of size=3, stride=2\n",
    "m = nn.MaxPool2d(3, stride=2)\n",
    "# pool of non-square window\n",
    "m = nn.MaxPool2d((2, 2), stride=(2, 1))\n",
    "input = torch.randn(20, 16, 50, 32)\n",
    "output = m(new)\n",
    "output"
   ]
  },
  {
   "cell_type": "markdown",
   "id": "7db6a1a5-e9a6-4bd5-9630-b627353270b0",
   "metadata": {},
   "source": [
    "### nn.MaxUnpool2d\n",
    "\n",
    "> Computes a partial inverse of MaxPool2d."
   ]
  },
  {
   "cell_type": "code",
   "execution_count": null,
   "id": "e8b0195d-a8f3-4d62-8033-6298be0f396d",
   "metadata": {},
   "outputs": [],
   "source": [
    "input = torch.tensor([[[[ 1.,  2.,  3.,  4.],\n",
    "                            [ 5.,  6.,  7.,  8.],\n",
    "                            [ 9., 10., 11., 12.],\n",
    "                            [13., 14., 15., 16.]]]])"
   ]
  },
  {
   "cell_type": "code",
   "execution_count": null,
   "id": "9b327f57-bf35-4951-aa47-de7210949413",
   "metadata": {},
   "outputs": [
    {
     "data": {
      "text/plain": [
       "tensor([[[[ 0.,  0.,  0.,  0.],\n",
       "          [ 0.,  6.,  0.,  8.],\n",
       "          [ 0.,  0.,  0.,  0.],\n",
       "          [ 0., 14.,  0., 16.]]]])"
      ]
     },
     "execution_count": null,
     "metadata": {},
     "output_type": "execute_result"
    }
   ],
   "source": [
    "pool = nn.MaxPool2d(2, stride=2, return_indices=True)\n",
    "unpool = nn.MaxUnpool2d(2, stride=2)\n",
    "\n",
    "output, indices = pool(input)\n",
    "unpool(output, indices)"
   ]
  },
  {
   "cell_type": "code",
   "execution_count": null,
   "id": "6a9a6db1-4344-49c3-80f8-291374a710e5",
   "metadata": {},
   "outputs": [
    {
     "data": {
      "text/plain": [
       "tensor([[[[ 1.,  2.,  3.,  4.,  5.],\n",
       "          [ 6.,  7.,  8.,  9., 10.],\n",
       "          [11., 12., 13., 14., 15.],\n",
       "          [16., 17., 18., 19., 20.]]]])"
      ]
     },
     "execution_count": null,
     "metadata": {},
     "output_type": "execute_result"
    }
   ],
   "source": [
    "input1"
   ]
  },
  {
   "cell_type": "code",
   "execution_count": null,
   "id": "3c42ccb9-1ddc-4bc0-8e1f-777d8e968dd7",
   "metadata": {},
   "outputs": [
    {
     "data": {
      "text/plain": [
       "tensor([[[[ 0.,  0.,  0.,  0.,  0.],\n",
       "          [ 0.,  7.,  0.,  9.,  0.],\n",
       "          [ 0.,  0.,  0.,  0.,  0.],\n",
       "          [ 0., 17.,  0., 19.,  0.]]]])"
      ]
     },
     "execution_count": null,
     "metadata": {},
     "output_type": "execute_result"
    }
   ],
   "source": [
    "output, indices = pool(input1)\n",
    "# This call will not work without specifying output_size\n",
    "unpool(output, indices, output_size=input1.size())"
   ]
  },
  {
   "cell_type": "markdown",
   "id": "1b27bd30-5541-4509-937d-700088e1fd25",
   "metadata": {},
   "source": [
    "### nn.AvgPool2d\n",
    "\n",
    "> Applies a 2D average pooling over an input signal composed of several input planes."
   ]
  },
  {
   "cell_type": "code",
   "execution_count": null,
   "id": "5ec1fae5-a025-4dfb-ab3d-e22a869d452d",
   "metadata": {},
   "outputs": [
    {
     "data": {
      "text/plain": [
       "tensor([[[[ 1.,  2.,  3.,  4.,  5.],\n",
       "          [ 6.,  7.,  8.,  9., 10.],\n",
       "          [11., 12., 13., 14., 15.],\n",
       "          [16., 17., 18., 19., 20.]]]])"
      ]
     },
     "execution_count": null,
     "metadata": {},
     "output_type": "execute_result"
    }
   ],
   "source": [
    "input1"
   ]
  },
  {
   "cell_type": "code",
   "execution_count": null,
   "id": "c5a0ba4b-62b4-4ea3-93b3-0615be18fd62",
   "metadata": {},
   "outputs": [
    {
     "data": {
      "text/plain": [
       "tensor([[[[ 4.,  5.,  6.,  7.],\n",
       "          [ 9., 10., 11., 12.],\n",
       "          [14., 15., 16., 17.]]]])"
      ]
     },
     "execution_count": null,
     "metadata": {},
     "output_type": "execute_result"
    }
   ],
   "source": [
    "# pool of square window of size=3, stride=2\n",
    "m = nn.AvgPool2d(3, stride=2)\n",
    "# pool of non-square window\n",
    "m = nn.AvgPool2d((2, 2), stride=(1, 1))\n",
    "# input = torch.randn(20, 16, 50, 32)\n",
    "output = m(input1)\n",
    "output"
   ]
  },
  {
   "cell_type": "markdown",
   "id": "2bad6a43-ef56-4383-b300-043740987f9d",
   "metadata": {},
   "source": [
    "### nn.FractionalMaxPool2d\n",
    "\n",
    "> Applies a 2D fractional max pooling over an input signal composed of several input planes."
   ]
  },
  {
   "cell_type": "code",
   "execution_count": null,
   "id": "a6f43fde-a019-4626-b738-cdb25dd70167",
   "metadata": {},
   "outputs": [
    {
     "data": {
      "text/plain": [
       "tensor([[[[ 7.,  8., 10.],\n",
       "          [17., 18., 20.]]]])"
      ]
     },
     "execution_count": null,
     "metadata": {},
     "output_type": "execute_result"
    }
   ],
   "source": [
    "# pool of square window of size=3, and target output size 13x12\n",
    "m = nn.FractionalMaxPool2d(3, output_size=(13, 12))\n",
    "# pool of square window and target output size being half of input image size\n",
    "m = nn.FractionalMaxPool2d(2, output_ratio=(0.7, 0.7))\n",
    "output = m(input1)\n",
    "output"
   ]
  },
  {
   "cell_type": "markdown",
   "id": "bce13e71-69d3-404f-b77c-62d5093c1cb5",
   "metadata": {},
   "source": [
    "### nn.LPPool2d\n",
    "\n",
    "> Applies a 2D power-average pooling over an input signal composed of several input planes."
   ]
  },
  {
   "cell_type": "code",
   "execution_count": null,
   "id": "965f99fd-dd21-46fd-b0b8-911ebc263bc6",
   "metadata": {},
   "outputs": [
    {
     "data": {
      "text/plain": [
       "tensor([[[[25.4396, 29.7206, 34.0561]]]])"
      ]
     },
     "execution_count": null,
     "metadata": {},
     "output_type": "execute_result"
    }
   ],
   "source": [
    "# power-2 pool of square window of size=3, stride=2\n",
    "m = nn.LPPool2d(2, 3, stride=2)\n",
    "# pool of non-square window of power 1.2\n",
    "m = nn.LPPool2d(1.2, (3, 2), stride=(2, 1))\n",
    "\n",
    "output = m(input)\n",
    "output"
   ]
  },
  {
   "cell_type": "markdown",
   "id": "717d6933-74d0-4ac0-96e2-620b7780c2e5",
   "metadata": {},
   "source": [
    "### nn.AdaptiveMaxPool2d\n",
    "\n",
    "> Applies a 2D adaptive max pooling over an input signal composed of several input planes."
   ]
  },
  {
   "cell_type": "code",
   "execution_count": null,
   "id": "6aa4794f-3326-49f8-98c6-19e34d090a41",
   "metadata": {},
   "outputs": [
    {
     "data": {
      "text/plain": [
       "tensor([[[[ 1.,  2.,  3.,  3.,  4.,  5.,  5.],\n",
       "          [ 6.,  7.,  8.,  8.,  9., 10., 10.],\n",
       "          [11., 12., 13., 13., 14., 15., 15.],\n",
       "          [16., 17., 18., 18., 19., 20., 20.],\n",
       "          [16., 17., 18., 18., 19., 20., 20.]]]])"
      ]
     },
     "execution_count": null,
     "metadata": {},
     "output_type": "execute_result"
    }
   ],
   "source": [
    "# target output size of 5x7\n",
    "m = nn.AdaptiveMaxPool2d((5, 7))\n",
    "output = m(input1)\n",
    "output"
   ]
  },
  {
   "cell_type": "code",
   "execution_count": null,
   "id": "d3f38d97-8704-4e3a-a529-b43cc3c5e0c8",
   "metadata": {},
   "outputs": [
    {
     "data": {
      "text/plain": [
       "tensor([[[[ 1.,  2.,  3.,  3.,  4.,  5.,  5.],\n",
       "          [ 6.,  7.,  8.,  8.,  9., 10., 10.],\n",
       "          [ 6.,  7.,  8.,  8.,  9., 10., 10.],\n",
       "          [11., 12., 13., 13., 14., 15., 15.],\n",
       "          [11., 12., 13., 13., 14., 15., 15.],\n",
       "          [16., 17., 18., 18., 19., 20., 20.],\n",
       "          [16., 17., 18., 18., 19., 20., 20.]]]])"
      ]
     },
     "execution_count": null,
     "metadata": {},
     "output_type": "execute_result"
    }
   ],
   "source": [
    "# target output size of 7x7 (square)\n",
    "m = nn.AdaptiveMaxPool2d(7)\n",
    "output = m(input1)\n",
    "output"
   ]
  },
  {
   "cell_type": "code",
   "execution_count": null,
   "id": "afcd79dd-7765-42ff-b008-32ad87448c88",
   "metadata": {},
   "outputs": [
    {
     "data": {
      "text/plain": [
       "tensor([[[[ 1.,  2.,  3.,  3.,  4.,  5.,  5.],\n",
       "          [ 6.,  7.,  8.,  8.,  9., 10., 10.],\n",
       "          [11., 12., 13., 13., 14., 15., 15.],\n",
       "          [16., 17., 18., 18., 19., 20., 20.]]]])"
      ]
     },
     "execution_count": null,
     "metadata": {},
     "output_type": "execute_result"
    }
   ],
   "source": [
    "# target output size of 10x7\n",
    "m = nn.AdaptiveMaxPool2d((None, 7))\n",
    "output = m(input1)\n",
    "output"
   ]
  },
  {
   "cell_type": "markdown",
   "id": "47094d5c-a5b0-4662-9f72-a64125ebbfb7",
   "metadata": {},
   "source": [
    "### nn.AdaptiveAvgPool2d\n",
    "\n",
    "> Applies a 2D adaptive average pooling over an input signal composed of several input planes."
   ]
  },
  {
   "cell_type": "code",
   "execution_count": null,
   "id": "0f9547b5-8506-4db0-9d0c-602433e92ed3",
   "metadata": {},
   "outputs": [
    {
     "data": {
      "text/plain": [
       "tensor([[[[ 1.0000,  1.5000,  2.5000,  3.0000,  3.5000,  4.5000,  5.0000],\n",
       "          [ 3.5000,  4.0000,  5.0000,  5.5000,  6.0000,  7.0000,  7.5000],\n",
       "          [ 8.5000,  9.0000, 10.0000, 10.5000, 11.0000, 12.0000, 12.5000],\n",
       "          [13.5000, 14.0000, 15.0000, 15.5000, 16.0000, 17.0000, 17.5000],\n",
       "          [16.0000, 16.5000, 17.5000, 18.0000, 18.5000, 19.5000, 20.0000]]]])"
      ]
     },
     "execution_count": null,
     "metadata": {},
     "output_type": "execute_result"
    }
   ],
   "source": [
    "# target output size of 5x7\n",
    "m = nn.AdaptiveAvgPool2d((5, 7))\n",
    "m(input1)"
   ]
  },
  {
   "cell_type": "code",
   "execution_count": null,
   "id": "2d111ca1-ac1c-48b7-bf75-7b7107d633fa",
   "metadata": {},
   "outputs": [
    {
     "data": {
      "text/plain": [
       "tensor([[[[ 1.0000,  1.5000,  2.5000,  3.0000,  3.5000,  4.5000,  5.0000],\n",
       "          [ 3.5000,  4.0000,  5.0000,  5.5000,  6.0000,  7.0000,  7.5000],\n",
       "          [ 6.0000,  6.5000,  7.5000,  8.0000,  8.5000,  9.5000, 10.0000],\n",
       "          [ 8.5000,  9.0000, 10.0000, 10.5000, 11.0000, 12.0000, 12.5000],\n",
       "          [11.0000, 11.5000, 12.5000, 13.0000, 13.5000, 14.5000, 15.0000],\n",
       "          [13.5000, 14.0000, 15.0000, 15.5000, 16.0000, 17.0000, 17.5000],\n",
       "          [16.0000, 16.5000, 17.5000, 18.0000, 18.5000, 19.5000, 20.0000]]]])"
      ]
     },
     "execution_count": null,
     "metadata": {},
     "output_type": "execute_result"
    }
   ],
   "source": [
    "# target output size of 7x7 (square)\n",
    "m = nn.AdaptiveAvgPool2d(7)\n",
    "m(input1)"
   ]
  },
  {
   "cell_type": "code",
   "execution_count": null,
   "id": "248b506f-7357-4782-a6eb-e777117ddf04",
   "metadata": {},
   "outputs": [
    {
     "data": {
      "text/plain": [
       "tensor([[[[ 1.0000,  1.5000,  2.5000,  3.0000,  3.5000,  4.5000,  5.0000],\n",
       "          [ 6.0000,  6.5000,  7.5000,  8.0000,  8.5000,  9.5000, 10.0000],\n",
       "          [11.0000, 11.5000, 12.5000, 13.0000, 13.5000, 14.5000, 15.0000],\n",
       "          [16.0000, 16.5000, 17.5000, 18.0000, 18.5000, 19.5000, 20.0000]]]])"
      ]
     },
     "execution_count": null,
     "metadata": {},
     "output_type": "execute_result"
    }
   ],
   "source": [
    "# target output size of 10x7\n",
    "m = nn.AdaptiveAvgPool2d((None, 7))\n",
    "m(input1)"
   ]
  },
  {
   "cell_type": "markdown",
   "id": "3a8064db-1cc9-495c-a7c3-6cf22a7dcfcd",
   "metadata": {},
   "source": [
    "## Padding Layers"
   ]
  },
  {
   "cell_type": "markdown",
   "id": "ba96fcb7-28fa-46e5-a183-3a837a679ade",
   "metadata": {},
   "source": [
    "### nn.ReflectionPad2d\n",
    "\n",
    "> Pads the input tensor using the reflection of the input boundary."
   ]
  },
  {
   "cell_type": "code",
   "execution_count": null,
   "id": "d334e521-018f-48c0-9c15-86f4a05f8580",
   "metadata": {},
   "outputs": [
    {
     "data": {
      "text/plain": [
       "tensor([[[[0., 1., 2.],\n",
       "          [3., 4., 5.],\n",
       "          [6., 7., 8.]]]])"
      ]
     },
     "execution_count": null,
     "metadata": {},
     "output_type": "execute_result"
    }
   ],
   "source": [
    "m = nn.ReflectionPad2d(2)\n",
    "input = torch.arange(9, dtype=torch.float).reshape(1, 1, 3, 3)\n",
    "input"
   ]
  },
  {
   "cell_type": "code",
   "execution_count": null,
   "id": "50f9598a-e20a-4239-a5e5-1ed03b8eb710",
   "metadata": {},
   "outputs": [
    {
     "data": {
      "text/plain": [
       "tensor([[[[8., 7., 6., 7., 8., 7., 6.],\n",
       "          [5., 4., 3., 4., 5., 4., 3.],\n",
       "          [2., 1., 0., 1., 2., 1., 0.],\n",
       "          [5., 4., 3., 4., 5., 4., 3.],\n",
       "          [8., 7., 6., 7., 8., 7., 6.],\n",
       "          [5., 4., 3., 4., 5., 4., 3.],\n",
       "          [2., 1., 0., 1., 2., 1., 0.]]]])"
      ]
     },
     "execution_count": null,
     "metadata": {},
     "output_type": "execute_result"
    }
   ],
   "source": [
    "m(input)"
   ]
  },
  {
   "cell_type": "code",
   "execution_count": null,
   "id": "4204c8d8-c841-441d-85c4-aef70501e544",
   "metadata": {},
   "outputs": [
    {
     "data": {
      "text/plain": [
       "tensor([[[[7., 6., 7., 8., 7.],\n",
       "          [4., 3., 4., 5., 4.],\n",
       "          [1., 0., 1., 2., 1.],\n",
       "          [4., 3., 4., 5., 4.],\n",
       "          [7., 6., 7., 8., 7.]]]])"
      ]
     },
     "execution_count": null,
     "metadata": {},
     "output_type": "execute_result"
    }
   ],
   "source": [
    "# using different paddings for different sides\n",
    "m = nn.ReflectionPad2d((1, 1, 2, 0))\n",
    "m(input)"
   ]
  },
  {
   "cell_type": "markdown",
   "id": "ba304e40-2da3-4093-8a8b-adf9e8a7a7d3",
   "metadata": {},
   "source": [
    "### nn.ReplicationPad2d\n",
    "\n",
    "> Pads the input tensor using replication of the input boundary."
   ]
  },
  {
   "cell_type": "code",
   "execution_count": null,
   "id": "9a20f95e-8cf9-476e-b50e-51325b6e1b39",
   "metadata": {},
   "outputs": [
    {
     "data": {
      "text/plain": [
       "tensor([[[[0., 0., 0., 1., 2., 2., 2.],\n",
       "          [0., 0., 0., 1., 2., 2., 2.],\n",
       "          [0., 0., 0., 1., 2., 2., 2.],\n",
       "          [3., 3., 3., 4., 5., 5., 5.],\n",
       "          [6., 6., 6., 7., 8., 8., 8.],\n",
       "          [6., 6., 6., 7., 8., 8., 8.],\n",
       "          [6., 6., 6., 7., 8., 8., 8.]]]])"
      ]
     },
     "execution_count": null,
     "metadata": {},
     "output_type": "execute_result"
    }
   ],
   "source": [
    "m = nn.ReplicationPad2d(2)\n",
    "\n",
    "m(input)"
   ]
  },
  {
   "cell_type": "code",
   "execution_count": null,
   "id": "b571a181-7529-4393-a787-fd085e40cc2f",
   "metadata": {},
   "outputs": [
    {
     "data": {
      "text/plain": [
       "tensor([[[[0., 0., 1., 2., 2.],\n",
       "          [0., 0., 1., 2., 2.],\n",
       "          [0., 0., 1., 2., 2.],\n",
       "          [3., 3., 4., 5., 5.],\n",
       "          [6., 6., 7., 8., 8.]]]])"
      ]
     },
     "execution_count": null,
     "metadata": {},
     "output_type": "execute_result"
    }
   ],
   "source": [
    "# using different paddings for different sides\n",
    "m = nn.ReplicationPad2d((1, 1, 2, 0))\n",
    "m(input)"
   ]
  },
  {
   "cell_type": "markdown",
   "id": "37227b62-903c-432f-b2d8-ae7f111fc7c0",
   "metadata": {},
   "source": [
    "### nn.ZeroPad2d\n",
    "\n",
    "> Pads the input tensor boundaries with zero."
   ]
  },
  {
   "cell_type": "code",
   "execution_count": null,
   "id": "87903665-4ad3-49e7-8014-5a99d241ff1e",
   "metadata": {},
   "outputs": [
    {
     "data": {
      "text/plain": [
       "tensor([[[[0., 0., 0., 0., 0., 0., 0.],\n",
       "          [0., 0., 0., 0., 0., 0., 0.],\n",
       "          [0., 0., 0., 1., 2., 0., 0.],\n",
       "          [0., 0., 3., 4., 5., 0., 0.],\n",
       "          [0., 0., 6., 7., 8., 0., 0.],\n",
       "          [0., 0., 0., 0., 0., 0., 0.],\n",
       "          [0., 0., 0., 0., 0., 0., 0.]]]])"
      ]
     },
     "execution_count": null,
     "metadata": {},
     "output_type": "execute_result"
    }
   ],
   "source": [
    "m = nn.ZeroPad2d(2)\n",
    "m(input)"
   ]
  },
  {
   "cell_type": "code",
   "execution_count": null,
   "id": "2b21e80f-acae-498c-9d57-2c7fad46f360",
   "metadata": {},
   "outputs": [
    {
     "data": {
      "text/plain": [
       "tensor([[[[0., 0., 0., 0., 0.],\n",
       "          [0., 0., 0., 0., 0.],\n",
       "          [0., 0., 1., 2., 0.],\n",
       "          [0., 3., 4., 5., 0.],\n",
       "          [0., 6., 7., 8., 0.]]]])"
      ]
     },
     "execution_count": null,
     "metadata": {},
     "output_type": "execute_result"
    }
   ],
   "source": [
    "# using different paddings for different sides\n",
    "m = nn.ZeroPad2d((1, 1, 2, 0))\n",
    "m(input)"
   ]
  },
  {
   "cell_type": "markdown",
   "id": "c821296f-2e75-4c37-8720-b99b3ed60c92",
   "metadata": {},
   "source": [
    "### nn.ConstantPad2d\n",
    "\n",
    "> Pads the input tensor boundaries with a constant value."
   ]
  },
  {
   "cell_type": "code",
   "execution_count": null,
   "id": "91ac3475-aee6-4042-ae22-d6bfe9c74fa5",
   "metadata": {},
   "outputs": [
    {
     "data": {
      "text/plain": [
       "tensor([[[[11., 11., 11., 11., 11., 11., 11.],\n",
       "          [11., 11., 11., 11., 11., 11., 11.],\n",
       "          [11., 11.,  0.,  1.,  2., 11., 11.],\n",
       "          [11., 11.,  3.,  4.,  5., 11., 11.],\n",
       "          [11., 11.,  6.,  7.,  8., 11., 11.],\n",
       "          [11., 11., 11., 11., 11., 11., 11.],\n",
       "          [11., 11., 11., 11., 11., 11., 11.]]]])"
      ]
     },
     "execution_count": null,
     "metadata": {},
     "output_type": "execute_result"
    }
   ],
   "source": [
    "m = nn.ConstantPad2d(2, 11)\n",
    "\n",
    "m(input)"
   ]
  },
  {
   "cell_type": "code",
   "execution_count": null,
   "id": "c1466663-15e4-4e18-80af-3a2727be159e",
   "metadata": {},
   "outputs": [
    {
     "data": {
      "text/plain": [
       "tensor([[[[11., 11., 11., 11., 11., 11.],\n",
       "          [11., 11., 11., 11., 11., 11.],\n",
       "          [11., 11., 11.,  0.,  1.,  2.],\n",
       "          [11., 11., 11.,  3.,  4.,  5.],\n",
       "          [11., 11., 11.,  6.,  7.,  8.],\n",
       "          [11., 11., 11., 11., 11., 11.]]]])"
      ]
     },
     "execution_count": null,
     "metadata": {},
     "output_type": "execute_result"
    }
   ],
   "source": [
    "# using different paddings for different sides\n",
    "m = nn.ConstantPad2d((3, 0, 2, 1), 11)\n",
    "m(input)"
   ]
  },
  {
   "cell_type": "markdown",
   "id": "1f3d3429-ae2b-4075-a9e6-e53134d90ca5",
   "metadata": {},
   "source": [
    "## Non-linear Activations (weighted sum, nonlinearity)"
   ]
  },
  {
   "cell_type": "code",
   "execution_count": null,
   "id": "72845081-e58c-470e-b3ea-f72bae933392",
   "metadata": {},
   "outputs": [],
   "source": [
    "input = torch.linspace(-5,5,100)"
   ]
  },
  {
   "cell_type": "code",
   "execution_count": null,
   "id": "abfa66c2-a228-429b-8eb2-1e72c99764c5",
   "metadata": {},
   "outputs": [],
   "source": [
    "import matplotlib.pyplot as plt \n",
    "def plot_show(input, output):\n",
    "    plt.plot(input, input, color='green', linestyle='dashed',\n",
    "         linewidth=1, label = 'input')\n",
    "    plt.plot(input, output, color='red',\n",
    "             linewidth=1, label = 'output')\n",
    "    plt.legend()\n",
    "    plt.show()"
   ]
  },
  {
   "cell_type": "markdown",
   "id": "c10220a2-bc1e-4b3c-90ca-edab052e86a8",
   "metadata": {},
   "source": [
    "### nn.LogSigmoid()"
   ]
  },
  {
   "cell_type": "code",
   "execution_count": null,
   "id": "ae50d397-0e39-44bb-9110-cb2d905c0d96",
   "metadata": {},
   "outputs": [],
   "source": [
    "m = nn.LogSigmoid()\n",
    "output = m(input)"
   ]
  },
  {
   "cell_type": "code",
   "execution_count": null,
   "id": "506eaba6-eadb-4951-8de0-42f643e3060f",
   "metadata": {},
   "outputs": [
    {
     "data": {
      "image/png": "[encoded data removed]",
      "text/plain": [
       "<Figure size 640x480 with 1 Axes>"
      ]
     },
     "metadata": {},
     "output_type": "display_data"
    }
   ],
   "source": [
    "plot_show(input, output)"
   ]
  },
  {
   "cell_type": "code",
   "execution_count": null,
   "id": "a30276f4-8fcb-42bb-bc08-aff2dd05a502",
   "metadata": {},
   "outputs": [
    {
     "data": {
      "image/png": "[encoded data removed]",
      "text/plain": [
       "<Figure size 640x480 with 1 Axes>"
      ]
     },
     "metadata": {},
     "output_type": "display_data"
    }
   ],
   "source": [
    "m = nn.ReLU()\n",
    "output = m(input)\n",
    "plot_show(input, output)"
   ]
  },
  {
   "cell_type": "markdown",
   "id": "fd22c52d-5a17-4b07-b640-7bde83e66a1a",
   "metadata": {},
   "source": [
    "### nn.Sigmoid()"
   ]
  },
  {
   "cell_type": "code",
   "execution_count": null,
   "id": "9f857be7-617b-49c2-b484-0947b490c39c",
   "metadata": {},
   "outputs": [
    {
     "data": {
      "image/png": "[encoded data removed]",
      "text/plain": [
       "<Figure size 640x480 with 1 Axes>"
      ]
     },
     "metadata": {},
     "output_type": "display_data"
    }
   ],
   "source": [
    "m = nn.Sigmoid()\n",
    "output = m(input)\n",
    "plot_show(input, output)"
   ]
  },
  {
   "cell_type": "markdown",
   "id": "10e249bb-9734-445e-b060-a95bd64a5120",
   "metadata": {},
   "source": [
    "### nn.Softplus()"
   ]
  },
  {
   "cell_type": "code",
   "execution_count": null,
   "id": "9bffd0c3-4d0e-4361-a8ca-88fcd7032936",
   "metadata": {},
   "outputs": [
    {
     "data": {
      "image/png": "[encoded data removed]",
      "text/plain": [
       "<Figure size 640x480 with 1 Axes>"
      ]
     },
     "metadata": {},
     "output_type": "display_data"
    }
   ],
   "source": [
    "m = nn.Softplus()\n",
    "output = m(input)\n",
    "plot_show(input, output)"
   ]
  },
  {
   "cell_type": "markdown",
   "id": "4dbd1f19-3aeb-4aba-97b5-6f68c58a24bb",
   "metadata": {},
   "source": [
    "### nn.Tanh()"
   ]
  },
  {
   "cell_type": "code",
   "execution_count": null,
   "id": "40dc595c-6e9c-4b05-8434-c171006e819a",
   "metadata": {},
   "outputs": [
    {
     "data": {
      "image/png": "[encoded data removed]",
      "text/plain": [
       "<Figure size 640x480 with 1 Axes>"
      ]
     },
     "metadata": {},
     "output_type": "display_data"
    }
   ],
   "source": [
    "m = nn.Tanh()\n",
    "output = m(input)\n",
    "plot_show(input, output)\n"
   ]
  },
  {
   "cell_type": "markdown",
   "id": "828a44a7-8661-435f-be37-1b9a3497f77f",
   "metadata": {},
   "source": [
    "### nn.Threshold"
   ]
  },
  {
   "cell_type": "code",
   "execution_count": null,
   "id": "b2b77a22-8470-4b1b-ac39-f001c6013119",
   "metadata": {},
   "outputs": [
    {
     "data": {
      "image/png": "[encoded data removed]",
      "text/plain": [
       "<Figure size 640x480 with 1 Axes>"
      ]
     },
     "metadata": {},
     "output_type": "display_data"
    }
   ],
   "source": [
    "m = nn.Threshold(0, -5)\n",
    "output = m(input)\n",
    "plot_show(input, output)\n"
   ]
  },
  {
   "cell_type": "markdown",
   "id": "750be5b4-2830-433f-93e9-9bfcefad54ae",
   "metadata": {},
   "source": [
    "### nn.SELU"
   ]
  },
  {
   "cell_type": "code",
   "execution_count": null,
   "id": "eb3f0fec-4064-4149-bbe8-ade84b88dd80",
   "metadata": {},
   "outputs": [
    {
     "data": {
      "image/png": "[encoded data removed]",
      "text/plain": [
       "<Figure size 640x480 with 1 Axes>"
      ]
     },
     "metadata": {},
     "output_type": "display_data"
    }
   ],
   "source": [
    "m = nn.SELU()\n",
    "output = m(input)\n",
    "plot_show(input, output)"
   ]
  },
  {
   "cell_type": "markdown",
   "id": "f9851906-cc0c-4f32-8dbb-799f98e586a6",
   "metadata": {},
   "source": [
    "### Non-linear Activations (other)"
   ]
  },
  {
   "cell_type": "code",
   "execution_count": null,
   "id": "0d68bd25-5672-41f9-883b-575ddf99721a",
   "metadata": {},
   "outputs": [
    {
     "data": {
      "text/plain": [
       "tensor([[-1.0000, -0.7778, -0.5556, -0.3333, -0.1111],\n",
       "        [ 0.1111,  0.3333,  0.5556,  0.7778,  1.0000]])"
      ]
     },
     "execution_count": null,
     "metadata": {},
     "output_type": "execute_result"
    }
   ],
   "source": [
    "input = torch.linspace(-1,1,10)\n",
    "input = input.reshape(2,5)\n",
    "input"
   ]
  },
  {
   "cell_type": "code",
   "execution_count": null,
   "id": "1a7e6ee2-f170-492b-bafc-dab6eb642d02",
   "metadata": {},
   "outputs": [],
   "source": [
    "m = nn.Softmin(dim=1)"
   ]
  },
  {
   "cell_type": "code",
   "execution_count": null,
   "id": "d708c28d-dbc3-45d9-ab3f-8c61a063cbfe",
   "metadata": {},
   "outputs": [],
   "source": [
    "output = m(input)"
   ]
  },
  {
   "cell_type": "code",
   "execution_count": null,
   "id": "6a2057da-b92d-4a57-becf-7dad63506429",
   "metadata": {},
   "outputs": [
    {
     "data": {
      "text/plain": [
       "tensor([[0.2970, 0.2379, 0.1905, 0.1525, 0.1221],\n",
       "        [0.2970, 0.2379, 0.1905, 0.1525, 0.1221]])"
      ]
     },
     "execution_count": null,
     "metadata": {},
     "output_type": "execute_result"
    }
   ],
   "source": [
    "output"
   ]
  },
  {
   "cell_type": "code",
   "execution_count": null,
   "id": "ed32a58e-2021-41ed-8026-1998e9fa29ed",
   "metadata": {},
   "outputs": [
    {
     "data": {
      "text/plain": [
       "tensor(2.0000)"
      ]
     },
     "execution_count": null,
     "metadata": {},
     "output_type": "execute_result"
    }
   ],
   "source": [
    "output.sum()"
   ]
  },
  {
   "cell_type": "code",
   "execution_count": null,
   "id": "f6d24638-3af5-41ea-9402-8e2e5d57df91",
   "metadata": {},
   "outputs": [
    {
     "data": {
      "image/png": "[encoded data removed]",
      "text/plain": [
       "<Figure size 640x480 with 1 Axes>"
      ]
     },
     "metadata": {},
     "output_type": "display_data"
    }
   ],
   "source": [
    "plot_show(input.flatten(), output.flatten())"
   ]
  },
  {
   "cell_type": "markdown",
   "id": "14673e62-0696-4a29-82ca-c664876c9bb4",
   "metadata": {},
   "source": [
    "### Normalization Layers"
   ]
  },
  {
   "cell_type": "markdown",
   "id": "bf5944a4-d54e-488a-874e-0495e184a9db",
   "metadata": {},
   "source": [
    "### nn.BatchNorm2d"
   ]
  },
  {
   "cell_type": "code",
   "execution_count": null,
   "id": "40b45dd1-c834-4cc4-9b5a-33c5b932b47b",
   "metadata": {},
   "outputs": [
    {
     "data": {
      "text/plain": [
       "tensor([[[[ 0.,  1.,  2.],\n",
       "          [ 3.,  4.,  5.],\n",
       "          [ 6.,  7.,  8.]],\n",
       "\n",
       "         [[ 9., 10., 11.],\n",
       "          [12., 13., 14.],\n",
       "          [15., 16., 17.]],\n",
       "\n",
       "         [[18., 19., 20.],\n",
       "          [21., 22., 23.],\n",
       "          [24., 25., 26.]]]])"
      ]
     },
     "execution_count": null,
     "metadata": {},
     "output_type": "execute_result"
    }
   ],
   "source": [
    "input = torch.arange(27, dtype=torch.float).reshape(1,3, 3, 3)\n",
    "input"
   ]
  },
  {
   "cell_type": "code",
   "execution_count": null,
   "id": "cf1e9cb9-e178-45fb-b0e7-2747925b69b4",
   "metadata": {},
   "outputs": [
    {
     "data": {
      "text/plain": [
       "tensor([[[[-1.5492e+00, -1.1619e+00, -7.7460e-01],\n",
       "          [-3.8730e-01,  0.0000e+00,  3.8730e-01],\n",
       "          [ 7.7460e-01,  1.1619e+00,  1.5492e+00]],\n",
       "\n",
       "         [[-1.5492e+00, -1.1619e+00, -7.7460e-01],\n",
       "          [-3.8730e-01,  1.7881e-07,  3.8730e-01],\n",
       "          [ 7.7460e-01,  1.1619e+00,  1.5492e+00]],\n",
       "\n",
       "         [[-1.5492e+00, -1.1619e+00, -7.7460e-01],\n",
       "          [-3.8730e-01, -3.5763e-07,  3.8730e-01],\n",
       "          [ 7.7460e-01,  1.1619e+00,  1.5492e+00]]]])"
      ]
     },
     "execution_count": null,
     "metadata": {},
     "output_type": "execute_result"
    }
   ],
   "source": [
    "# With Learnable Parameters\n",
    "m = nn.BatchNorm2d(3)\n",
    "# Without Learnable Parameters\n",
    "m = nn.BatchNorm2d(3, affine=False)\n",
    "\n",
    "output = m(input)\n",
    "output"
   ]
  },
  {
   "cell_type": "markdown",
   "id": "4b2e320c-f362-4ce1-849c-287ee05766a6",
   "metadata": {},
   "source": [
    "### nn.GroupNorm"
   ]
  },
  {
   "cell_type": "code",
   "execution_count": null,
   "id": "37a0dbc6-6acc-4cb6-af8a-0303497b1401",
   "metadata": {},
   "outputs": [
    {
     "data": {
      "text/plain": [
       "tensor([[[[-1.6690e+00, -1.5407e+00, -1.4123e+00],\n",
       "          [-1.2839e+00, -1.1555e+00, -1.0271e+00],\n",
       "          [-8.9872e-01, -7.7033e-01, -6.4194e-01]],\n",
       "\n",
       "         [[-5.1355e-01, -3.8516e-01, -2.5678e-01],\n",
       "          [-1.2839e-01, -2.9802e-08,  1.2839e-01],\n",
       "          [ 2.5678e-01,  3.8516e-01,  5.1355e-01]],\n",
       "\n",
       "         [[ 6.4194e-01,  7.7033e-01,  8.9872e-01],\n",
       "          [ 1.0271e+00,  1.1555e+00,  1.2839e+00],\n",
       "          [ 1.4123e+00,  1.5407e+00,  1.6690e+00]]]],\n",
       "       grad_fn=<NativeGroupNormBackward0>)"
      ]
     },
     "execution_count": null,
     "metadata": {},
     "output_type": "execute_result"
    }
   ],
   "source": [
    "# Separate 6 channels into 3 groups\n",
    "m = nn.GroupNorm(1, 3)\n",
    "output = m(input)\n",
    "output"
   ]
  },
  {
   "cell_type": "code",
   "execution_count": null,
   "id": "43460ad4-a35c-4669-94d1-1f2fd6d91d73",
   "metadata": {},
   "outputs": [],
   "source": [
    "input_t = torch.randn(20, 6, 10, 10)\n",
    "# Separate 6 channels into 6 groups (equivalent with InstanceNorm)\n",
    "m = nn.GroupNorm(6, 6)\n",
    "output = m(input_t)"
   ]
  },
  {
   "cell_type": "code",
   "execution_count": null,
   "id": "d2155326-271b-4bb0-b00e-9cc42d38a1c9",
   "metadata": {},
   "outputs": [],
   "source": [
    "# Put all 6 channels into a single group (equivalent with LayerNorm)\n",
    "m = nn.GroupNorm(1, 6)\n",
    "# Activating the module\n",
    "output = m(input_t)"
   ]
  },
  {
   "cell_type": "markdown",
   "id": "eb2ca9a8-f9c7-48c5-8a35-b9789aa95478",
   "metadata": {},
   "source": [
    "### nn.LayerNorm"
   ]
  },
  {
   "cell_type": "code",
   "execution_count": null,
   "id": "6564c75a-baa3-46be-be71-24dc23962c3d",
   "metadata": {},
   "outputs": [],
   "source": [
    "# NLP Example\n",
    "batch, sentence_length, embedding_dim = 20, 5, 10\n",
    "embedding = torch.randn(batch, sentence_length, embedding_dim)\n",
    "layer_norm = nn.LayerNorm(embedding_dim)\n",
    "# Activate module\n",
    "output = layer_norm(embedding)\n"
   ]
  },
  {
   "cell_type": "code",
   "execution_count": null,
   "id": "a81a7014-fea1-490d-b647-a4a2b5c52d84",
   "metadata": {},
   "outputs": [
    {
     "data": {
      "text/plain": [
       "tensor(1.0733)"
      ]
     },
     "execution_count": null,
     "metadata": {},
     "output_type": "execute_result"
    }
   ],
   "source": [
    "embedding[7,:,:].std()"
   ]
  },
  {
   "cell_type": "code",
   "execution_count": null,
   "id": "7c2159bd-6df6-4e58-825f-c57aa1b3083c",
   "metadata": {},
   "outputs": [
    {
     "data": {
      "text/plain": [
       "tensor(1.0101, grad_fn=<StdBackward0>)"
      ]
     },
     "execution_count": null,
     "metadata": {},
     "output_type": "execute_result"
    }
   ],
   "source": [
    "output[7,:,:].std()"
   ]
  },
  {
   "cell_type": "markdown",
   "id": "a8e639e4-7f95-4550-9ab7-d22920c385b4",
   "metadata": {},
   "source": [
    "## Recurrent Layers\n",
    "\n",
    "> RNNBase - Base class for RNN modules (RNN, LSTM, GRU)."
   ]
  },
  {
   "cell_type": "markdown",
   "id": "6c33415e-435d-40f7-b92e-b31e0be8fb49",
   "metadata": {},
   "source": [
    "## nn.RNN"
   ]
  },
  {
   "cell_type": "code",
   "execution_count": null,
   "id": "2046dda4-8b6c-462c-8f70-64f488251e25",
   "metadata": {},
   "outputs": [],
   "source": [
    "rnn = nn.RNN(10, 20, 2)\n",
    "input = torch.randn(5, 3, 10)\n",
    "h0 = torch.randn(2, 3, 20)\n",
    "output, hn = rnn(input, h0)"
   ]
  },
  {
   "cell_type": "code",
   "execution_count": null,
   "id": "8674d176-2b11-4543-90a9-59b470c73622",
   "metadata": {},
   "outputs": [
    {
     "data": {
      "text/plain": [
       "torch.Size([5, 3, 20])"
      ]
     },
     "execution_count": null,
     "metadata": {},
     "output_type": "execute_result"
    }
   ],
   "source": [
    "output.shape"
   ]
  },
  {
   "cell_type": "markdown",
   "id": "0e36ddfe-154b-4ae8-a14d-3c12d21ea230",
   "metadata": {},
   "source": [
    "### nn.LSTM"
   ]
  },
  {
   "cell_type": "code",
   "execution_count": null,
   "id": "2afd126a-f31d-4624-8bb5-7b9a9baffc43",
   "metadata": {},
   "outputs": [
    {
     "data": {
      "text/plain": [
       "torch.Size([5, 3, 20])"
      ]
     },
     "execution_count": null,
     "metadata": {},
     "output_type": "execute_result"
    }
   ],
   "source": [
    "lstm = nn.LSTM(10, 20, 2)\n",
    "input = torch.randn(5, 3, 10)\n",
    "h0 = torch.randn(2, 3, 20)\n",
    "c0 = torch.randn(2, 3, 20)\n",
    "output, (hn, cn) = lstm(input, (h0, c0))\n",
    "output.shape"
   ]
  },
  {
   "cell_type": "markdown",
   "id": "4c6f7e35-3dc8-44df-b851-410b0822b5ce",
   "metadata": {},
   "source": [
    "### nn.GRU"
   ]
  },
  {
   "cell_type": "code",
   "execution_count": null,
   "id": "b66547e8-16a5-4334-86dd-175adcca71b4",
   "metadata": {},
   "outputs": [
    {
     "data": {
      "text/plain": [
       "torch.Size([5, 3, 20])"
      ]
     },
     "execution_count": null,
     "metadata": {},
     "output_type": "execute_result"
    }
   ],
   "source": [
    "gru = nn.GRU(10, 20, 2)\n",
    "input = torch.randn(5, 3, 10)\n",
    "h0 = torch.randn(2, 3, 20)\n",
    "output, hn = gru(input, h0)\n",
    "output.shape"
   ]
  },
  {
   "cell_type": "markdown",
   "id": "69b8c41c-6942-48a8-89e8-1547c4a9e2b0",
   "metadata": {},
   "source": [
    "### nn.RNNCell"
   ]
  },
  {
   "cell_type": "code",
   "execution_count": null,
   "id": "f03dac6a-d650-4355-93b5-10f7540d836e",
   "metadata": {},
   "outputs": [],
   "source": [
    "rnn = nn.RNNCell(10, 20)\n",
    "input = torch.randn(6, 3, 10)\n",
    "hx = torch.randn(3, 20)\n",
    "output = []\n",
    "for i in range(6):\n",
    "    hx = rnn(input[i], hx)\n",
    "    output.append(hx)\n"
   ]
  },
  {
   "cell_type": "markdown",
   "id": "715886a2-8d97-40e6-a286-95bb9f993276",
   "metadata": {},
   "source": [
    "## Transformer Layers"
   ]
  },
  {
   "cell_type": "markdown",
   "id": "5a8fa299-166b-4eea-9152-3d83632bce4a",
   "metadata": {},
   "source": [
    "### nn.Transformer"
   ]
  },
  {
   "cell_type": "code",
   "execution_count": null,
   "id": "3cda3fa6-c1df-4939-b6c9-1f82a8da814f",
   "metadata": {},
   "outputs": [],
   "source": [
    "transformer_model = nn.Transformer(nhead=16, num_encoder_layers=12)\n",
    "src = torch.rand((10, 32, 512))\n",
    "tgt = torch.rand((20, 32, 512))\n",
    "out = transformer_model(src, tgt)"
   ]
  },
  {
   "cell_type": "markdown",
   "id": "d7636ff1-92df-4bc4-9428-070f4d0cf618",
   "metadata": {},
   "source": [
    "### nn.TransformerEncoderLayer"
   ]
  },
  {
   "cell_type": "code",
   "execution_count": null,
   "id": "35d884d6-621a-4a78-b681-d1e4b11caaa0",
   "metadata": {},
   "outputs": [],
   "source": [
    "encoder_layer = nn.TransformerEncoderLayer(d_model=512, nhead=8)\n",
    "transformer_encoder = nn.TransformerEncoder(encoder_layer, num_layers=6)\n",
    "src = torch.rand(10, 32, 512)\n",
    "out = transformer_encoder(src)"
   ]
  },
  {
   "cell_type": "markdown",
   "id": "00174f6f-e1a3-4e72-8460-d052ca08ea9f",
   "metadata": {},
   "source": [
    "### nn.TransformerDecoderLayer"
   ]
  },
  {
   "cell_type": "code",
   "execution_count": null,
   "id": "773ac3d0-18ee-457d-bdd9-0e2aeadd3e3a",
   "metadata": {},
   "outputs": [],
   "source": [
    "decoder_layer = nn.TransformerDecoderLayer(d_model=512, nhead=8)\n",
    "transformer_decoder = nn.TransformerDecoder(decoder_layer, num_layers=6)\n",
    "memory = torch.rand(10, 32, 512)\n",
    "tgt = torch.rand(20, 32, 512)\n",
    "out = transformer_decoder(tgt, memory)"
   ]
  },
  {
   "cell_type": "markdown",
   "id": "a6066676-e2a7-408e-9ca7-bb86c0a84708",
   "metadata": {},
   "source": [
    "### nn.TransformerEncoderLayer"
   ]
  },
  {
   "cell_type": "code",
   "execution_count": null,
   "id": "b3f0f824-75b7-4148-a577-bb062f83ac22",
   "metadata": {},
   "outputs": [],
   "source": [
    "encoder_layer = nn.TransformerEncoderLayer(d_model=512, nhead=8, batch_first=True)\n",
    "src = torch.rand(32, 10, 512)\n",
    "out = encoder_layer(src)"
   ]
  },
  {
   "cell_type": "markdown",
   "id": "2b04a0cf-6933-4cb4-8daa-1f84a6087551",
   "metadata": {},
   "source": [
    "### nn.TransformerDecoderLayer"
   ]
  },
  {
   "cell_type": "code",
   "execution_count": null,
   "id": "367f9df4-da3d-444c-80aa-bfd4f7b365d6",
   "metadata": {},
   "outputs": [],
   "source": [
    "decoder_layer = nn.TransformerDecoderLayer(d_model=512, nhead=8, batch_first=True)\n",
    "memory = torch.rand(32, 10, 512)\n",
    "tgt = torch.rand(32, 20, 512)\n",
    "out = decoder_layer(tgt, memory)"
   ]
  },
  {
   "cell_type": "markdown",
   "id": "2d1dde9c-7e56-4454-a2da-526c88a6fb6f",
   "metadata": {},
   "source": [
    "## Linear Layers"
   ]
  },
  {
   "cell_type": "markdown",
   "id": "8878f635-8ba0-4b9d-8c27-e3e489a827a4",
   "metadata": {},
   "source": [
    "### nn.Identity\n",
    "\n",
    "> A placeholder identity operator that is argument-insensitive."
   ]
  },
  {
   "cell_type": "code",
   "execution_count": null,
   "id": "7525310a-f1d2-45a7-956c-a40c36723738",
   "metadata": {},
   "outputs": [
    {
     "name": "stdout",
     "output_type": "stream",
     "text": [
      "torch.Size([128, 20])\n"
     ]
    }
   ],
   "source": [
    "m = nn.Identity(54, unused_argument1=0.1, unused_argument2=False)\n",
    "input = torch.randn(128, 20)\n",
    "output = m(input)\n",
    "print(output.size())"
   ]
  },
  {
   "cell_type": "markdown",
   "id": "d5430393-cc9e-4ecd-8582-c0348594ad93",
   "metadata": {},
   "source": [
    "### nn.Linear"
   ]
  },
  {
   "cell_type": "code",
   "execution_count": null,
   "id": "d09d702a-c97c-44d4-92c0-7510f6568ae4",
   "metadata": {},
   "outputs": [
    {
     "name": "stdout",
     "output_type": "stream",
     "text": [
      "torch.Size([128, 30])\n"
     ]
    }
   ],
   "source": [
    "m = nn.Linear(20, 30)\n",
    "input = torch.randn(128, 20)\n",
    "output = m(input)\n",
    "print(output.size())"
   ]
  },
  {
   "cell_type": "code",
   "execution_count": null,
   "id": "101c827d-b5cf-4f80-823f-afc93ee45e3a",
   "metadata": {},
   "outputs": [
    {
     "name": "stdout",
     "output_type": "stream",
     "text": [
      "torch.Size([30, 20])\n",
      "torch.Size([30])\n"
     ]
    }
   ],
   "source": [
    "for para in m.parameters():\n",
    "    print(para.shape)"
   ]
  },
  {
   "cell_type": "markdown",
   "id": "004230f1-d90f-42a6-b2ff-3271d078e321",
   "metadata": {},
   "source": [
    "### Dropout Layers"
   ]
  },
  {
   "cell_type": "code",
   "execution_count": null,
   "id": "4196f0dd-6754-4444-9238-b8cc0c70327c",
   "metadata": {},
   "outputs": [
    {
     "data": {
      "text/plain": [
       "torch.Size([20, 16])"
      ]
     },
     "execution_count": null,
     "metadata": {},
     "output_type": "execute_result"
    }
   ],
   "source": [
    "m = nn.Dropout(p=0.2)\n",
    "input = torch.randn(20, 16)\n",
    "output = m(input)\n",
    "output.shape"
   ]
  },
  {
   "cell_type": "code",
   "execution_count": null,
   "id": "caa422cc-5df8-4e1c-b963-2ebc63a4b922",
   "metadata": {},
   "outputs": [
    {
     "data": {
      "text/plain": [
       "torch.Size([20, 16, 32, 32])"
      ]
     },
     "execution_count": null,
     "metadata": {},
     "output_type": "execute_result"
    }
   ],
   "source": [
    "m = nn.Dropout2d(p=0.2)\n",
    "input = torch.randn(20, 16, 32, 32)\n",
    "output = m(input)\n",
    "output.shape"
   ]
  },
  {
   "cell_type": "code",
   "execution_count": null,
   "id": "6f554fda-9d48-4f28-afb6-1e85aa6d78bb",
   "metadata": {},
   "outputs": [
    {
     "data": {
      "text/plain": [
       "torch.Size([20, 16])"
      ]
     },
     "execution_count": null,
     "metadata": {},
     "output_type": "execute_result"
    }
   ],
   "source": [
    "m = nn.AlphaDropout(p=0.2)\n",
    "input = torch.randn(20, 16)\n",
    "output = m(input)\n",
    "output.shape"
   ]
  },
  {
   "cell_type": "code",
   "execution_count": null,
   "id": "89739d73-2e89-457c-befd-cb333285d542",
   "metadata": {},
   "outputs": [
    {
     "data": {
      "text/plain": [
       "torch.Size([20, 16, 4, 32, 32])"
      ]
     },
     "execution_count": null,
     "metadata": {},
     "output_type": "execute_result"
    }
   ],
   "source": [
    "m = nn.FeatureAlphaDropout(p=0.2)\n",
    "input = torch.randn(20, 16, 4, 32, 32)\n",
    "output = m(input)\n",
    "output.shape"
   ]
  },
  {
   "cell_type": "markdown",
   "id": "2aa56190-1de0-44df-b2d9-3cec72b0ab50",
   "metadata": {},
   "source": [
    "### Loss Functions"
   ]
  },
  {
   "cell_type": "markdown",
   "id": "16f173da-0eec-4078-83d1-3d7eac869201",
   "metadata": {},
   "source": [
    "### nn.L1Loss"
   ]
  },
  {
   "cell_type": "code",
   "execution_count": null,
   "id": "b38b03f6-5cc1-4597-a662-581c6abbc784",
   "metadata": {},
   "outputs": [
    {
     "data": {
      "text/plain": [
       "(tensor([ 1.,  2.,  3.,  4.,  5.,  6.,  7.,  8.,  9., 10.], requires_grad=True),\n",
       " tensor([ 1.1000,  2.1000,  3.1000,  4.1000,  5.1000,  6.1000,  7.1000,  8.1000,\n",
       "          9.1000, 10.1000], requires_grad=True))"
      ]
     },
     "execution_count": null,
     "metadata": {},
     "output_type": "execute_result"
    }
   ],
   "source": [
    "input = torch.linspace(1,10,10, requires_grad=True)\n",
    "target = torch.linspace(1.1, 10.1, 10, requires_grad=True)\n",
    "input, target"
   ]
  },
  {
   "cell_type": "code",
   "execution_count": null,
   "id": "30806b5e-e943-4387-900d-0eb9bc0cdb1f",
   "metadata": {},
   "outputs": [
    {
     "data": {
      "text/plain": [
       "tensor(0.1000, grad_fn=<MeanBackward0>)"
      ]
     },
     "execution_count": null,
     "metadata": {},
     "output_type": "execute_result"
    }
   ],
   "source": [
    "loss = nn.L1Loss()\n",
    "output = loss(input, target)\n",
    "output"
   ]
  },
  {
   "cell_type": "markdown",
   "id": "bda2933d-0850-4271-ab71-225e2026fb0f",
   "metadata": {},
   "source": [
    "### nn.MSELoss"
   ]
  },
  {
   "cell_type": "code",
   "execution_count": null,
   "id": "b17f75ee-c2f1-42e5-870b-3300130653e1",
   "metadata": {},
   "outputs": [
    {
     "data": {
      "text/plain": [
       "tensor(0.0100, grad_fn=<MseLossBackward0>)"
      ]
     },
     "execution_count": null,
     "metadata": {},
     "output_type": "execute_result"
    }
   ],
   "source": [
    "loss = nn.MSELoss()\n",
    "output = loss(input, target)\n",
    "output"
   ]
  },
  {
   "cell_type": "markdown",
   "id": "335a0e15-8991-4974-8c59-0b0fb64b7b1f",
   "metadata": {},
   "source": [
    "### nn.CrossEntropyLoss"
   ]
  },
  {
   "cell_type": "code",
   "execution_count": null,
   "id": "84c48b26-6e92-4043-b4e7-fb22960fef73",
   "metadata": {},
   "outputs": [
    {
     "data": {
      "text/plain": [
       "tensor(195.1833, grad_fn=<DivBackward1>)"
      ]
     },
     "execution_count": null,
     "metadata": {},
     "output_type": "execute_result"
    }
   ],
   "source": [
    "# Example of target with class indices\n",
    "loss = nn.CrossEntropyLoss()\n",
    "output = loss(input, target)\n",
    "output"
   ]
  },
  {
   "cell_type": "code",
   "execution_count": null,
   "id": "42a18096-0423-4440-a3bc-1959b5318717",
   "metadata": {},
   "outputs": [
    {
     "data": {
      "text/plain": [
       "tensor(0.0050, grad_fn=<MeanBackward0>)"
      ]
     },
     "execution_count": null,
     "metadata": {},
     "output_type": "execute_result"
    }
   ],
   "source": [
    "loss = nn.GaussianNLLLoss()\n",
    "\n",
    "var = torch.ones(10, requires_grad=True)  # heteroscedastic\n",
    "output = loss(input, target, var)\n",
    "output"
   ]
  },
  {
   "cell_type": "markdown",
   "id": "11335dc3-1797-4efb-bda4-88245dc36013",
   "metadata": {},
   "source": [
    "## Vision Layers"
   ]
  },
  {
   "cell_type": "markdown",
   "id": "c118c841-483b-41e4-b8bf-bec072b46b8e",
   "metadata": {},
   "source": [
    "Rearrange elements in a tensor according to an upscaling factor."
   ]
  },
  {
   "cell_type": "code",
   "execution_count": null,
   "id": "a3ef4f29-dedc-4483-a51a-814b778a2ccf",
   "metadata": {},
   "outputs": [
    {
     "name": "stdout",
     "output_type": "stream",
     "text": [
      "torch.Size([1, 1, 12, 12])\n"
     ]
    }
   ],
   "source": [
    "pixel_shuffle = nn.PixelShuffle(3)\n",
    "input = torch.randn(1, 9, 4, 4)\n",
    "output = pixel_shuffle(input)\n",
    "print(output.size())"
   ]
  },
  {
   "cell_type": "code",
   "execution_count": null,
   "id": "4e031dd9-a91a-4606-aba6-17db74abf945",
   "metadata": {},
   "outputs": [
    {
     "name": "stdout",
     "output_type": "stream",
     "text": [
      "torch.Size([1, 9, 4, 4])\n"
     ]
    }
   ],
   "source": [
    "pixel_unshuffle = nn.PixelUnshuffle(3)\n",
    "input = torch.randn(1, 1, 12, 12)\n",
    "output = pixel_unshuffle(input)\n",
    "print(output.size())"
   ]
  },
  {
   "cell_type": "code",
   "execution_count": null,
   "id": "ac9020d6-0d6c-4ff5-9f8e-95170d9abbc7",
   "metadata": {},
   "outputs": [],
   "source": []
  }
 ],
 "metadata": {
  "kernelspec": {
   "display_name": "python3",
   "language": "python",
   "name": "python3"
  },
  "widgets": {
   "application/vnd.jupyter.widget-state+json": {
    "state": {},
    "version_major": 2,
    "version_minor": 0
   }
  }
 },
 "nbformat": 4,
 "nbformat_minor": 5
}
