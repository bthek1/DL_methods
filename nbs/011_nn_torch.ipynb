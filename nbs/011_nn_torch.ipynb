{
 "cells": [
  {
   "cell_type": "markdown",
   "id": "71b1f0fc-1870-4a75-8480-db58aed548c6",
   "metadata": {},
   "source": [
    "# nn_torch\n",
    "\n",
    ">  nn_torch\n",
    "\n",
    "\n",
    "- skip_showdoc: true\n",
    "- skip_exec: true"
   ]
  },
  {
   "cell_type": "code",
   "execution_count": null,
   "id": "015df8b6-b176-47d5-9075-a3783ac847ed",
   "metadata": {},
   "outputs": [],
   "source": [
    "#| default_exp torch"
   ]
  },
  {
   "cell_type": "code",
   "execution_count": null,
   "id": "ed167a40-28ef-4e36-84cb-e07e990d1311",
   "metadata": {},
   "outputs": [],
   "source": [
    "import torch\n",
    "import numpy as np"
   ]
  },
  {
   "cell_type": "code",
   "execution_count": null,
   "id": "5dd58b44-94e4-46ad-988f-c43ef407dea2",
   "metadata": {},
   "outputs": [
    {
     "data": {
      "text/plain": [
       "True"
      ]
     },
     "execution_count": null,
     "metadata": {},
     "output_type": "execute_result"
    }
   ],
   "source": [
    "torch.cuda.is_available()"
   ]
  },
  {
   "cell_type": "code",
   "execution_count": null,
   "id": "9ed8062e-2ebd-4c9e-98d8-bbc4beccd8c5",
   "metadata": {},
   "outputs": [],
   "source": []
  }
 ],
 "metadata": {
  "kernelspec": {
   "display_name": "python3",
   "language": "python",
   "name": "python3"
  },
  "widgets": {
   "application/vnd.jupyter.widget-state+json": {
    "state": {},
    "version_major": 2,
    "version_minor": 0
   }
  }
 },
 "nbformat": 4,
 "nbformat_minor": 5
}
