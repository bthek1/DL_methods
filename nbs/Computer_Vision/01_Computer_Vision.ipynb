{
 "cells": [
  {
   "cell_type": "markdown",
   "id": "61675874-efaf-407f-a1cf-3ff41210a846",
   "metadata": {},
   "source": [
    "# Computer Vision Models\n",
    "\n",
    "> Computer Vision Models\n",
    "\n",
    "- skip_showdoc: true\n",
    "- skip_exec: true\n"
   ]
  },
  {
   "cell_type": "markdown",
   "id": "825343d1-b30c-4ce7-b500-3e7d513c6f97",
   "metadata": {},
   "source": [
    "TODO\n",
    "\n",
    "- Image classification deep dive- models, dataset, hyperparameters, loss functions\n",
    "- Image mulit classification deep dive - models, dataset, hyperparameters\n",
    "- object detection deep dive - models, dataset, hyperparameters\n",
    "- panoptic segmentation deep dive - models, dataset, hyperparameters, loss functions\n",
    "- semantic segmentation deep dive - models, dataset, loss functions, hyperparameters\n",
    "- instance segmentation deep dive - models, dataset, loss functions, hyperparameters\n",
    "- "
   ]
  },
  {
   "cell_type": "code",
   "execution_count": null,
   "id": "bd780413-eb25-4a6d-a872-e080aa9f27f6",
   "metadata": {},
   "outputs": [],
   "source": []
  }
 ],
 "metadata": {
  "kernelspec": {
   "display_name": "python3",
   "language": "python",
   "name": "python3"
  },
  "widgets": {
   "application/vnd.jupyter.widget-state+json": {
    "state": {},
    "version_major": 2,
    "version_minor": 0
   }
  }
 },
 "nbformat": 4,
 "nbformat_minor": 5
}
