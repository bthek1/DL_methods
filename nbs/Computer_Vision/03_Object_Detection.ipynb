{
 "cells": [
  {
   "cell_type": "markdown",
   "id": "61675874-efaf-407f-a1cf-3ff41210a846",
   "metadata": {},
   "source": [
    "# Object Detection\n",
    "\n",
    "> The task of identifying and localizing objects within an image by drawing bounding boxes around each detected object and classifying them.\n",
    "\n",
    "\n",
    "- skip_showdoc: true\n",
    "- skip_exec: true\n"
   ]
  },
  {
   "cell_type": "markdown",
   "id": "a09fdd09-f04c-46fa-bb6e-8f6b1079fa38",
   "metadata": {},
   "source": [
    "## Dataset"
   ]
  },
  {
   "cell_type": "markdown",
   "id": "01e78a98-d33d-4906-a4a1-673f717bf617",
   "metadata": {},
   "source": [
    "## Models"
   ]
  },
  {
   "cell_type": "markdown",
   "id": "ed11f10f-ba7b-46b5-a8e4-b5f057187761",
   "metadata": {},
   "source": [
    "- Region-Based Convolutional Neural Networks (R-CNN): Propose regions and then classify them.\n",
    "  - Examples: R-CNN, Fast R-CNN, Faster R-CNN.\n",
    "- Single Shot MultiBox Detector (SSD): Detects objects in a single forward pass of the network.\n",
    "- You Only Look Once (YOLO): Divides the image into a grid and predicts bounding boxes and probabilities for each grid cell.\n",
    "- RetinaNet: Uses a feature pyramid network (FPN) and focal loss to handle class imbalance during training."
   ]
  },
  {
   "cell_type": "markdown",
   "id": "f604a63b-7bcd-4963-bdd5-690854cc0981",
   "metadata": {},
   "source": [
    "## Hyperparameters"
   ]
  },
  {
   "cell_type": "markdown",
   "id": "c93a4dc4-8216-487f-8783-dfd94c17f2c2",
   "metadata": {},
   "source": [
    "## Loss Functions"
   ]
  },
  {
   "cell_type": "code",
   "execution_count": null,
   "id": "04561efa-39ed-461f-9c3e-e6ca252d3dde",
   "metadata": {},
   "outputs": [],
   "source": []
  }
 ],
 "metadata": {
  "kernelspec": {
   "display_name": "python3",
   "language": "python",
   "name": "python3"
  },
  "widgets": {
   "application/vnd.jupyter.widget-state+json": {
    "state": {},
    "version_major": 2,
    "version_minor": 0
   }
  }
 },
 "nbformat": 4,
 "nbformat_minor": 5
}
