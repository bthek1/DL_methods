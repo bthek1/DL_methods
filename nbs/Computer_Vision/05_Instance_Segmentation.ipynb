{
 "cells": [
  {
   "cell_type": "markdown",
   "id": "61675874-efaf-407f-a1cf-3ff41210a846",
   "metadata": {},
   "source": [
    "# Instance Segmentation\n",
    "\n",
    "> Identifies each object instance separately and assigns a unique label to each instance.\n",
    "\n",
    "- skip_showdoc: true\n",
    "- skip_exec: true\n"
   ]
  },
  {
   "cell_type": "markdown",
   "id": "a09fdd09-f04c-46fa-bb6e-8f6b1079fa38",
   "metadata": {},
   "source": [
    "## Dataset"
   ]
  },
  {
   "cell_type": "markdown",
   "id": "01e78a98-d33d-4906-a4a1-673f717bf617",
   "metadata": {},
   "source": [
    "## Models"
   ]
  },
  {
   "cell_type": "markdown",
   "id": "a14b6ce6-614f-4f7a-8701-1d1f6f051222",
   "metadata": {},
   "source": [
    "Mask R-CNN (extends Faster R-CNN by adding a branch for predicting segmentation masks for each region of interest)."
   ]
  },
  {
   "cell_type": "markdown",
   "id": "f604a63b-7bcd-4963-bdd5-690854cc0981",
   "metadata": {},
   "source": [
    "## Hyperparameters"
   ]
  },
  {
   "cell_type": "markdown",
   "id": "c93a4dc4-8216-487f-8783-dfd94c17f2c2",
   "metadata": {},
   "source": [
    "## Loss Functions"
   ]
  },
  {
   "cell_type": "code",
   "execution_count": null,
   "id": "04561efa-39ed-461f-9c3e-e6ca252d3dde",
   "metadata": {},
   "outputs": [],
   "source": []
  }
 ],
 "metadata": {
  "kernelspec": {
   "display_name": "python3",
   "language": "python",
   "name": "python3"
  },
  "widgets": {
   "application/vnd.jupyter.widget-state+json": {
    "state": {},
    "version_major": 2,
    "version_minor": 0
   }
  }
 },
 "nbformat": 4,
 "nbformat_minor": 5
}
