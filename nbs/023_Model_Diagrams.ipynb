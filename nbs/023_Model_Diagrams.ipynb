{
 "cells": [
  {
   "cell_type": "markdown",
   "id": "af57353a-fb9b-4330-8da5-bbad37c03de9",
   "metadata": {},
   "source": [
    "# Model Diagrams\n",
    "\n",
    "> Create any model into Diagrams\n",
    "\n",
    "- skip_showdoc: true\n",
    "- skip_exec: true"
   ]
  },
  {
   "cell_type": "markdown",
   "id": "9533510c-c407-42cd-a700-5d8650c78439",
   "metadata": {},
   "source": [
    "## Neutral Network"
   ]
  },
  {
   "cell_type": "code",
   "execution_count": null,
   "id": "209d2e3e-a359-49a2-a794-503e95ae3a83",
   "metadata": {},
   "outputs": [],
   "source": [
    "import torch\n",
    "import torch.nn as nn\n",
    "import torch.nn.functional as F\n",
    "import torchvision\n",
    "import torchvision.transforms as transforms \n",
    "from torchvision.transforms import ToPILImage\n",
    "import matplotlib.pyplot as plt\n",
    "import numpy as np"
   ]
  },
  {
   "cell_type": "code",
   "execution_count": null,
   "id": "21d83d2e-5623-4a4e-8400-d453612c71ea",
   "metadata": {},
   "outputs": [],
   "source": [
    "device = torch.device('cuda' if torch.cuda.is_available() else 'cpu')"
   ]
  },
  {
   "cell_type": "code",
   "execution_count": null,
   "id": "9e67eca6-919e-4e38-87b6-c110c6d4634a",
   "metadata": {},
   "outputs": [],
   "source": [
    "#Option 1 (create nn modules)\n",
    "class NeuralNet2(nn.Module):\n",
    "    def __init__(self, input_size, hidden_size, num_classes):\n",
    "        super(NeuralNet2, self).__init__()\n",
    "        self.linear1 = nn.Linear(input_size, hidden_size)\n",
    "        self.relu = nn.ReLU()\n",
    "        self.linear2 = nn.Linear(hidden_size, num_classes)\n",
    "        self.sigmoid = nn.Sigmoid()\n",
    "        \n",
    "\n",
    "    def forward(self, x):\n",
    "        out = self.linear1(x)\n",
    "        out = self.relu(out)\n",
    "        out = self.linear2(out)\n",
    "        out = self.sigmoid(out)\n",
    "\n",
    "        return out"
   ]
  },
  {
   "cell_type": "code",
   "execution_count": null,
   "id": "7a6ba272-5f5c-497a-be4c-da12573648d0",
   "metadata": {},
   "outputs": [],
   "source": [
    "# Image Classifier Neural Network\n",
    "class ImageClassifier(nn.Module): \n",
    "    def __init__(self):\n",
    "        super().__init__()\n",
    "        self.model = nn.Sequential(\n",
    "            nn.Conv2d(3, 32, (3,3)), \n",
    "            nn.ReLU(),\n",
    "            nn.Conv2d(32, 64, (3,3)), \n",
    "            nn.ReLU(),\n",
    "            nn.Conv2d(64, 64, (3,3)), \n",
    "            nn.ReLU(),\n",
    "            nn.Flatten(), \n",
    "            nn.Linear(64*(28-2)*(28-2), 10)  \n",
    "        )\n",
    "\n",
    "    def forward(self, x): \n",
    "        return self.model(x)"
   ]
  },
  {
   "cell_type": "code",
   "execution_count": null,
   "id": "855eb0ab-ffe2-4935-a622-dfc9fa5f1405",
   "metadata": {},
   "outputs": [
    {
     "data": {
      "text/plain": [
       "ImageClassifier(\n",
       "  (model): Sequential(\n",
       "    (0): Conv2d(3, 32, kernel_size=(3, 3), stride=(1, 1))\n",
       "    (1): ReLU()\n",
       "    (2): Conv2d(32, 64, kernel_size=(3, 3), stride=(1, 1))\n",
       "    (3): ReLU()\n",
       "    (4): Conv2d(64, 64, kernel_size=(3, 3), stride=(1, 1))\n",
       "    (5): ReLU()\n",
       "    (6): Flatten(start_dim=1, end_dim=-1)\n",
       "    (7): Linear(in_features=43264, out_features=10, bias=True)\n",
       "  )\n",
       ")"
      ]
     },
     "execution_count": null,
     "metadata": {},
     "output_type": "execute_result"
    }
   ],
   "source": [
    "model = ImageClassifier()\n",
    "model"
   ]
  },
  {
   "cell_type": "code",
   "execution_count": null,
   "id": "c87082a8-8575-4df3-9b81-5250ed9b2ae6",
   "metadata": {},
   "outputs": [
    {
     "name": "stdout",
     "output_type": "stream",
     "text": [
      "model.0.weight        size: torch.Size([32, 3, 3, 3])\n",
      "model.0.bias        size: torch.Size([32])\n",
      "model.2.weight        size: torch.Size([64, 32, 3, 3])\n",
      "model.2.bias        size: torch.Size([64])\n",
      "model.4.weight        size: torch.Size([64, 64, 3, 3])\n",
      "model.4.bias        size: torch.Size([64])\n",
      "model.7.weight        size: torch.Size([10, 43264])\n",
      "model.7.bias        size: torch.Size([10])\n"
     ]
    }
   ],
   "source": [
    "for item in model.state_dict():\n",
    "    print(f'{item}        size: {model.state_dict()[item].shape}')"
   ]
  },
  {
   "cell_type": "code",
   "execution_count": null,
   "id": "eafe20a3-2db8-400d-b60e-4079aa64f0dd",
   "metadata": {},
   "outputs": [
    {
     "name": "stdout",
     "output_type": "stream",
     "text": [
      "torch.Size([32, 3, 3, 3])\n",
      "torch.Size([32])\n",
      "torch.Size([64, 32, 3, 3])\n",
      "torch.Size([64])\n",
      "torch.Size([64, 64, 3, 3])\n",
      "torch.Size([64])\n",
      "torch.Size([10, 43264])\n",
      "torch.Size([10])\n"
     ]
    }
   ],
   "source": [
    "for param in model.parameters():\n",
    "    print(param.shape)"
   ]
  },
  {
   "cell_type": "code",
   "execution_count": null,
   "id": "d6729af7-4402-4ac0-93da-665df2a9b674",
   "metadata": {},
   "outputs": [
    {
     "name": "stdout",
     "output_type": "stream",
     "text": [
      "Sequential(\n",
      "  (0): Conv2d(3, 32, kernel_size=(3, 3), stride=(1, 1))\n",
      "  (1): ReLU()\n",
      "  (2): Conv2d(32, 64, kernel_size=(3, 3), stride=(1, 1))\n",
      "  (3): ReLU()\n",
      "  (4): Conv2d(64, 64, kernel_size=(3, 3), stride=(1, 1))\n",
      "  (5): ReLU()\n",
      "  (6): Flatten(start_dim=1, end_dim=-1)\n",
      "  (7): Linear(in_features=43264, out_features=10, bias=True)\n",
      ")\n"
     ]
    }
   ],
   "source": [
    "for child in model.children():\n",
    "    print(child)"
   ]
  },
  {
   "cell_type": "code",
   "execution_count": null,
   "id": "f603a3f6-d506-4607-9b01-0eab404eb5f6",
   "metadata": {},
   "outputs": [
    {
     "data": {
      "text/plain": [
       "['sadf', 'asdf(123(123']"
      ]
     },
     "execution_count": null,
     "metadata": {},
     "output_type": "execute_result"
    }
   ],
   "source": [
    "a = 'sadf(asdf(123(123'\n",
    "a.split('(', 1)"
   ]
  },
  {
   "cell_type": "code",
   "execution_count": null,
   "id": "50fdba6b-b65c-4ede-88e7-c7bb41af4d81",
   "metadata": {},
   "outputs": [
    {
     "name": "stdout",
     "output_type": "stream",
     "text": [
      "[name:] layer:ImageClassifier\n",
      "[name:model] layer:Sequential\n",
      "[name:model.0] layer:Conv2d\n",
      "[name:model.1] layer:ReLU\n",
      "[name:model.2] layer:Conv2d\n",
      "[name:model.3] layer:ReLU\n",
      "[name:model.4] layer:Conv2d\n",
      "[name:model.5] layer:ReLU\n",
      "[name:model.6] layer:Flatten\n",
      "[name:model.7] layer:Linear\n"
     ]
    }
   ],
   "source": [
    "# Iterate through each layer in the model\n",
    "for name, layer in model.named_modules():\n",
    "    layer_name = str(layer).split('(', 1)[0]\n",
    "    print(f'[name:{name}] layer:{layer_name}')"
   ]
  },
  {
   "cell_type": "code",
   "execution_count": null,
   "id": "3407a6eb-c146-4805-949e-740c37496959",
   "metadata": {},
   "outputs": [],
   "source": [
    "def create_model_diagram(model):\n",
    "    from nbdevAuto.functions import graph\n",
    "    from graphviz import Digraph\n",
    "    dot = graph()\n",
    "    # Add nodes with different shapes and formatting\n",
    "    dot.node('x', 'x')\n",
    "    dot.node('a', 'a(x)', shape='circle')\n",
    "    dot.node('y', 'y')\n",
    "    dot.node('b', 'b(y)', shape='circle')\n",
    "    dot.node('z', 'z')\n",
    "    \n",
    "    # Add edges with custom labels and formatting\n",
    "    dot.edge('x', 'a')\n",
    "    dot.edge('a', 'y')\n",
    "    dot.edge('y', 'b')\n",
    "    dot.edge('b', 'z')\n",
    "    \n",
    "    # Render the graph\n",
    "    return dot"
   ]
  },
  {
   "cell_type": "code",
   "execution_count": null,
   "id": "249c5724-216e-469d-845b-b0a30041d88e",
   "metadata": {},
   "outputs": [
    {
     "data": {
      "image/svg+xml": [
       "<?xml version=\"1.0\" encoding=\"UTF-8\" standalone=\"no\"?>\n",
       "<!DOCTYPE svg PUBLIC \"-//W3C//DTD SVG 1.1//EN\"\n",
       " \"http://www.w3.org/Graphics/SVG/1.1/DTD/svg11.dtd\">\n",
       "<!-- Generated by graphviz version 2.43.0 (0)\n",
       " -->\n",
       "<!-- Title: %3 Pages: 1 -->\n",
       "<svg width=\"692pt\" height=\"116pt\"\n",
       " viewBox=\"0.00 0.00 692.00 116.00\" xmlns=\"http://www.w3.org/2000/svg\" xmlns:xlink=\"http://www.w3.org/1999/xlink\">\n",
       "<g id=\"graph0\" class=\"graph\" transform=\"scale(1 1) rotate(0) translate(4 112)\">\n",
       "<title>%3</title>\n",
       "<polygon fill=\"white\" stroke=\"transparent\" points=\"-4,4 -4,-112 688,-112 688,4 -4,4\"/>\n",
       "<!-- x -->\n",
       "<g id=\"node1\" class=\"node\">\n",
       "<title>x</title>\n",
       "<path fill=\"#fcbf49\" stroke=\"black\" stroke-width=\"0\" d=\"M96,-72C96,-72 12,-72 12,-72 6,-72 0,-66 0,-60 0,-60 0,-48 0,-48 0,-42 6,-36 12,-36 12,-36 96,-36 96,-36 102,-36 108,-42 108,-48 108,-48 108,-60 108,-60 108,-66 102,-72 96,-72\"/>\n",
       "<text text-anchor=\"middle\" x=\"54\" y=\"-50.3\" font-family=\"Helvetica,Arial,sans-serif\" font-size=\"14.00\" fill=\"#003049\">x</text>\n",
       "</g>\n",
       "<!-- a -->\n",
       "<g id=\"node2\" class=\"node\">\n",
       "<title>a</title>\n",
       "<ellipse fill=\"#fcbf49\" stroke=\"black\" stroke-width=\"0\" cx=\"198\" cy=\"-54\" rx=\"54\" ry=\"54\"/>\n",
       "<text text-anchor=\"middle\" x=\"198\" y=\"-50.3\" font-family=\"Helvetica,Arial,sans-serif\" font-size=\"14.00\" fill=\"#003049\">a(x)</text>\n",
       "</g>\n",
       "<!-- x&#45;&gt;a -->\n",
       "<g id=\"edge1\" class=\"edge\">\n",
       "<title>x&#45;&gt;a</title>\n",
       "<path fill=\"none\" stroke=\"#003049\" d=\"M108.28,-54C116.56,-54 125.18,-54 133.66,-54\"/>\n",
       "<polygon fill=\"#003049\" stroke=\"#003049\" points=\"143.89,-54 133.89,-58.5 138.89,-54 133.89,-54 133.89,-54 133.89,-54 138.89,-54 133.89,-49.5 143.89,-54 143.89,-54\"/>\n",
       "</g>\n",
       "<!-- y -->\n",
       "<g id=\"node3\" class=\"node\">\n",
       "<title>y</title>\n",
       "<path fill=\"#fcbf49\" stroke=\"black\" stroke-width=\"0\" d=\"M384,-72C384,-72 300,-72 300,-72 294,-72 288,-66 288,-60 288,-60 288,-48 288,-48 288,-42 294,-36 300,-36 300,-36 384,-36 384,-36 390,-36 396,-42 396,-48 396,-48 396,-60 396,-60 396,-66 390,-72 384,-72\"/>\n",
       "<text text-anchor=\"middle\" x=\"342\" y=\"-50.3\" font-family=\"Helvetica,Arial,sans-serif\" font-size=\"14.00\" fill=\"#003049\">y</text>\n",
       "</g>\n",
       "<!-- a&#45;&gt;y -->\n",
       "<g id=\"edge2\" class=\"edge\">\n",
       "<title>a&#45;&gt;y</title>\n",
       "<path fill=\"none\" stroke=\"#003049\" d=\"M252.28,-54C260.56,-54 269.18,-54 277.66,-54\"/>\n",
       "<polygon fill=\"#003049\" stroke=\"#003049\" points=\"287.89,-54 277.89,-58.5 282.89,-54 277.89,-54 277.89,-54 277.89,-54 282.89,-54 277.89,-49.5 287.89,-54 287.89,-54\"/>\n",
       "</g>\n",
       "<!-- b -->\n",
       "<g id=\"node4\" class=\"node\">\n",
       "<title>b</title>\n",
       "<ellipse fill=\"#fcbf49\" stroke=\"black\" stroke-width=\"0\" cx=\"486\" cy=\"-54\" rx=\"54\" ry=\"54\"/>\n",
       "<text text-anchor=\"middle\" x=\"486\" y=\"-50.3\" font-family=\"Helvetica,Arial,sans-serif\" font-size=\"14.00\" fill=\"#003049\">b(y)</text>\n",
       "</g>\n",
       "<!-- y&#45;&gt;b -->\n",
       "<g id=\"edge3\" class=\"edge\">\n",
       "<title>y&#45;&gt;b</title>\n",
       "<path fill=\"none\" stroke=\"#003049\" d=\"M396.28,-54C404.56,-54 413.18,-54 421.66,-54\"/>\n",
       "<polygon fill=\"#003049\" stroke=\"#003049\" points=\"431.89,-54 421.89,-58.5 426.89,-54 421.89,-54 421.89,-54 421.89,-54 426.89,-54 421.89,-49.5 431.89,-54 431.89,-54\"/>\n",
       "</g>\n",
       "<!-- z -->\n",
       "<g id=\"node5\" class=\"node\">\n",
       "<title>z</title>\n",
       "<path fill=\"#fcbf49\" stroke=\"black\" stroke-width=\"0\" d=\"M672,-72C672,-72 588,-72 588,-72 582,-72 576,-66 576,-60 576,-60 576,-48 576,-48 576,-42 582,-36 588,-36 588,-36 672,-36 672,-36 678,-36 684,-42 684,-48 684,-48 684,-60 684,-60 684,-66 678,-72 672,-72\"/>\n",
       "<text text-anchor=\"middle\" x=\"630\" y=\"-50.3\" font-family=\"Helvetica,Arial,sans-serif\" font-size=\"14.00\" fill=\"#003049\">z</text>\n",
       "</g>\n",
       "<!-- b&#45;&gt;z -->\n",
       "<g id=\"edge4\" class=\"edge\">\n",
       "<title>b&#45;&gt;z</title>\n",
       "<path fill=\"none\" stroke=\"#003049\" d=\"M540.28,-54C548.56,-54 557.18,-54 565.66,-54\"/>\n",
       "<polygon fill=\"#003049\" stroke=\"#003049\" points=\"575.89,-54 565.89,-58.5 570.89,-54 565.89,-54 565.89,-54 565.89,-54 570.89,-54 565.89,-49.5 575.89,-54 575.89,-54\"/>\n",
       "</g>\n",
       "</g>\n",
       "</svg>\n"
      ],
      "text/plain": [
       "<nbdevAuto.functions.graph>"
      ]
     },
     "execution_count": null,
     "metadata": {},
     "output_type": "execute_result"
    }
   ],
   "source": [
    "create_model_diagram(model)"
   ]
  },
  {
   "cell_type": "code",
   "execution_count": null,
   "id": "ac667651-deaa-4ae2-885c-ff1ff8a7894e",
   "metadata": {},
   "outputs": [],
   "source": []
  }
 ],
 "metadata": {
  "kernelspec": {
   "display_name": "python3",
   "language": "python",
   "name": "python3"
  }
 },
 "nbformat": 4,
 "nbformat_minor": 5
}
