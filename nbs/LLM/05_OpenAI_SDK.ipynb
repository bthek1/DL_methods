{
 "cells": [
  {
   "cell_type": "markdown",
   "id": "93c062d4-6cd7-4ae8-ab66-d752c3e2d1da",
   "metadata": {},
   "source": [
    "# OpenAI SDK\n",
    "\n",
    "> Here’s **everything you need to know** about the official **OpenAI API Python SDK** (`openai`) — a comprehensive guide covering setup, authentication, endpoints, examples, best practices, and advanced features including streaming, function calling, tool use, and billing queries.\n",
    "\n",
    "\n",
    "- skip_showdoc: true\n",
    "- skip_exec: true"
   ]
  },
  {
   "cell_type": "markdown",
   "id": "38da03de-5507-424a-9ec8-0a2b942ab166",
   "metadata": {},
   "source": [
    "## Example"
   ]
  },
  {
   "cell_type": "code",
   "execution_count": null,
   "id": "728e8396-5130-4deb-9ebe-4d7510f4771f",
   "metadata": {},
   "outputs": [],
   "source": [
    "from openai import OpenAI\n",
    "import json\n",
    "from dotenv import load_dotenv\n",
    "import os\n",
    "from IPython.display import Markdown, display\n",
    "\n",
    "\n",
    "load_dotenv()\n",
    "\n",
    "client = OpenAI(\n",
    "  api_key=os.getenv('openai_api_key')\n",
    ")"
   ]
  },
  {
   "cell_type": "code",
   "execution_count": null,
   "id": "fad83d51-4828-4b08-af45-ae256fb3b8d6",
   "metadata": {},
   "outputs": [
    {
     "data": {
      "text/markdown": [
       "I am based on OpenAI's GPT-3 model, which is a language model designed for natural language understanding and generation. If you have any questions or need assistance, feel free to ask!"
      ],
      "text/plain": [
       "<IPython.core.display.Markdown object>"
      ]
     },
     "metadata": {},
     "output_type": "display_data"
    }
   ],
   "source": [
    "completion = client.chat.completions.create(\n",
    "  model=\"gpt-4o-mini\",\n",
    "  store=True,\n",
    "  messages=[\n",
    "    {\"role\": \"user\", \"content\": \"what language model is this?\"}\n",
    "  ],\n",
    "  max_tokens=150,\n",
    ")\n",
    "\n",
    "content = completion.choices[0].message.content\n",
    "display(Markdown(content))"
   ]
  },
  {
   "cell_type": "markdown",
   "id": "d3e749c6-0154-4605-8113-67a565a5be27",
   "metadata": {},
   "source": [
    "## 📦 1. Installation\n",
    "\n",
    "```bash\n",
    "pip install openai\n",
    "```\n",
    "\n",
    "> ✅ This installs the [official SDK](https://github.com/openai/openai-python)\n",
    "\n",
    "---"
   ]
  },
  {
   "cell_type": "markdown",
   "id": "76dbf462-06aa-47f6-8ff7-467d13f71069",
   "metadata": {},
   "source": [
    "## 🔐 2. Authentication\n",
    "\n",
    "### Options:\n",
    "```python\n",
    "from openai import OpenAI\n",
    "import os\n",
    "\n",
    "client = OpenAI(api_key=os.getenv(\"OPENAI_API_KEY\"))\n",
    "```\n",
    "\n",
    "Other methods:\n",
    "- Environment variable: `OPENAI_API_KEY`\n",
    "- `.openai` config file\n",
    "- Azure or custom base URL: `base_url=\"https://...\"`\n",
    "\n",
    "---"
   ]
  },
  {
   "cell_type": "markdown",
   "id": "fb8025fb-b21a-45aa-b528-ce83272796a7",
   "metadata": {},
   "source": [
    "## ⚙️ 3. SDK Client Overview\n",
    "\n",
    "```python\n",
    "from openai import OpenAI\n",
    "client = OpenAI()\n",
    "```\n",
    "\n",
    "Client supports:\n",
    "- `client.chat.completions.create(...)`\n",
    "- `client.images.generate(...)`\n",
    "- `client.embeddings.create(...)`\n",
    "- `client.audio.transcriptions.create(...)`\n",
    "- `client.files.create(...)`\n",
    "- `client.fine_tuning.jobs.create(...)`\n",
    "- and more...\n",
    "\n",
    "---"
   ]
  },
  {
   "cell_type": "markdown",
   "id": "685a7db5-6ae1-49ce-9abc-b77dd9313446",
   "metadata": {},
   "source": [
    "## 💬 4. Chat Completions\n",
    "\n",
    "### Basic usage:\n",
    "\n",
    "```python\n",
    "response = client.chat.completions.create(\n",
    "    model=\"gpt-4o\",\n",
    "    messages=[{\"role\": \"user\", \"content\": \"Hello!\"}]\n",
    ")\n",
    "\n",
    "print(response.choices[0].message.content)\n",
    "```\n",
    "\n",
    "### Options:\n",
    "- `max_tokens`, `temperature`, `top_p`, `presence_penalty`\n",
    "- `tools`, `tool_choice`\n",
    "- `function_call` (deprecated in favor of `tools`)\n",
    "\n",
    "---"
   ]
  },
  {
   "cell_type": "markdown",
   "id": "286b38dc-af1f-446f-b4a2-a37935d490c4",
   "metadata": {},
   "source": [
    "## 🔁 5. Streaming Responses\n",
    "\n",
    "```python\n",
    "stream = client.chat.completions.create(\n",
    "    model=\"gpt-4o\",\n",
    "    messages=[{\"role\": \"user\", \"content\": \"Stream this response\"}],\n",
    "    stream=True,\n",
    ")\n",
    "\n",
    "for chunk in stream:\n",
    "    print(chunk.choices[0].delta.content or \"\", end=\"\")\n",
    "```\n",
    "\n",
    "> ✅ Useful for real-time apps, CLI tools, or dashboards.\n",
    "\n",
    "---"
   ]
  },
  {
   "cell_type": "markdown",
   "id": "f86f5164-34fb-4eff-ac13-e712ac3ce8a1",
   "metadata": {},
   "source": [
    "## 🧠 6. Tool Use / Function Calling\n",
    "\n",
    "```python\n",
    "response = client.chat.completions.create(\n",
    "    model=\"gpt-4o\",\n",
    "    messages=[{\"role\": \"user\", \"content\": \"What's the weather in Paris?\"}],\n",
    "    tools=[\n",
    "        {\n",
    "            \"type\": \"function\",\n",
    "            \"function\": {\n",
    "                \"name\": \"get_weather\",\n",
    "                \"description\": \"Get weather by city\",\n",
    "                \"parameters\": {\n",
    "                    \"type\": \"object\",\n",
    "                    \"properties\": {\n",
    "                        \"city\": {\"type\": \"string\"},\n",
    "                    },\n",
    "                    \"required\": [\"city\"]\n",
    "                }\n",
    "            }\n",
    "        }\n",
    "    ],\n",
    "    tool_choice=\"auto\"\n",
    ")\n",
    "```\n",
    "\n",
    "Check for `tool_calls` in response and call your function accordingly.\n",
    "\n",
    "---"
   ]
  },
  {
   "cell_type": "markdown",
   "id": "0ff3d086-b5fc-4744-8264-59bfe1578efa",
   "metadata": {},
   "source": [
    "## 🖼️ 7. Image Generation (`DALL·E`)\n",
    "\n",
    "```python\n",
    "image = client.images.generate(\n",
    "    prompt=\"A futuristic city skyline at dusk\",\n",
    "    model=\"dall-e-3\",\n",
    "    n=1,\n",
    "    size=\"1024x1024\"\n",
    ")\n",
    "print(image.data[0].url)\n",
    "```\n",
    "\n",
    "---"
   ]
  },
  {
   "cell_type": "markdown",
   "id": "3bf465cd-f226-4e1a-bd4d-f72e91bb5441",
   "metadata": {},
   "source": [
    "## 🧬 8. Embeddings\n",
    "\n",
    "```python\n",
    "response = client.embeddings.create(\n",
    "    input=\"Deep learning is powerful.\",\n",
    "    model=\"text-embedding-3-small\"\n",
    ")\n",
    "vector = response.data[0].embedding\n",
    "```\n",
    "\n",
    "Use for semantic search, vector databases, etc.\n",
    "\n",
    "---"
   ]
  },
  {
   "cell_type": "markdown",
   "id": "4a4da2f2-983b-40c1-8a07-bb47737898b8",
   "metadata": {},
   "source": [
    "## 🔊 9. Audio Transcription (Whisper)\n",
    "\n",
    "```python\n",
    "with open(\"audio.mp3\", \"rb\") as file:\n",
    "    transcript = client.audio.transcriptions.create(\n",
    "        model=\"whisper-1\", file=file\n",
    "    )\n",
    "print(transcript.text)\n",
    "```\n",
    "\n",
    "---"
   ]
  },
  {
   "cell_type": "markdown",
   "id": "71a0e79c-6529-4e93-8dc2-e5850e5502ca",
   "metadata": {},
   "source": [
    "## 📁 10. File Upload + Fine-tuning\n",
    "\n",
    "### Upload a file:\n",
    "```python\n",
    "client.files.create(file=open(\"data.jsonl\", \"rb\"), purpose=\"fine-tune\")\n",
    "```\n",
    "\n",
    "### Fine-tuning:\n",
    "```python\n",
    "client.fine_tuning.jobs.create(training_file=\"file-abc123\")\n",
    "```\n",
    "\n",
    "---"
   ]
  },
  {
   "cell_type": "markdown",
   "id": "f3ae3f16-850a-435d-a07b-3e1073764dd0",
   "metadata": {},
   "source": [
    "## 📊 11. Billing / Usage (manual requests)\n",
    "\n",
    "The SDK does **not** expose billing endpoints, but you can query them:\n",
    "\n",
    "```python\n",
    "import requests\n",
    "\n",
    "headers = {\"Authorization\": f\"Bearer {api_key}\"}\n",
    "r = requests.get(\"https://api.openai.com/v1/dashboard/billing/usage?start_date=2024-04-01&end_date=2024-04-30\", headers=headers)\n",
    "print(r.json())\n",
    "```\n",
    "\n",
    "---"
   ]
  },
  {
   "cell_type": "markdown",
   "id": "71f909ff-569e-42db-a7fe-8cd0a3abe651",
   "metadata": {},
   "source": [
    "## 📎 12. Error Handling\n",
    "\n",
    "```python\n",
    "from openai import OpenAI, APIError, RateLimitError\n",
    "\n",
    "try:\n",
    "    ...\n",
    "except RateLimitError:\n",
    "    print(\"Rate limited.\")\n",
    "except APIError as e:\n",
    "    print(f\"OpenAI API error: {e}\")\n",
    "```\n",
    "\n",
    "---"
   ]
  },
  {
   "cell_type": "markdown",
   "id": "1afa8d50-27ec-4519-9efc-a1f2653a6f0e",
   "metadata": {},
   "source": [
    "## ✅ 13. Models Available (as of 2024-2025)\n",
    "\n",
    "| Model           | Type      | Use Case               |\n",
    "|------------------|-----------|-------------------------|\n",
    "| `gpt-4o`         | Chat      | Fast, cheap, vision, voice |\n",
    "| `gpt-4`          | Chat      | Highest reasoning       |\n",
    "| `gpt-3.5-turbo`  | Chat      | Cost-effective          |\n",
    "| `dall-e-3`       | Image     | Prompt-to-image         |\n",
    "| `whisper-1`      | Audio     | Speech to text          |\n",
    "| `text-embedding-3` | Embeddings | Vector search       |\n",
    "\n",
    "---"
   ]
  },
  {
   "cell_type": "markdown",
   "id": "63722369-9463-4bd7-9341-c6388e9822a1",
   "metadata": {},
   "source": [
    "## 🧰 14. Advanced Tips\n",
    "\n",
    "- `response.usage.total_tokens` to track billing\n",
    "- Use `.store=True` to save conversations if supported\n",
    "- Use `logprobs` for token-level info (GPT-3 only)\n",
    "\n",
    "---"
   ]
  },
  {
   "cell_type": "markdown",
   "id": "954ed8e3-8fda-4a46-9893-63bb66048617",
   "metadata": {},
   "source": [
    "## 🧪 15. Testing in Notebooks\n",
    "\n",
    "```python\n",
    "from IPython.display import Markdown\n",
    "res = client.chat.completions.create(...)\n",
    "display(Markdown(res.choices[0].message.content))\n",
    "```\n",
    "\n",
    "---"
   ]
  },
  {
   "cell_type": "markdown",
   "id": "52c3724f-ea54-48eb-90f9-a13f00b6a7e8",
   "metadata": {},
   "source": [
    "## 🔚 Summary\n",
    "\n",
    "| Task              | SDK Support |\n",
    "|-------------------|-------------|\n",
    "| Chat Completion   | ✅ `.chat.completions.create()` |\n",
    "| Image Generation  | ✅ `.images.generate()`         |\n",
    "| Audio Transcribe  | ✅ `.audio.transcriptions.create()` |\n",
    "| Embeddings        | ✅ `.embeddings.create()`       |\n",
    "| File Upload       | ✅ `.files.create()`            |\n",
    "| Billing Info      | ❌ Use `requests` manually      |\n"
   ]
  },
  {
   "cell_type": "code",
   "execution_count": null,
   "id": "d4d4cff4-b360-4664-b973-8d72aa7a4fa6",
   "metadata": {},
   "outputs": [],
   "source": []
  }
 ],
 "metadata": {
  "kernelspec": {
   "display_name": "python3",
   "language": "python",
   "name": "python3"
  }
 },
 "nbformat": 4,
 "nbformat_minor": 5
}
