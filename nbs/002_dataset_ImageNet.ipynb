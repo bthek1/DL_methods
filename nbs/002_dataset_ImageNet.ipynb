{
 "cells": [
  {
   "cell_type": "markdown",
   "metadata": {},
   "source": [
    "# Dataset: ImageNet\n",
    "\n",
    "> ImageNet\n",
    "\n",
    "\n",
    "- skip_showdoc: true\n",
    "- skip_exec: true"
   ]
  },
  {
   "cell_type": "code",
   "execution_count": null,
   "metadata": {},
   "outputs": [],
   "source": [
    "#| default_exp ImageNet"
   ]
  },
  {
   "cell_type": "code",
   "execution_count": null,
   "metadata": {},
   "outputs": [],
   "source": [
    "import torch"
   ]
  },
  {
   "cell_type": "code",
   "execution_count": null,
   "metadata": {},
   "outputs": [
    {
     "data": {
      "text/plain": [
       "True"
      ]
     },
     "execution_count": null,
     "metadata": {},
     "output_type": "execute_result"
    }
   ],
   "source": [
    "torch.cuda.is_available()"
   ]
  },
  {
   "cell_type": "code",
   "execution_count": null,
   "metadata": {},
   "outputs": [],
   "source": [
    "from fastbook import search_images_ddg\n",
    "from fastdownload import download_url\n",
    "from fastai.vision.all import *\n",
    "import fastcore.all as fc\n",
    "from nbdevAuto import functions\n",
    "import os\n",
    "import shutil"
   ]
  },
  {
   "cell_type": "code",
   "execution_count": null,
   "metadata": {},
   "outputs": [],
   "source": [
    "url = 'http://cs231n.stanford.edu/tiny-imagenet-200.zip'\n",
    "path_data = Path('Data')\n",
    "dataset = Path('tiny-imagenet-200')"
   ]
  },
  {
   "cell_type": "code",
   "execution_count": null,
   "metadata": {},
   "outputs": [],
   "source": [
    "path_data.mkdir(exist_ok=True)"
   ]
  },
  {
   "cell_type": "code",
   "execution_count": null,
   "metadata": {},
   "outputs": [],
   "source": [
    "path = path_data/dataset\n",
    "if not path.exists():\n",
    "    path_zip = fc.urlsave(url, path_data)\n",
    "    shutil.unpack_archive(f'{path}.zip', path_data)"
   ]
  },
  {
   "cell_type": "markdown",
   "metadata": {},
   "source": [
    "## Dataset Structure"
   ]
  },
  {
   "cell_type": "markdown",
   "metadata": {},
   "source": [
    " - test\n",
    "   - images - 10,000 images\n",
    " - train\n",
    "   - 200 classes - number names\n",
    "     - boxes.txt\n",
    "     - images - 500 images\n",
    "    \n",
    "\n",
    " - val\n",
    " - wnids.txt - number names\n",
    " - words.txt - number names to actual names"
   ]
  },
  {
   "cell_type": "code",
   "execution_count": null,
   "metadata": {},
   "outputs": [],
   "source": []
  },
  {
   "cell_type": "code",
   "execution_count": null,
   "metadata": {},
   "outputs": [],
   "source": [
    "class TinyDS:\n",
    "    def __init__(self, path):\n",
    "        self.path = Path(path)\n",
    "        self.files = glob(str(path/'**/*.JPEG'), recursive=True)\n",
    "    def __len__(self): return len(self.files)\n",
    "    def __getitem__(self, i): return self.files[i],Path(self.files[i]).parent.parent.name"
   ]
  },
  {
   "cell_type": "code",
   "execution_count": null,
   "metadata": {},
   "outputs": [],
   "source": [
    "tds = TinyDS(path/'train')"
   ]
  },
  {
   "cell_type": "code",
   "execution_count": null,
   "metadata": {},
   "outputs": [],
   "source": [
    "path_anno = path/'val'/'val_annotations.txt'\n",
    "anno = dict(o.split('\\t')[:2] for o in path_anno.read_text().splitlines())"
   ]
  },
  {
   "cell_type": "code",
   "execution_count": null,
   "metadata": {},
   "outputs": [],
   "source": [
    "class TinyValDS(TinyDS):\n",
    "    def __getitem__(self, i): return self.files[i],anno[os.path.basename(self.files[i])]"
   ]
  },
  {
   "cell_type": "code",
   "execution_count": null,
   "metadata": {},
   "outputs": [],
   "source": [
    "vds = TinyValDS(path/'val')"
   ]
  }
 ],
 "metadata": {
  "kernelspec": {
   "display_name": "python3",
   "language": "python",
   "name": "python3"
  },
  "widgets": {
   "application/vnd.jupyter.widget-state+json": {
    "state": {},
    "version_major": 2,
    "version_minor": 0
   }
  }
 },
 "nbformat": 4,
 "nbformat_minor": 4
}
