{
 "cells": [
  {
   "cell_type": "markdown",
   "id": "d0671647-f21d-466c-b701-ae564a0be46a",
   "metadata": {},
   "source": [
    "# Transformer Networks\n",
    "\n",
    "> Use self-attention mechanisms to handle sequential data without the recurrence found in RNNs. They can capture long-range dependencies and parallelize training more efficiently.\n",
    "\n",
    "> Applications: NLP tasks such as translation, summarization, text generation (e.g., GPT-3), and even image processing tasks (Vision Transformers).\n",
    "\n",
    "- skip_showdoc: true\n",
    "- skip_exec: true"
   ]
  },
  {
   "cell_type": "code",
   "execution_count": null,
   "id": "1edf6809-f0f7-41cc-b785-829b4ffb1658",
   "metadata": {},
   "outputs": [],
   "source": []
  }
 ],
 "metadata": {
  "kernelspec": {
   "display_name": "python3",
   "language": "python",
   "name": "python3"
  },
  "widgets": {
   "application/vnd.jupyter.widget-state+json": {
    "state": {},
    "version_major": 2,
    "version_minor": 0
   }
  }
 },
 "nbformat": 4,
 "nbformat_minor": 5
}
