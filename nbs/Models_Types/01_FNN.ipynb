{
 "cells": [
  {
   "cell_type": "markdown",
   "id": "d0671647-f21d-466c-b701-ae564a0be46a",
   "metadata": {},
   "source": [
    "# Feedforward Neural Networks (FNN)\n",
    "\n",
    "> The simplest type of artificial neural network where connections between nodes do not form cycles.\n",
    "\n",
    "> Applications: Basic pattern recognition, simple classification tasks.\n",
    "\n",
    "- skip_showdoc: true\n",
    "- skip_exec: true"
   ]
  },
  {
   "cell_type": "markdown",
   "id": "6b151108-a69e-4cc4-8262-1a224fac39c3",
   "metadata": {},
   "source": [
    "- read through each famous models papers\n",
    "- implement it in code\n",
    "\n",
    "Models:\n",
    "- resnet18\n",
    "- Unet\n",
    "- Yolo\n",
    "- Faster_RCNN\n",
    "- RNN\n",
    "- Gans\n",
    "- LSTM\n"
   ]
  },
  {
   "cell_type": "code",
   "execution_count": null,
   "id": "1edf6809-f0f7-41cc-b785-829b4ffb1658",
   "metadata": {},
   "outputs": [],
   "source": []
  }
 ],
 "metadata": {
  "kernelspec": {
   "display_name": "python3",
   "language": "python",
   "name": "python3"
  },
  "widgets": {
   "application/vnd.jupyter.widget-state+json": {
    "state": {},
    "version_major": 2,
    "version_minor": 0
   }
  }
 },
 "nbformat": 4,
 "nbformat_minor": 5
}
