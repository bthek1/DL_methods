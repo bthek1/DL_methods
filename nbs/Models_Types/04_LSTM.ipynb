{
 "cells": [
  {
   "cell_type": "markdown",
   "id": "d0671647-f21d-466c-b701-ae564a0be46a",
   "metadata": {},
   "source": [
    "# LSTM - Long Short-Term Memory Networks\n",
    "\n",
    "> A type of RNN designed to overcome the limitations of traditional RNNs, such as the vanishing gradient problem. They have special units called memory cells that can maintain information for long periods.\n",
    "\n",
    "> Applications: Long sequence data analysis, machine translation, speech recognition, and text generation.\n",
    "\n",
    "\n",
    "\n",
    "- skip_showdoc: true\n",
    "- skip_exec: true"
   ]
  },
  {
   "cell_type": "code",
   "execution_count": null,
   "id": "1edf6809-f0f7-41cc-b785-829b4ffb1658",
   "metadata": {},
   "outputs": [],
   "source": []
  }
 ],
 "metadata": {
  "kernelspec": {
   "display_name": "python3",
   "language": "python",
   "name": "python3"
  },
  "widgets": {
   "application/vnd.jupyter.widget-state+json": {
    "state": {},
    "version_major": 2,
    "version_minor": 0
   }
  }
 },
 "nbformat": 4,
 "nbformat_minor": 5
}
