{
 "cells": [
  {
   "cell_type": "markdown",
   "id": "d0671647-f21d-466c-b701-ae564a0be46a",
   "metadata": {},
   "source": [
    "# Generative Adversarial Networks (GAN)\n",
    "\n",
    "> Composed of two neural networks, a generator and a discriminator, that are trained simultaneously through adversarial processes. The generator creates data, and the discriminator evaluates it.\n",
    "\n",
    "\n",
    "> Applications: Image generation, data augmentation, style transfer, and improving image resolution.\n",
    "\n",
    "- skip_showdoc: true\n",
    "- skip_exec: true"
   ]
  },
  {
   "cell_type": "code",
   "execution_count": null,
   "id": "1edf6809-f0f7-41cc-b785-829b4ffb1658",
   "metadata": {},
   "outputs": [],
   "source": []
  }
 ],
 "metadata": {
  "kernelspec": {
   "display_name": "python3",
   "language": "python",
   "name": "python3"
  },
  "widgets": {
   "application/vnd.jupyter.widget-state+json": {
    "state": {},
    "version_major": 2,
    "version_minor": 0
   }
  }
 },
 "nbformat": 4,
 "nbformat_minor": 5
}
