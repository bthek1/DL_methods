{
 "cells": [
  {
   "cell_type": "markdown",
   "id": "e49119fe-f5f8-4753-8b97-a4b1dfc34a7c",
   "metadata": {},
   "source": [
    "# Object detection model\n",
    "\n",
    "> Object Detection Model\n",
    "\n",
    "\n",
    "- skip_showdoc: true\n",
    "- skip_exec: true"
   ]
  },
  {
   "cell_type": "code",
   "execution_count": null,
   "id": "9e4dc80e-338b-4899-b378-6e236ab7c472",
   "metadata": {},
   "outputs": [],
   "source": []
  }
 ],
 "metadata": {
  "kernelspec": {
   "display_name": "python3",
   "language": "python",
   "name": "python3"
  }
 },
 "nbformat": 4,
 "nbformat_minor": 5
}
