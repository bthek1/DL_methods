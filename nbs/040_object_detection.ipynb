{
 "cells": [
  {
   "cell_type": "markdown",
   "id": "e49119fe-f5f8-4753-8b97-a4b1dfc34a7c",
   "metadata": {},
   "source": [
    "# Object detection model\n",
    "\n",
    "> Object Detection Model\n",
    "\n",
    "\n",
    "- skip_showdoc: true\n",
    "- skip_exec: true"
   ]
  },
  {
   "cell_type": "code",
   "execution_count": null,
   "id": "edf0b820-b63f-42ef-887e-668b23bcd8ee",
   "metadata": {},
   "outputs": [],
   "source": [
    "import os"
   ]
  },
  {
   "cell_type": "code",
   "execution_count": null,
   "id": "9e4dc80e-338b-4899-b378-6e236ab7c472",
   "metadata": {},
   "outputs": [
    {
     "data": {
      "text/plain": [
       "12"
      ]
     },
     "execution_count": null,
     "metadata": {},
     "output_type": "execute_result"
    }
   ],
   "source": [
    "os.cpu_count()"
   ]
  },
  {
   "cell_type": "code",
   "execution_count": null,
   "id": "014a787b-ad4c-4f58-8636-6345aa1d39d6",
   "metadata": {},
   "outputs": [],
   "source": []
  }
 ],
 "metadata": {
  "kernelspec": {
   "display_name": "python3",
   "language": "python",
   "name": "python3"
  }
 },
 "nbformat": 4,
 "nbformat_minor": 5
}
