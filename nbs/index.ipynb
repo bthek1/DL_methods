{
 "cells": [
  {
   "cell_type": "code",
   "execution_count": null,
   "metadata": {},
   "outputs": [],
   "source": [
    "#| hide\n",
    "from DeepLearning.core import *"
   ]
  },
  {
   "cell_type": "markdown",
   "metadata": {},
   "source": [
    "# DeepLearning\n",
    "\n",
    "> Deep Learning models of Computer vision"
   ]
  },
  {
   "cell_type": "markdown",
   "metadata": {},
   "source": [
    "## Dimensions"
   ]
  },
  {
   "cell_type": "markdown",
   "metadata": {},
   "source": [
    "- use of any dataset - cifar, imagenet, kitti, nyu-dataset, Cityscapes \n",
    "- use of any model - resnet18, ViT, UNet, midas (depth)\n",
    "- models for detection - faster R-CNN, YOLO, DETR, DINO\n",
    "- different applications - object classification, object detection, object segmentation\n",
    "- measure change in performance"
   ]
  },
  {
   "cell_type": "code",
   "execution_count": null,
   "metadata": {},
   "outputs": [],
   "source": []
  }
 ],
 "metadata": {
  "kernelspec": {
   "display_name": "python3",
   "language": "python",
   "name": "python3"
  },
  "widgets": {
   "application/vnd.jupyter.widget-state+json": {
    "state": {},
    "version_major": 2,
    "version_minor": 0
   }
  }
 },
 "nbformat": 4,
 "nbformat_minor": 4
}
