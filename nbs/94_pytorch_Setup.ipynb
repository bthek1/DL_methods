{
 "cells": [
  {
   "cell_type": "markdown",
   "id": "8f8cd87b-8fc9-4774-a5b0-c323baa75a12",
   "metadata": {},
   "source": [
    "# OLD: Pytorch Setup\n",
    "\n",
    "> Details on setting up Pytorch Setup\n",
    "\n",
    "\n",
    "- skip_showdoc: true\n",
    "- skip_exec: true"
   ]
  },
  {
   "cell_type": "code",
   "execution_count": null,
   "id": "1ce83a7a-0461-443b-b362-43d0640f6277",
   "metadata": {},
   "outputs": [],
   "source": [
    "#| default_exp pytorch"
   ]
  },
  {
   "cell_type": "markdown",
   "id": "3e08bb2f-7a8f-4d81-906c-ca0f40bf65d1",
   "metadata": {},
   "source": [
    "## Just pip install fastAI"
   ]
  },
  {
   "cell_type": "markdown",
   "id": "1e3d4146-710b-4339-b6d0-a614fa829339",
   "metadata": {},
   "source": [
    "## Computer Setup\n",
    "\n",
    "1. Uninstall \n",
    "    - Onedrive\n",
    "\n",
    "2. Download and Install:\n",
    "    - Matlab\n",
    "    - Git\n",
    "    - vscode\n",
    "    - docker\n",
    "    - anaconda\n",
    "    - nvidia:\n",
    "        - cuda toolkit"
   ]
  },
  {
   "cell_type": "markdown",
   "id": "7c095a1f-fe57-46ce-9560-9627a4fdd6f4",
   "metadata": {},
   "source": [
    "## Program Setup\n",
    " \n",
    "- nbdev - see nbdev page\n",
    "- quarto - see quarto page\n",
    "- jupyter lab - see nbdev page\n",
    "\n",
    "- Optional installs\n",
    "\n",
    "    - vim \n",
    "    \n",
    "    ```sh\n",
    "    conda install -c conda-forge vim\n",
    "    ```\n",
    "    - grep\n",
    "    \n",
    "    ```sh\n",
    "    conda install -c conda-forge grep\n",
    "    ```"
   ]
  },
  {
   "cell_type": "markdown",
   "id": "e498fc54-bf0a-4ba6-9dc0-a9f13a5cbc71",
   "metadata": {},
   "source": [
    "## Prerequisites for pytorch\n",
    "\n",
    "1. Install Anaconda\n",
    "2. Install CUDA, if your machine has a CUDA-enabled GPU.\n",
    "3. If you want to build on Windows, Visual Studio with MSVC toolset, and NVTX are also needed. The exact requirements of those dependencies could be found out here.\n",
    "4. Follow the steps described here: https://github.com/pytorch/pytorch#from-source"
   ]
  },
  {
   "cell_type": "markdown",
   "id": "9669feef-9385-4216-9f95-e018e21691ba",
   "metadata": {},
   "source": [
    "For installing pytorch\n",
    "```sh\n",
    "mamba install pytorch torchvision torchaudio pytorch-cuda=11.8 -c pytorch -c nvidia\n",
    "```\n",
    "\n",
    "```sh\n",
    "pip3 install torch torchvision torchaudio --index-url https://download.pytorch.org/whl/cu121\n",
    "```\n"
   ]
  },
  {
   "cell_type": "code",
   "execution_count": null,
   "id": "adcc5786-d70c-4586-82a0-c62afc33303e",
   "metadata": {},
   "outputs": [],
   "source": [
    "#|eval: <false>\n",
    "#|code-fold: <true>\n",
    "import torch"
   ]
  },
  {
   "cell_type": "code",
   "execution_count": null,
   "id": "a787fb8d-8b8c-4ad9-8762-6c3b618de117",
   "metadata": {},
   "outputs": [
    {
     "name": "stdout",
     "output_type": "stream",
     "text": [
      "tensor([[0.9269, 0.1003, 0.0353],\n",
      "        [0.4144, 0.8482, 0.3824],\n",
      "        [0.1120, 0.7599, 0.8723],\n",
      "        [0.0077, 0.7378, 0.8241],\n",
      "        [0.3825, 0.3843, 0.2078]])\n"
     ]
    }
   ],
   "source": [
    "x = torch.rand(5,3)\n",
    "print(x)"
   ]
  },
  {
   "cell_type": "code",
   "execution_count": null,
   "id": "8c588541-48d7-4e58-9455-962356e976a0",
   "metadata": {},
   "outputs": [
    {
     "data": {
      "text/plain": [
       "True"
      ]
     },
     "execution_count": null,
     "metadata": {},
     "output_type": "execute_result"
    }
   ],
   "source": [
    "torch.cuda.is_available()"
   ]
  },
  {
   "cell_type": "code",
   "execution_count": null,
   "id": "d658cd5a-c9c1-4fa4-a79e-171f23c2c229",
   "metadata": {},
   "outputs": [
    {
     "data": {
      "text/plain": [
       "2"
      ]
     },
     "execution_count": null,
     "metadata": {},
     "output_type": "execute_result"
    }
   ],
   "source": [
    "torch.cuda.device_count()"
   ]
  },
  {
   "cell_type": "code",
   "execution_count": null,
   "id": "6325dfc4-d3a0-4d52-93e2-c748c3d304fa",
   "metadata": {},
   "outputs": [
    {
     "data": {
      "text/plain": [
       "device(type='cuda')"
      ]
     },
     "execution_count": null,
     "metadata": {},
     "output_type": "execute_result"
    }
   ],
   "source": [
    "device = torch.device(\"cuda\" if torch.cuda.is_available() else \"cpu\")\n",
    "device"
   ]
  },
  {
   "cell_type": "code",
   "execution_count": null,
   "id": "97170999-aae1-4205-814e-66ea4858eb40",
   "metadata": {},
   "outputs": [
    {
     "name": "stdout",
     "output_type": "stream",
     "text": [
      "/bin/bash: line 1: nvcc: command not found\n"
     ]
    }
   ],
   "source": [
    "!nvcc --version"
   ]
  },
  {
   "cell_type": "code",
   "execution_count": null,
   "id": "2348034b-2a4c-40a4-9b48-fa873aa54eb4",
   "metadata": {},
   "outputs": [
    {
     "name": "stdout",
     "output_type": "stream",
     "text": [
      "Thu Jul 27 01:53:39 2023       \n",
      "+-----------------------------------------------------------------------------+\n",
      "| NVIDIA-SMI 520.61.03    Driver Version: 522.06       CUDA Version: 11.8     |\n",
      "|-------------------------------+----------------------+----------------------+\n",
      "| GPU  Name        Persistence-M| Bus-Id        Disp.A | Volatile Uncorr. ECC |\n",
      "| Fan  Temp  Perf  Pwr:Usage/Cap|         Memory-Usage | GPU-Util  Compute M. |\n",
      "|                               |                      |               MIG M. |\n",
      "|===============================+======================+======================|\n",
      "|   0  NVIDIA GeForce ...  On   | 00000000:01:00.0  On |                  N/A |\n",
      "| N/A   42C    P8     4W /  N/A |    150MiB /  6144MiB |      2%      Default |\n",
      "|                               |                      |                  N/A |\n",
      "+-------------------------------+----------------------+----------------------+\n",
      "                                                                               \n",
      "+-----------------------------------------------------------------------------+\n",
      "| Processes:                                                                  |\n",
      "|  GPU   GI   CI        PID   Type   Process name                  GPU Memory |\n",
      "|        ID   ID                                                   Usage      |\n",
      "|=============================================================================|\n",
      "|    0   N/A  N/A        23      G   /Xwayland                       N/A      |\n",
      "+-----------------------------------------------------------------------------+\n"
     ]
    }
   ],
   "source": [
    "!nvidia-smi"
   ]
  },
  {
   "cell_type": "code",
   "execution_count": null,
   "id": "562f9447-3003-4139-a108-2d30705b8766",
   "metadata": {},
   "outputs": [
    {
     "name": "stdout",
     "output_type": "stream",
     "text": [
      "/home/ben/mambaforge/envs/fast/bin/python\n"
     ]
    }
   ],
   "source": [
    "!which python"
   ]
  },
  {
   "cell_type": "code",
   "execution_count": null,
   "id": "c4e4b85a-6b1d-42b0-91af-2848f322f903",
   "metadata": {},
   "outputs": [],
   "source": [
    "import sys"
   ]
  },
  {
   "cell_type": "code",
   "execution_count": null,
   "id": "5c6a70c2-6767-4bfe-9228-8a79323e4850",
   "metadata": {},
   "outputs": [
    {
     "name": "stdout",
     "output_type": "stream",
     "text": [
      "/home/ben/mambaforge/envs/fast/bin/python3.11\n",
      "3.11.4 | packaged by conda-forge | (main, Jun 10 2023, 18:08:17) [GCC 12.2.0]\n"
     ]
    }
   ],
   "source": [
    "print(sys.executable)\n",
    "print(sys.version)"
   ]
  }
 ],
 "metadata": {
  "kernelspec": {
   "display_name": "python3",
   "language": "python",
   "name": "python3"
  },
  "widgets": {
   "application/vnd.jupyter.widget-state+json": {
    "state": {},
    "version_major": 2,
    "version_minor": 0
   }
  }
 },
 "nbformat": 4,
 "nbformat_minor": 5
}
