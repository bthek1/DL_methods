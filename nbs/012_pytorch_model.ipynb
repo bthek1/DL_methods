{
 "cells": [
  {
   "cell_type": "markdown",
   "id": "ab698ba2-2fab-4da6-94a6-69b0f7400421",
   "metadata": {},
   "source": [
    "# Pytorch Model\n",
    "\n",
    ">  Pytorch Model\n",
    "\n",
    "\n",
    "- skip_showdoc: true\n",
    "- skip_exec: true"
   ]
  },
  {
   "cell_type": "code",
   "execution_count": null,
   "id": "e8a4cd6d-fc7f-49f3-a05f-bdb05c7cc484",
   "metadata": {},
   "outputs": [],
   "source": [
    "import torch"
   ]
  },
  {
   "cell_type": "code",
   "execution_count": null,
   "id": "cfa7d475-07b4-433d-86e0-157a6dd5f534",
   "metadata": {},
   "outputs": [],
   "source": [
    "x = torch.randn(3, requires_grad = True)"
   ]
  },
  {
   "cell_type": "code",
   "execution_count": null,
   "id": "9dc286aa-e51b-4926-a8e1-080503f5f450",
   "metadata": {},
   "outputs": [
    {
     "name": "stdout",
     "output_type": "stream",
     "text": [
      "tensor([-1.6216, -0.1012, -1.1285], requires_grad=True)\n"
     ]
    }
   ],
   "source": [
    "print(x)"
   ]
  },
  {
   "cell_type": "code",
   "execution_count": null,
   "id": "3d1c7a6c-6090-4cdd-b087-bcee92871c90",
   "metadata": {},
   "outputs": [],
   "source": [
    "y = x + 2\n",
    "y.retain_grad()"
   ]
  },
  {
   "cell_type": "code",
   "execution_count": null,
   "id": "f1207cd1-ca24-42db-8550-b306c541e8d6",
   "metadata": {},
   "outputs": [
    {
     "name": "stdout",
     "output_type": "stream",
     "text": [
      "tensor(3.0056, grad_fn=<MeanBackward0>)\n"
     ]
    }
   ],
   "source": [
    "z = y * y*2\n",
    "z.retain_grad()\n",
    "z = z.mean()\n",
    "print(z)"
   ]
  },
  {
   "cell_type": "code",
   "execution_count": null,
   "id": "5bc41fe6-26f4-4a91-9b00-3487c2277f36",
   "metadata": {},
   "outputs": [],
   "source": [
    "z.backward(retain_graph=True)"
   ]
  },
  {
   "cell_type": "code",
   "execution_count": null,
   "id": "5ed34d73-2987-41a7-a942-11b73e1e7d6f",
   "metadata": {},
   "outputs": [
    {
     "data": {
      "text/plain": [
       "(tensor([-1.6216, -0.1012, -1.1285], requires_grad=True),\n",
       " tensor([0.3784, 1.8988, 0.8715], grad_fn=<AddBackward0>),\n",
       " tensor(3.0056, grad_fn=<MeanBackward0>))"
      ]
     },
     "execution_count": null,
     "metadata": {},
     "output_type": "execute_result"
    }
   ],
   "source": [
    "x,y, z"
   ]
  },
  {
   "cell_type": "code",
   "execution_count": null,
   "id": "57f40d09-8990-471c-b32d-98bc95c11368",
   "metadata": {},
   "outputs": [
    {
     "data": {
      "text/plain": [
       "(tensor([0.5045, 2.5318, 1.1620]), tensor([0.5045, 2.5318, 1.1620]))"
      ]
     },
     "execution_count": null,
     "metadata": {},
     "output_type": "execute_result"
    }
   ],
   "source": [
    "x.grad, y.grad"
   ]
  },
  {
   "cell_type": "markdown",
   "id": "64f7fb67-bfa6-406b-a4a5-c6bc998df512",
   "metadata": {},
   "source": [
    "## For multiple z values"
   ]
  },
  {
   "cell_type": "code",
   "execution_count": null,
   "id": "74c54f1e-602a-4db1-8840-3ed69306abfb",
   "metadata": {},
   "outputs": [],
   "source": [
    "import torch"
   ]
  },
  {
   "cell_type": "code",
   "execution_count": null,
   "id": "8c72c452-58da-4756-9605-c3f9281f0ff3",
   "metadata": {},
   "outputs": [],
   "source": [
    "x = torch.randn(3, requires_grad = True)"
   ]
  },
  {
   "cell_type": "code",
   "execution_count": null,
   "id": "a12344f4-e96c-4653-b233-76c56108a0c5",
   "metadata": {},
   "outputs": [
    {
     "name": "stdout",
     "output_type": "stream",
     "text": [
      "tensor([ 0.1730,  1.0904, -0.4991], requires_grad=True)\n"
     ]
    }
   ],
   "source": [
    "print(x)"
   ]
  },
  {
   "cell_type": "code",
   "execution_count": null,
   "id": "4dfe3493-1bf8-43eb-a29f-634535a2eab7",
   "metadata": {},
   "outputs": [],
   "source": [
    "y = x + 2\n",
    "y.retain_grad()"
   ]
  },
  {
   "cell_type": "code",
   "execution_count": null,
   "id": "d154749c-3252-4950-bf6a-48e2aec0e1e4",
   "metadata": {},
   "outputs": [
    {
     "name": "stdout",
     "output_type": "stream",
     "text": [
      "tensor([ 9.4438, 19.1016,  4.5051], grad_fn=<MulBackward0>)\n"
     ]
    }
   ],
   "source": [
    "z = y * y*2\n",
    "z.retain_grad()\n",
    "#z = z.mean()\n",
    "print(z)"
   ]
  },
  {
   "cell_type": "code",
   "execution_count": null,
   "id": "bcb09133-5b8c-494b-950c-462c65fe1ab0",
   "metadata": {},
   "outputs": [],
   "source": [
    "v = torch.tensor([0.1, 1.0, 0.001], dtype=torch.float32)\n",
    "z.backward(v, retain_graph=True)"
   ]
  },
  {
   "cell_type": "code",
   "execution_count": null,
   "id": "017317f4-f1ad-4a9a-a4dd-f90b3a8ea94a",
   "metadata": {},
   "outputs": [
    {
     "data": {
      "text/plain": [
       "(tensor([ 0.1730,  1.0904, -0.4991], requires_grad=True),\n",
       " tensor([2.1730, 3.0904, 1.5009], grad_fn=<AddBackward0>),\n",
       " tensor([ 9.4438, 19.1016,  4.5051], grad_fn=<MulBackward0>))"
      ]
     },
     "execution_count": null,
     "metadata": {},
     "output_type": "execute_result"
    }
   ],
   "source": [
    "x, y, z"
   ]
  },
  {
   "cell_type": "code",
   "execution_count": null,
   "id": "d0375126-4612-4870-8994-47d407648bbb",
   "metadata": {},
   "outputs": [
    {
     "data": {
      "text/plain": [
       "(tensor([8.6920e-01, 1.2362e+01, 6.0034e-03]),\n",
       " tensor([8.6920e-01, 1.2362e+01, 6.0034e-03]))"
      ]
     },
     "execution_count": null,
     "metadata": {},
     "output_type": "execute_result"
    }
   ],
   "source": [
    "x.grad, y.grad"
   ]
  },
  {
   "cell_type": "markdown",
   "id": "b1f00fe5-360c-4642-9da0-de46311b01d0",
   "metadata": {},
   "source": [
    "## Stopping gradient descent"
   ]
  },
  {
   "cell_type": "code",
   "execution_count": null,
   "id": "c24ca074-f4bd-4f19-a58a-48071858cb0b",
   "metadata": {},
   "outputs": [
    {
     "name": "stdout",
     "output_type": "stream",
     "text": [
      "tensor([ 0.1730,  1.0904, -0.4991])\n"
     ]
    }
   ],
   "source": [
    "x.requires_grad_(False)\n",
    "print(x)"
   ]
  },
  {
   "cell_type": "code",
   "execution_count": null,
   "id": "29ecb7b4-5f47-48d9-a8d5-c90fe043ec6e",
   "metadata": {},
   "outputs": [
    {
     "name": "stdout",
     "output_type": "stream",
     "text": [
      "tensor([ 0.1730,  1.0904, -0.4991])\n"
     ]
    }
   ],
   "source": [
    "y = x.detach()\n",
    "print(y)"
   ]
  },
  {
   "cell_type": "code",
   "execution_count": null,
   "id": "7542d517-189e-407f-9dcb-4b43121efe92",
   "metadata": {},
   "outputs": [
    {
     "name": "stdout",
     "output_type": "stream",
     "text": [
      "tensor([ 0.1730,  1.0904, -0.4991])\n"
     ]
    }
   ],
   "source": [
    "with torch.no_grad():\n",
    "    print(x)"
   ]
  },
  {
   "cell_type": "markdown",
   "id": "0a7186d2-bb14-467d-8bff-67025feb076c",
   "metadata": {},
   "source": [
    "## Zeroing Gradients"
   ]
  },
  {
   "cell_type": "code",
   "execution_count": null,
   "id": "87ef4aff-c9cc-4fc9-8d6f-60284dd66c45",
   "metadata": {},
   "outputs": [
    {
     "name": "stdout",
     "output_type": "stream",
     "text": [
      "tensor([3., 3., 3., 3.])\n",
      "tensor([6., 6., 6., 6.])\n",
      "tensor([9., 9., 9., 9.])\n",
      "tensor([12., 12., 12., 12.])\n",
      "tensor([15., 15., 15., 15.])\n"
     ]
    }
   ],
   "source": [
    "weights = torch.ones(4, requires_grad=True)\n",
    "\n",
    "for epoch in range(5):\n",
    "    model_output = (weights * 3).sum()\n",
    "\n",
    "    model_output.backward()\n",
    "\n",
    "    print(weights.grad)\n"
   ]
  },
  {
   "cell_type": "code",
   "execution_count": null,
   "id": "2d1f6962-debd-49fb-886d-cf08ca716afd",
   "metadata": {},
   "outputs": [
    {
     "name": "stdout",
     "output_type": "stream",
     "text": [
      "tensor([3., 3., 3., 3.])\n",
      "tensor([3., 3., 3., 3.])\n",
      "tensor([3., 3., 3., 3.])\n",
      "tensor([3., 3., 3., 3.])\n",
      "tensor([3., 3., 3., 3.])\n"
     ]
    }
   ],
   "source": [
    "weights = torch.ones(4, requires_grad=True)\n",
    "\n",
    "for epoch in range(5):\n",
    "    model_output = (weights * 3).sum()\n",
    "\n",
    "    model_output.backward()\n",
    "\n",
    "    print(weights.grad)\n",
    "\n",
    "    weights.grad.zero_()\n"
   ]
  },
  {
   "cell_type": "markdown",
   "id": "1d0ddede-e181-4300-ba2f-c729f6ff29b7",
   "metadata": {},
   "source": [
    "## Backpropagation"
   ]
  },
  {
   "cell_type": "code",
   "execution_count": null,
   "id": "d53ddf0a-c5a3-48af-9d68-388247c82df4",
   "metadata": {},
   "outputs": [],
   "source": [
    "weights = torch.ones(4, requires_grad=True)\n"
   ]
  },
  {
   "cell_type": "code",
   "execution_count": null,
   "id": "3abacda1-565c-4ed6-a4d7-3a89d2c2ee7e",
   "metadata": {},
   "outputs": [
    {
     "name": "stdout",
     "output_type": "stream",
     "text": [
      "nbdevAuto                 0.0.119        /home/ben/BENEDICT_Only/Benedict_Projects/Benedict_ML/nbdevAuto\n",
      "Note: you may need to restart the kernel to use updated packages.\n"
     ]
    }
   ],
   "source": [
    "pip list| grep nbdevAuto"
   ]
  },
  {
   "cell_type": "code",
   "execution_count": null,
   "id": "fbba73df-a459-4a98-bb19-b1c502620041",
   "metadata": {},
   "outputs": [],
   "source": [
    "from graphviz import Digraph\n",
    "from nbdevAuto import functions"
   ]
  },
  {
   "cell_type": "code",
   "execution_count": null,
   "id": "49a3cefb-7f42-4506-a95d-14d0edfe2f1c",
   "metadata": {},
   "outputs": [
    {
     "data": {
      "image/svg+xml": [
       "<?xml version=\"1.0\" encoding=\"UTF-8\" standalone=\"no\"?>\n",
       "<!DOCTYPE svg PUBLIC \"-//W3C//DTD SVG 1.1//EN\"\n",
       " \"http://www.w3.org/Graphics/SVG/1.1/DTD/svg11.dtd\">\n",
       "<!-- Generated by graphviz version 2.43.0 (0)\n",
       " -->\n",
       "<!-- Title: %3 Pages: 1 -->\n",
       "<svg width=\"692pt\" height=\"116pt\"\n",
       " viewBox=\"0.00 0.00 692.00 116.00\" xmlns=\"http://www.w3.org/2000/svg\" xmlns:xlink=\"http://www.w3.org/1999/xlink\">\n",
       "<g id=\"graph0\" class=\"graph\" transform=\"scale(1 1) rotate(0) translate(4 112)\">\n",
       "<title>%3</title>\n",
       "<polygon fill=\"white\" stroke=\"transparent\" points=\"-4,4 -4,-112 688,-112 688,4 -4,4\"/>\n",
       "<!-- x -->\n",
       "<g id=\"node1\" class=\"node\">\n",
       "<title>x</title>\n",
       "<path fill=\"#fcbf49\" stroke=\"black\" stroke-width=\"0\" d=\"M96,-72C96,-72 12,-72 12,-72 6,-72 0,-66 0,-60 0,-60 0,-48 0,-48 0,-42 6,-36 12,-36 12,-36 96,-36 96,-36 102,-36 108,-42 108,-48 108,-48 108,-60 108,-60 108,-66 102,-72 96,-72\"/>\n",
       "<text text-anchor=\"middle\" x=\"54\" y=\"-50.3\" font-family=\"Helvetica,Arial,sans-serif\" font-size=\"14.00\" fill=\"#003049\">x</text>\n",
       "</g>\n",
       "<!-- a -->\n",
       "<g id=\"node2\" class=\"node\">\n",
       "<title>a</title>\n",
       "<ellipse fill=\"#fcbf49\" stroke=\"black\" stroke-width=\"0\" cx=\"198\" cy=\"-54\" rx=\"54\" ry=\"54\"/>\n",
       "<text text-anchor=\"middle\" x=\"198\" y=\"-50.3\" font-family=\"Helvetica,Arial,sans-serif\" font-size=\"14.00\" fill=\"#003049\">a(x)</text>\n",
       "</g>\n",
       "<!-- x&#45;&gt;a -->\n",
       "<g id=\"edge1\" class=\"edge\">\n",
       "<title>x&#45;&gt;a</title>\n",
       "<path fill=\"none\" stroke=\"#003049\" d=\"M108.28,-54C116.56,-54 125.18,-54 133.66,-54\"/>\n",
       "<polygon fill=\"#003049\" stroke=\"#003049\" points=\"143.89,-54 133.89,-58.5 138.89,-54 133.89,-54 133.89,-54 133.89,-54 138.89,-54 133.89,-49.5 143.89,-54 143.89,-54\"/>\n",
       "</g>\n",
       "<!-- y -->\n",
       "<g id=\"node3\" class=\"node\">\n",
       "<title>y</title>\n",
       "<path fill=\"#fcbf49\" stroke=\"black\" stroke-width=\"0\" d=\"M384,-72C384,-72 300,-72 300,-72 294,-72 288,-66 288,-60 288,-60 288,-48 288,-48 288,-42 294,-36 300,-36 300,-36 384,-36 384,-36 390,-36 396,-42 396,-48 396,-48 396,-60 396,-60 396,-66 390,-72 384,-72\"/>\n",
       "<text text-anchor=\"middle\" x=\"342\" y=\"-50.3\" font-family=\"Helvetica,Arial,sans-serif\" font-size=\"14.00\" fill=\"#003049\">y</text>\n",
       "</g>\n",
       "<!-- a&#45;&gt;y -->\n",
       "<g id=\"edge2\" class=\"edge\">\n",
       "<title>a&#45;&gt;y</title>\n",
       "<path fill=\"none\" stroke=\"#003049\" d=\"M252.28,-54C260.56,-54 269.18,-54 277.66,-54\"/>\n",
       "<polygon fill=\"#003049\" stroke=\"#003049\" points=\"287.89,-54 277.89,-58.5 282.89,-54 277.89,-54 277.89,-54 277.89,-54 282.89,-54 277.89,-49.5 287.89,-54 287.89,-54\"/>\n",
       "</g>\n",
       "<!-- b -->\n",
       "<g id=\"node4\" class=\"node\">\n",
       "<title>b</title>\n",
       "<ellipse fill=\"#fcbf49\" stroke=\"black\" stroke-width=\"0\" cx=\"486\" cy=\"-54\" rx=\"54\" ry=\"54\"/>\n",
       "<text text-anchor=\"middle\" x=\"486\" y=\"-50.3\" font-family=\"Helvetica,Arial,sans-serif\" font-size=\"14.00\" fill=\"#003049\">b(y)</text>\n",
       "</g>\n",
       "<!-- y&#45;&gt;b -->\n",
       "<g id=\"edge3\" class=\"edge\">\n",
       "<title>y&#45;&gt;b</title>\n",
       "<path fill=\"none\" stroke=\"#003049\" d=\"M396.28,-54C404.56,-54 413.18,-54 421.66,-54\"/>\n",
       "<polygon fill=\"#003049\" stroke=\"#003049\" points=\"431.89,-54 421.89,-58.5 426.89,-54 421.89,-54 421.89,-54 421.89,-54 426.89,-54 421.89,-49.5 431.89,-54 431.89,-54\"/>\n",
       "</g>\n",
       "<!-- z -->\n",
       "<g id=\"node5\" class=\"node\">\n",
       "<title>z</title>\n",
       "<path fill=\"#fcbf49\" stroke=\"black\" stroke-width=\"0\" d=\"M672,-72C672,-72 588,-72 588,-72 582,-72 576,-66 576,-60 576,-60 576,-48 576,-48 576,-42 582,-36 588,-36 588,-36 672,-36 672,-36 678,-36 684,-42 684,-48 684,-48 684,-60 684,-60 684,-66 678,-72 672,-72\"/>\n",
       "<text text-anchor=\"middle\" x=\"630\" y=\"-50.3\" font-family=\"Helvetica,Arial,sans-serif\" font-size=\"14.00\" fill=\"#003049\">z</text>\n",
       "</g>\n",
       "<!-- b&#45;&gt;z -->\n",
       "<g id=\"edge4\" class=\"edge\">\n",
       "<title>b&#45;&gt;z</title>\n",
       "<path fill=\"none\" stroke=\"#003049\" d=\"M540.28,-54C548.56,-54 557.18,-54 565.66,-54\"/>\n",
       "<polygon fill=\"#003049\" stroke=\"#003049\" points=\"575.89,-54 565.89,-58.5 570.89,-54 565.89,-54 565.89,-54 565.89,-54 570.89,-54 565.89,-49.5 575.89,-54 575.89,-54\"/>\n",
       "</g>\n",
       "</g>\n",
       "</svg>\n"
      ],
      "text/plain": [
       "<nbdevAuto.functions.graph>"
      ]
     },
     "execution_count": null,
     "metadata": {},
     "output_type": "execute_result"
    }
   ],
   "source": [
    "dot = functions.graph()\n",
    "# Add nodes with different shapes and formatting\n",
    "dot.node('x', 'x')\n",
    "dot.node('a', 'a(x)', shape='circle')\n",
    "dot.node('y', 'y')\n",
    "dot.node('b', 'b(y)', shape='circle')\n",
    "dot.node('z', 'z')\n",
    "\n",
    "# Add edges with custom labels and formatting\n",
    "dot.edge('x', 'a')\n",
    "dot.edge('a', 'y')\n",
    "dot.edge('y', 'b')\n",
    "dot.edge('b', 'z')\n",
    "\n",
    "# Render the graph\n",
    "dot\n"
   ]
  },
  {
   "cell_type": "markdown",
   "id": "4d9bdae8-2c85-43c6-a6da-a16f0b17aaa1",
   "metadata": {},
   "source": [
    "**Chain rule**\n",
    "\n",
    "$\\dfrac{\\delta z}{\\delta x} =  \\dfrac{\\delta z}{\\delta y} \\cdot \\dfrac{\\delta y}{\\delta x}$"
   ]
  },
  {
   "cell_type": "markdown",
   "id": "7518552a-9fff-4138-ada4-2335f03dc195",
   "metadata": {},
   "source": [
    "## Computational Graph"
   ]
  },
  {
   "cell_type": "code",
   "execution_count": null,
   "id": "8ff0ef52-3edd-44e4-889c-94826446e336",
   "metadata": {},
   "outputs": [
    {
     "data": {
      "image/svg+xml": [
       "<?xml version=\"1.0\" encoding=\"UTF-8\" standalone=\"no\"?>\n",
       "<!DOCTYPE svg PUBLIC \"-//W3C//DTD SVG 1.1//EN\"\n",
       " \"http://www.w3.org/Graphics/SVG/1.1/DTD/svg11.dtd\">\n",
       "<!-- Generated by graphviz version 2.43.0 (0)\n",
       " -->\n",
       "<!-- Title: %3 Pages: 1 -->\n",
       "<svg width=\"404pt\" height=\"116pt\"\n",
       " viewBox=\"0.00 0.00 404.00 116.00\" xmlns=\"http://www.w3.org/2000/svg\" xmlns:xlink=\"http://www.w3.org/1999/xlink\">\n",
       "<g id=\"graph0\" class=\"graph\" transform=\"scale(1 1) rotate(0) translate(4 112)\">\n",
       "<title>%3</title>\n",
       "<polygon fill=\"white\" stroke=\"transparent\" points=\"-4,4 -4,-112 400,-112 400,4 -4,4\"/>\n",
       "<!-- x -->\n",
       "<g id=\"node1\" class=\"node\">\n",
       "<title>x</title>\n",
       "<path fill=\"#fcbf49\" stroke=\"black\" stroke-width=\"0\" d=\"M96,-99C96,-99 12,-99 12,-99 6,-99 0,-93 0,-87 0,-87 0,-75 0,-75 0,-69 6,-63 12,-63 12,-63 96,-63 96,-63 102,-63 108,-69 108,-75 108,-75 108,-87 108,-87 108,-93 102,-99 96,-99\"/>\n",
       "<text text-anchor=\"middle\" x=\"54\" y=\"-77.3\" font-family=\"Helvetica,Arial,sans-serif\" font-size=\"14.00\" fill=\"#003049\">x</text>\n",
       "</g>\n",
       "<!-- * -->\n",
       "<g id=\"node2\" class=\"node\">\n",
       "<title>*</title>\n",
       "<ellipse fill=\"#fcbf49\" stroke=\"black\" stroke-width=\"0\" cx=\"198\" cy=\"-54\" rx=\"54\" ry=\"54\"/>\n",
       "<text text-anchor=\"middle\" x=\"198\" y=\"-50.3\" font-family=\"Helvetica,Arial,sans-serif\" font-size=\"14.00\" fill=\"#003049\">f=x*y</text>\n",
       "</g>\n",
       "<!-- x&#45;&gt;* -->\n",
       "<g id=\"edge1\" class=\"edge\">\n",
       "<title>x&#45;&gt;*</title>\n",
       "<path fill=\"none\" stroke=\"#003049\" d=\"M108.28,-70.87C116.97,-69.22 126.04,-67.49 134.92,-65.8\"/>\n",
       "<polygon fill=\"#003049\" stroke=\"#003049\" points=\"144.84,-63.92 135.85,-70.21 139.92,-64.85 135.01,-65.79 135.01,-65.79 135.01,-65.79 139.92,-64.85 134.17,-61.37 144.84,-63.92 144.84,-63.92\"/>\n",
       "</g>\n",
       "<!-- z -->\n",
       "<g id=\"node4\" class=\"node\">\n",
       "<title>z</title>\n",
       "<path fill=\"#fcbf49\" stroke=\"black\" stroke-width=\"0\" d=\"M384,-72C384,-72 300,-72 300,-72 294,-72 288,-66 288,-60 288,-60 288,-48 288,-48 288,-42 294,-36 300,-36 300,-36 384,-36 384,-36 390,-36 396,-42 396,-48 396,-48 396,-60 396,-60 396,-66 390,-72 384,-72\"/>\n",
       "<text text-anchor=\"middle\" x=\"342\" y=\"-50.3\" font-family=\"Helvetica,Arial,sans-serif\" font-size=\"14.00\" fill=\"#003049\">z</text>\n",
       "</g>\n",
       "<!-- *&#45;&gt;z -->\n",
       "<g id=\"edge3\" class=\"edge\">\n",
       "<title>*&#45;&gt;z</title>\n",
       "<path fill=\"none\" stroke=\"#003049\" d=\"M252.28,-54C260.56,-54 269.18,-54 277.66,-54\"/>\n",
       "<polygon fill=\"#003049\" stroke=\"#003049\" points=\"287.89,-54 277.89,-58.5 282.89,-54 277.89,-54 277.89,-54 277.89,-54 282.89,-54 277.89,-49.5 287.89,-54 287.89,-54\"/>\n",
       "</g>\n",
       "<!-- y -->\n",
       "<g id=\"node3\" class=\"node\">\n",
       "<title>y</title>\n",
       "<path fill=\"#fcbf49\" stroke=\"black\" stroke-width=\"0\" d=\"M96,-45C96,-45 12,-45 12,-45 6,-45 0,-39 0,-33 0,-33 0,-21 0,-21 0,-15 6,-9 12,-9 12,-9 96,-9 96,-9 102,-9 108,-15 108,-21 108,-21 108,-33 108,-33 108,-39 102,-45 96,-45\"/>\n",
       "<text text-anchor=\"middle\" x=\"54\" y=\"-23.3\" font-family=\"Helvetica,Arial,sans-serif\" font-size=\"14.00\" fill=\"#003049\">y</text>\n",
       "</g>\n",
       "<!-- y&#45;&gt;* -->\n",
       "<g id=\"edge2\" class=\"edge\">\n",
       "<title>y&#45;&gt;*</title>\n",
       "<path fill=\"none\" stroke=\"#003049\" d=\"M108.28,-37.13C116.97,-38.78 126.04,-40.51 134.92,-42.2\"/>\n",
       "<polygon fill=\"#003049\" stroke=\"#003049\" points=\"144.84,-44.08 134.17,-46.63 139.92,-43.15 135.01,-42.21 135.01,-42.21 135.01,-42.21 139.92,-43.15 135.85,-37.79 144.84,-44.08 144.84,-44.08\"/>\n",
       "</g>\n",
       "</g>\n",
       "</svg>\n"
      ],
      "text/plain": [
       "<nbdevAuto.functions.graph>"
      ]
     },
     "execution_count": null,
     "metadata": {},
     "output_type": "execute_result"
    }
   ],
   "source": [
    "dot = functions.graph()\n",
    "# Add nodes with different shapes and formatting\n",
    "dot.node('x', 'x')\n",
    "dot.node('*', 'f=x*y', shape='circle')\n",
    "dot.node('y', 'y')\n",
    "dot.node('z', 'z')\n",
    "\n",
    "# Add edges with custom labels and formatting\n",
    "dot.edge('x', '*')\n",
    "dot.edge('y', '*')\n",
    "dot.edge('*', 'z')\n",
    "\n",
    "# Render the graph\n",
    "dot\n"
   ]
  },
  {
   "cell_type": "markdown",
   "id": "012a32a0-32b1-4e97-8893-791150e4e663",
   "metadata": {},
   "source": [
    "$\\dfrac{\\delta z}{\\delta x}  = \\dfrac{\\delta xy}{\\delta x} = y$ \n",
    "\n",
    "$\\dfrac{\\delta z}{\\delta y}  = \\dfrac{\\delta xy}{\\delta y} = y$ \n",
    "\n",
    "\n",
    "$\\dfrac{\\delta  \\ \\text{loss}}{\\delta x}  = \\dfrac{\\delta  \\ \\text{loss}}{\\delta z}  \\cdot \\dfrac{\\delta  z}{\\delta x}  $ "
   ]
  },
  {
   "cell_type": "markdown",
   "id": "c9ecccc7-a082-4dc7-9953-de0679ca42af",
   "metadata": {},
   "source": [
    "1. Forward pass: Computer loss\n",
    "2. Compute local gradients\n",
    "3. Backward pass: Compute dLoss/dWeights using the Chain Rule"
   ]
  },
  {
   "cell_type": "code",
   "execution_count": null,
   "id": "eee5a131-87c6-4cde-9390-1b59e318c3ad",
   "metadata": {},
   "outputs": [
    {
     "data": {
      "image/svg+xml": [
       "<?xml version=\"1.0\" encoding=\"UTF-8\" standalone=\"no\"?>\n",
       "<!DOCTYPE svg PUBLIC \"-//W3C//DTD SVG 1.1//EN\"\n",
       " \"http://www.w3.org/Graphics/SVG/1.1/DTD/svg11.dtd\">\n",
       "<!-- Generated by graphviz version 2.43.0 (0)\n",
       " -->\n",
       "<!-- Title: %3 Pages: 1 -->\n",
       "<svg width=\"716pt\" height=\"170pt\"\n",
       " viewBox=\"0.00 0.00 716.00 170.00\" xmlns=\"http://www.w3.org/2000/svg\" xmlns:xlink=\"http://www.w3.org/1999/xlink\">\n",
       "<g id=\"graph0\" class=\"graph\" transform=\"scale(1 1) rotate(0) translate(4 166)\">\n",
       "<title>%3</title>\n",
       "<polygon fill=\"white\" stroke=\"transparent\" points=\"-4,4 -4,-166 712,-166 712,4 -4,4\"/>\n",
       "<!-- x -->\n",
       "<g id=\"node1\" class=\"node\">\n",
       "<title>x</title>\n",
       "<path fill=\"#fcbf49\" stroke=\"black\" stroke-width=\"0\" d=\"M96,-153C96,-153 12,-153 12,-153 6,-153 0,-147 0,-141 0,-141 0,-129 0,-129 0,-123 6,-117 12,-117 12,-117 96,-117 96,-117 102,-117 108,-123 108,-129 108,-129 108,-141 108,-141 108,-147 102,-153 96,-153\"/>\n",
       "<text text-anchor=\"middle\" x=\"54\" y=\"-131.3\" font-family=\"Helvetica,Arial,sans-serif\" font-size=\"14.00\" fill=\"#003049\">x</text>\n",
       "</g>\n",
       "<!-- * -->\n",
       "<g id=\"node3\" class=\"node\">\n",
       "<title>*</title>\n",
       "<ellipse fill=\"#fcbf49\" stroke=\"black\" stroke-width=\"0\" cx=\"199\" cy=\"-108\" rx=\"54\" ry=\"54\"/>\n",
       "<text text-anchor=\"middle\" x=\"199\" y=\"-111.8\" font-family=\"Helvetica,Arial,sans-serif\" font-size=\"14.00\" fill=\"#003049\">*</text>\n",
       "<text text-anchor=\"middle\" x=\"199\" y=\"-96.8\" font-family=\"Helvetica,Arial,sans-serif\" font-size=\"14.00\" fill=\"#003049\">y1=w*y</text>\n",
       "</g>\n",
       "<!-- x&#45;&gt;* -->\n",
       "<g id=\"edge1\" class=\"edge\">\n",
       "<title>x&#45;&gt;*</title>\n",
       "<path fill=\"none\" stroke=\"#003049\" d=\"M108.25,-124.95C117.23,-123.25 126.62,-121.48 135.8,-119.74\"/>\n",
       "<polygon fill=\"#003049\" stroke=\"#003049\" points=\"145.66,-117.88 136.67,-124.16 140.75,-118.81 135.83,-119.74 135.83,-119.74 135.83,-119.74 140.75,-118.81 135,-115.32 145.66,-117.88 145.66,-117.88\"/>\n",
       "</g>\n",
       "<!-- w -->\n",
       "<g id=\"node2\" class=\"node\">\n",
       "<title>w</title>\n",
       "<path fill=\"#fcbf49\" stroke=\"black\" stroke-width=\"0\" d=\"M96,-99C96,-99 12,-99 12,-99 6,-99 0,-93 0,-87 0,-87 0,-75 0,-75 0,-69 6,-63 12,-63 12,-63 96,-63 96,-63 102,-63 108,-69 108,-75 108,-75 108,-87 108,-87 108,-93 102,-99 96,-99\"/>\n",
       "<text text-anchor=\"middle\" x=\"54\" y=\"-77.3\" font-family=\"Helvetica,Arial,sans-serif\" font-size=\"14.00\" fill=\"#003049\">w</text>\n",
       "</g>\n",
       "<!-- w&#45;&gt;* -->\n",
       "<g id=\"edge2\" class=\"edge\">\n",
       "<title>w&#45;&gt;*</title>\n",
       "<path fill=\"none\" stroke=\"#003049\" d=\"M108.25,-91.05C117.23,-92.75 126.62,-94.52 135.8,-96.26\"/>\n",
       "<polygon fill=\"#003049\" stroke=\"#003049\" points=\"145.66,-98.12 135,-100.68 140.75,-97.19 135.83,-96.26 135.83,-96.26 135.83,-96.26 140.75,-97.19 136.67,-91.84 145.66,-98.12 145.66,-98.12\"/>\n",
       "</g>\n",
       "<!-- &#45; -->\n",
       "<g id=\"node5\" class=\"node\">\n",
       "<title>&#45;</title>\n",
       "<path fill=\"#fcbf49\" stroke=\"black\" stroke-width=\"0\" d=\"M400,-53C400,-53 316,-53 316,-53 310,-53 304,-47 304,-41 304,-41 304,-27 304,-27 304,-21 310,-15 316,-15 316,-15 400,-15 400,-15 406,-15 412,-21 412,-27 412,-27 412,-41 412,-41 412,-47 406,-53 400,-53\"/>\n",
       "<text text-anchor=\"middle\" x=\"358\" y=\"-37.8\" font-family=\"Helvetica,Arial,sans-serif\" font-size=\"14.00\" fill=\"#003049\">&#45;</text>\n",
       "<text text-anchor=\"middle\" x=\"358\" y=\"-22.8\" font-family=\"Helvetica,Arial,sans-serif\" font-size=\"14.00\" fill=\"#003049\">s= y1&#45;y</text>\n",
       "</g>\n",
       "<!-- *&#45;&gt;&#45; -->\n",
       "<g id=\"edge3\" class=\"edge\">\n",
       "<title>*&#45;&gt;&#45;</title>\n",
       "<path fill=\"none\" stroke=\"#003049\" d=\"M248.39,-85.19C267.04,-76.4 288.36,-66.35 307.15,-57.49\"/>\n",
       "<polygon fill=\"#003049\" stroke=\"#003049\" points=\"316.43,-53.12 309.31,-61.45 311.91,-55.25 307.39,-57.38 307.39,-57.38 307.39,-57.38 311.91,-55.25 305.47,-53.31 316.43,-53.12 316.43,-53.12\"/>\n",
       "<text text-anchor=\"middle\" x=\"278.5\" y=\"-76.8\" font-family=\"Helvetica,Arial,sans-serif\" font-size=\"14.00\">y1</text>\n",
       "</g>\n",
       "<!-- y -->\n",
       "<g id=\"node4\" class=\"node\">\n",
       "<title>y</title>\n",
       "<path fill=\"#fcbf49\" stroke=\"black\" stroke-width=\"0\" d=\"M241,-36C241,-36 157,-36 157,-36 151,-36 145,-30 145,-24 145,-24 145,-12 145,-12 145,-6 151,0 157,0 157,0 241,0 241,0 247,0 253,-6 253,-12 253,-12 253,-24 253,-24 253,-30 247,-36 241,-36\"/>\n",
       "<text text-anchor=\"middle\" x=\"199\" y=\"-14.3\" font-family=\"Helvetica,Arial,sans-serif\" font-size=\"14.00\" fill=\"#003049\">y</text>\n",
       "</g>\n",
       "<!-- y&#45;&gt;&#45; -->\n",
       "<g id=\"edge4\" class=\"edge\">\n",
       "<title>y&#45;&gt;&#45;</title>\n",
       "<path fill=\"none\" stroke=\"#003049\" d=\"M253.15,-23.42C266.2,-24.75 280.29,-26.18 293.75,-27.55\"/>\n",
       "<polygon fill=\"#003049\" stroke=\"#003049\" points=\"303.9,-28.59 293.5,-32.05 298.93,-28.08 293.95,-27.57 293.95,-27.57 293.95,-27.57 298.93,-28.08 294.41,-23.1 303.9,-28.59 303.9,-28.59\"/>\n",
       "</g>\n",
       "<!-- ^2 -->\n",
       "<g id=\"node6\" class=\"node\">\n",
       "<title>^2</title>\n",
       "<path fill=\"#fcbf49\" stroke=\"black\" stroke-width=\"0\" d=\"M551,-53C551,-53 467,-53 467,-53 461,-53 455,-47 455,-41 455,-41 455,-27 455,-27 455,-21 461,-15 467,-15 467,-15 551,-15 551,-15 557,-15 563,-21 563,-27 563,-27 563,-41 563,-41 563,-47 557,-53 551,-53\"/>\n",
       "<text text-anchor=\"middle\" x=\"509\" y=\"-37.8\" font-family=\"Helvetica,Arial,sans-serif\" font-size=\"14.00\" fill=\"#003049\">^2</text>\n",
       "<text text-anchor=\"middle\" x=\"509\" y=\"-22.8\" font-family=\"Helvetica,Arial,sans-serif\" font-size=\"14.00\" fill=\"#003049\">(y1&#45;y)^2</text>\n",
       "</g>\n",
       "<!-- &#45;&#45;&gt;^2 -->\n",
       "<g id=\"edge5\" class=\"edge\">\n",
       "<title>&#45;&#45;&gt;^2</title>\n",
       "<path fill=\"none\" stroke=\"#003049\" d=\"M412.37,-34C422.81,-34 433.86,-34 444.59,-34\"/>\n",
       "<polygon fill=\"#003049\" stroke=\"#003049\" points=\"454.75,-34 444.75,-38.5 449.75,-34 444.75,-34 444.75,-34 444.75,-34 449.75,-34 444.75,-29.5 454.75,-34 454.75,-34\"/>\n",
       "<text text-anchor=\"middle\" x=\"433.5\" y=\"-37.8\" font-family=\"Helvetica,Arial,sans-serif\" font-size=\"14.00\">s</text>\n",
       "</g>\n",
       "<!-- Loss -->\n",
       "<g id=\"node7\" class=\"node\">\n",
       "<title>Loss</title>\n",
       "<path fill=\"#fcbf49\" stroke=\"black\" stroke-width=\"0\" d=\"M696,-52C696,-52 612,-52 612,-52 606,-52 600,-46 600,-40 600,-40 600,-28 600,-28 600,-22 606,-16 612,-16 612,-16 696,-16 696,-16 702,-16 708,-22 708,-28 708,-28 708,-40 708,-40 708,-46 702,-52 696,-52\"/>\n",
       "<text text-anchor=\"middle\" x=\"654\" y=\"-30.3\" font-family=\"Helvetica,Arial,sans-serif\" font-size=\"14.00\" fill=\"#003049\">Loss</text>\n",
       "</g>\n",
       "<!-- ^2&#45;&gt;Loss -->\n",
       "<g id=\"edge6\" class=\"edge\">\n",
       "<title>^2&#45;&gt;Loss</title>\n",
       "<path fill=\"none\" stroke=\"#003049\" d=\"M563.25,-34C571.81,-34 580.74,-34 589.52,-34\"/>\n",
       "<polygon fill=\"#003049\" stroke=\"#003049\" points=\"599.71,-34 589.71,-38.5 594.71,-34 589.71,-34 589.71,-34 589.71,-34 594.71,-34 589.71,-29.5 599.71,-34 599.71,-34\"/>\n",
       "</g>\n",
       "</g>\n",
       "</svg>\n"
      ],
      "text/plain": [
       "<nbdevAuto.functions.graph>"
      ]
     },
     "execution_count": null,
     "metadata": {},
     "output_type": "execute_result"
    }
   ],
   "source": [
    "dot = functions.graph()\n",
    "# Add nodes with different shapes and formatting\n",
    "dot.node('x', 'x')\n",
    "dot.node('w', 'w')\n",
    "dot.node('*', '*\\ny1=w*y', shape='circle')\n",
    "\n",
    "dot.node('y', 'y')\n",
    "dot.node('-', '-\\ns= y1-y')\n",
    "\n",
    "dot.node('^2', '^2\\n(y1-y)^2')\n",
    "dot.node('Loss', 'Loss')\n",
    "# Add edges with custom labels and formatting\n",
    "dot.edge('x', '*')\n",
    "dot.edge('w', '*')\n",
    "\n",
    "dot.edge('*', '-', label='y1')\n",
    "dot.edge('y', '-')\n",
    "\n",
    "dot.edge('-', '^2', label='s')\n",
    "\n",
    "dot.edge('^2', 'Loss')\n",
    "# Render the graph\n",
    "dot"
   ]
  },
  {
   "cell_type": "markdown",
   "id": "18b34fab-a1dd-4112-a01a-115e6cbeae66",
   "metadata": {},
   "source": [
    "$Loss = (\\hat{y} - y)^2$ \n",
    "\n",
    "$\\dfrac{\\delta loss}{\\delta s} = \\dfrac{s^2}{s} = 2s$\n",
    "\n",
    "$\\dfrac{\\delta s}{\\delta \\hat{y}} = \\dfrac{\\delta\\hat{y} - y}{\\delta \\hat{y}} = 1$\n",
    "\n",
    "$\\dfrac{\\delta \\hat{y}}{\\delta w} = \\dfrac{\\delta wx}{\\delta w} = x$\n",
    "\n",
    "$\\therefore \\dfrac{\\delta loss}{\\delta w} = \\dfrac{\\delta loss}{\\delta s} \\cdot \\dfrac{\\delta s}{\\delta y} \\cdot  \\dfrac{\\delta \\hat{y}}{\\delta w} = 2 \\cdot s \\cdot x = 2 \\cdot (-1) \\cdot (1) = -2$\n"
   ]
  },
  {
   "cell_type": "code",
   "execution_count": null,
   "id": "f18c03b0-ec4c-4b0b-bbc8-b480b6d74923",
   "metadata": {},
   "outputs": [],
   "source": [
    "x = 1\n",
    "y = 2\n",
    "w = 1\n",
    "\n",
    "y1 = x * w \n",
    "s = y1-y\n",
    "loss = s**2"
   ]
  },
  {
   "cell_type": "code",
   "execution_count": null,
   "id": "b6c61826-d525-41fa-8a8e-7ce210681775",
   "metadata": {},
   "outputs": [
    {
     "name": "stdout",
     "output_type": "stream",
     "text": [
      "x:1 w:1 y1:1 y:2 s:-1 loss:1\n"
     ]
    }
   ],
   "source": [
    "print(f'x:{x} w:{w} y1:{y1} y:{y} s:{s} loss:{loss}')"
   ]
  },
  {
   "cell_type": "code",
   "execution_count": null,
   "id": "69a2c98f-bf52-48a5-93a4-5fe7a7368b9a",
   "metadata": {},
   "outputs": [],
   "source": [
    "import torch\n",
    "x = torch.tensor(1.0)\n",
    "y = torch.tensor(2.0)"
   ]
  },
  {
   "cell_type": "code",
   "execution_count": null,
   "id": "7014fb42-1132-45ac-894b-c476e498a8b2",
   "metadata": {},
   "outputs": [],
   "source": [
    "w = torch.tensor(1.0, requires_grad = True)\n",
    "\n",
    "lr = 0.005"
   ]
  },
  {
   "cell_type": "code",
   "execution_count": null,
   "id": "56837c07-95f9-4594-b2cd-9cc794e5cbfd",
   "metadata": {},
   "outputs": [
    {
     "name": "stdout",
     "output_type": "stream",
     "text": [
      "tensor(1., grad_fn=<MulBackward0>)\n",
      "tensor(1., grad_fn=<PowBackward0>)\n"
     ]
    }
   ],
   "source": [
    "#forward pass and compute the loss\n",
    "y1 = w * x\n",
    "loss = (y1-y)**2\n",
    "\n",
    "print(y1)\n",
    "print(loss)"
   ]
  },
  {
   "cell_type": "code",
   "execution_count": null,
   "id": "50faa847-b270-4e92-98f4-3029d4f33458",
   "metadata": {},
   "outputs": [
    {
     "name": "stdout",
     "output_type": "stream",
     "text": [
      "tensor(-2.)\n"
     ]
    },
    {
     "data": {
      "text/plain": [
       "tensor(0.)"
      ]
     },
     "execution_count": null,
     "metadata": {},
     "output_type": "execute_result"
    }
   ],
   "source": [
    "# backward pass\n",
    "\n",
    "loss.backward()\n",
    "print(w.grad)\n",
    "\n",
    "w.grad.zero_()"
   ]
  },
  {
   "cell_type": "markdown",
   "id": "8e0dc0df-fda4-4ee0-99c6-b382e6b530cf",
   "metadata": {},
   "source": [
    "## Gradient Descent\n"
   ]
  },
  {
   "cell_type": "markdown",
   "id": "ab82af36-03e3-4bb0-9f3d-b2fe68827ed9",
   "metadata": {},
   "source": [
    "### Numpy\n",
    "\n",
    "\n",
    "> Prediction: Manually\n",
    "\n",
    "> Gradients Computation: Manually\n",
    "\n",
    "> Loss Computation: Manually\n",
    "\n",
    "> Parameter updates: Manually\n"
   ]
  },
  {
   "cell_type": "code",
   "execution_count": null,
   "id": "fbfdba60-4289-4451-be1c-21f83694efa4",
   "metadata": {},
   "outputs": [],
   "source": [
    "import numpy as np"
   ]
  },
  {
   "cell_type": "code",
   "execution_count": null,
   "id": "c179fc8e-0031-45e4-a426-337ca956b92f",
   "metadata": {},
   "outputs": [],
   "source": [
    "x = np.array([1,2,3,4], dtype=np.float32)\n",
    "y = np.array([2,4,6,8], dtype=np.float32)\n",
    "\n",
    "w = 0.0"
   ]
  },
  {
   "cell_type": "code",
   "execution_count": null,
   "id": "6606f231-fccf-4706-823e-5d3d0f63cc7b",
   "metadata": {},
   "outputs": [],
   "source": [
    "# model\n",
    "def forward(x):\n",
    "    return w * x\n",
    "\n",
    "\n",
    "def loss(y, y_predicted):\n",
    "    return ((y_predicted - y)**2).mean()"
   ]
  },
  {
   "cell_type": "code",
   "execution_count": null,
   "id": "c7e9bf59-0c7e-46ee-8723-8832d80dfdb9",
   "metadata": {},
   "outputs": [
    {
     "name": "stdout",
     "output_type": "stream",
     "text": [
      "Prediction before training: f(5) = 0.000\n"
     ]
    }
   ],
   "source": [
    "# gradient\n",
    "\n",
    "# MSE = 1/N * (w*x - y)**2\n",
    "# dJ/dw = 1/N 2x (w*x - y)\n",
    "\n",
    "def gradient (x, y, y_predicted):\n",
    "    return np.dot(2 * x, y_predicted-y).mean()\n",
    "\n",
    "print(f'Prediction before training: f(5) = {forward(5):.3f}')"
   ]
  },
  {
   "cell_type": "code",
   "execution_count": null,
   "id": "1014d106-06fd-4a65-a0c3-b150ff372d91",
   "metadata": {},
   "outputs": [
    {
     "name": "stdout",
     "output_type": "stream",
     "text": [
      "epoc:0  w = 1.200 , y_pred=6.0, y = 10, loss = 30.00000000, dw = -120.0\n",
      "epoc:1  w = 1.680 , y_pred=8.399999809265136, y = 10, loss = 4.79999924, dw = -47.999996185302734\n",
      "epoc:2  w = 1.872 , y_pred=9.35999994277954, y = 10, loss = 0.76800019, dw = -19.200002670288086\n",
      "epoc:3  w = 1.949 , y_pred=9.743999934196472, y = 10, loss = 0.12288000, dw = -7.679999828338623\n",
      "epoc:4  w = 1.980 , y_pred=9.897600066661834, y = 10, loss = 0.01966083, dw = -3.072002649307251\n",
      "epoc:5  w = 1.992 , y_pred=9.95904014110565, y = 10, loss = 0.00314574, dw = -1.2288014888763428\n",
      "epoc:6  w = 1.997 , y_pred=9.983615934848784, y = 10, loss = 0.00050331, dw = -0.4915158748626709\n",
      "epoc:7  w = 1.999 , y_pred=9.993446409702301, y = 10, loss = 0.00008053, dw = -0.1966094970703125\n",
      "epoc:8  w = 1.999 , y_pred=9.997378492355345, y = 10, loss = 0.00001288, dw = -0.07864165306091309\n",
      "epoc:9  w = 2.000 , y_pred=9.998951268196105, y = 10, loss = 0.00000206, dw = -0.03145551681518555\n",
      "epoc:10  w = 2.000 , y_pred=9.999580299854276, y = 10, loss = 0.00000033, dw = -0.012580633163452148\n",
      "epoc:11  w = 2.000 , y_pred=9.999832069873808, y = 10, loss = 0.00000005, dw = -0.005035400390625\n",
      "epoc:12  w = 2.000 , y_pred=9.999932992458342, y = 10, loss = 0.00000001, dw = -0.002018451690673828\n",
      "epoc:13  w = 2.000 , y_pred=9.999973046779632, y = 10, loss = 0.00000000, dw = -0.00080108642578125\n",
      "epoc:14  w = 2.000 , y_pred=9.999989175796507, y = 10, loss = 0.00000000, dw = -0.00032258033752441406\n",
      "Prediction after training: 10.000, y = 10\n"
     ]
    }
   ],
   "source": [
    "learning_rate = 0.01\n",
    "n_iters = 15\n",
    "\n",
    "for epoch in range(n_iters):\n",
    "    # prediction = forward pass\n",
    "    y_pred = forward(x)\n",
    "\n",
    "    # loss \n",
    "    l = loss(y, y_pred)\n",
    "\n",
    "    # gradients\n",
    "    dw = gradient(x, y, y_pred)\n",
    "\n",
    "    # update weights\n",
    "    w -= learning_rate * dw\n",
    "\n",
    "    if epoch % 1 == 0:\n",
    "        print(f'epoc:{epoch}  w = {w:.3f} , y_pred={forward(5)}, y = {10}, loss = {l:.8f}, dw = {dw}')\n",
    "\n",
    "print(f'Prediction after training: {forward(5):.3f}, y = {10}')"
   ]
  },
  {
   "cell_type": "markdown",
   "id": "fab47a35-1fce-4aba-8ee1-1f6ccdc5708e",
   "metadata": {},
   "source": [
    "### Torch\n",
    "\n",
    "\n",
    "> Prediction: Manually\n",
    "\n",
    "> Gradients Computation: Autograd\n",
    "\n",
    "> Loss Computation: Manually\n",
    "\n",
    "> Parameter updates: Manually"
   ]
  },
  {
   "cell_type": "code",
   "execution_count": null,
   "id": "59981f51-02ed-4521-94df-0061de0bd327",
   "metadata": {},
   "outputs": [],
   "source": [
    "x = torch.tensor([1,2,3,4], dtype=torch.float32)\n",
    "y = torch.tensor([2,4,6,8], dtype=torch.float32)\n",
    "\n",
    "w = torch.tensor([0.0], dtype=torch.float32, requires_grad=True)"
   ]
  },
  {
   "cell_type": "code",
   "execution_count": null,
   "id": "b3da2246-2da0-46c4-8440-76c672faa86f",
   "metadata": {},
   "outputs": [],
   "source": [
    "# model\n",
    "def forward(x):\n",
    "    return w * x\n",
    "\n",
    "\n",
    "def loss(y, y_predicted):\n",
    "    return ((y_predicted - y)**2).mean()"
   ]
  },
  {
   "cell_type": "code",
   "execution_count": null,
   "id": "061265cd-72fe-4e64-ac31-d0b671971a16",
   "metadata": {},
   "outputs": [
    {
     "name": "stdout",
     "output_type": "stream",
     "text": [
      "Prediction before training: f(5) = tensor([0.], grad_fn=<MulBackward0>)\n"
     ]
    }
   ],
   "source": [
    "# gradient\n",
    "\n",
    "# MSE = 1/N * (w*x - y)**2\n",
    "# dJ/dw = 1/N 2x (w*x - y)\n",
    "\n",
    "print(f'Prediction before training: f(5) = {forward(5)}')"
   ]
  },
  {
   "cell_type": "code",
   "execution_count": null,
   "id": "74d2daa0-dad6-4f69-ae67-ba6847c7221f",
   "metadata": {},
   "outputs": [
    {
     "name": "stdout",
     "output_type": "stream",
     "text": [
      "epoc:0  w = 0.300, y_pred=1.500, y = 10, loss = 30.0000000, dw = -30.0000000\n",
      "epoc:2  w = 0.772, y_pred=3.859, y = 10, loss = 15.6601877, dw = -21.6749992\n",
      "epoc:4  w = 1.113, y_pred=5.563, y = 10, loss = 8.1747169, dw = -15.6601877\n",
      "epoc:6  w = 1.359, y_pred=6.794, y = 10, loss = 4.2672529, dw = -11.3144855\n",
      "epoc:8  w = 1.537, y_pred=7.684, y = 10, loss = 2.2275321, dw = -8.1747150\n",
      "epoc:10  w = 1.665, y_pred=8.327, y = 10, loss = 1.1627856, dw = -5.9062314\n",
      "epoc:12  w = 1.758, y_pred=8.791, y = 10, loss = 0.6069812, dw = -4.2672515\n",
      "epoc:14  w = 1.825, y_pred=9.126, y = 10, loss = 0.3168478, dw = -3.0830884\n",
      "epoc:16  w = 1.874, y_pred=9.369, y = 10, loss = 0.1653965, dw = -2.2275314\n",
      "epoc:18  w = 1.909, y_pred=9.544, y = 10, loss = 0.0863381, dw = -1.6093917\n",
      "epoc:20  w = 1.934, y_pred=9.671, y = 10, loss = 0.0450689, dw = -1.1627841\n",
      "epoc:22  w = 1.952, y_pred=9.762, y = 10, loss = 0.0235263, dw = -0.8401127\n",
      "epoc:24  w = 1.966, y_pred=9.828, y = 10, loss = 0.0122808, dw = -0.6069803\n",
      "epoc:26  w = 1.975, y_pred=9.876, y = 10, loss = 0.0064107, dw = -0.4385428\n",
      "epoc:28  w = 1.982, y_pred=9.910, y = 10, loss = 0.0033464, dw = -0.3168479\n",
      "epoc:30  w = 1.987, y_pred=9.935, y = 10, loss = 0.0017469, dw = -0.2289228\n",
      "epoc:32  w = 1.991, y_pred=9.953, y = 10, loss = 0.0009119, dw = -0.1653977\n",
      "epoc:34  w = 1.993, y_pred=9.966, y = 10, loss = 0.0004760, dw = -0.1194997\n",
      "epoc:36  w = 1.995, y_pred=9.976, y = 10, loss = 0.0002485, dw = -0.0863385\n",
      "epoc:38  w = 1.996, y_pred=9.982, y = 10, loss = 0.0001297, dw = -0.0623794\n",
      "epoc:40  w = 1.997, y_pred=9.987, y = 10, loss = 0.0000677, dw = -0.0450683\n",
      "epoc:42  w = 1.998, y_pred=9.991, y = 10, loss = 0.0000353, dw = -0.0325624\n",
      "epoc:44  w = 1.999, y_pred=9.993, y = 10, loss = 0.0000184, dw = -0.0235248\n",
      "epoc:46  w = 1.999, y_pred=9.995, y = 10, loss = 0.0000096, dw = -0.0169984\n",
      "epoc:48  w = 1.999, y_pred=9.997, y = 10, loss = 0.0000050, dw = -0.0122809\n",
      "Prediction after training: tensor([9.9970], grad_fn=<MulBackward0>), y = 10\n"
     ]
    }
   ],
   "source": [
    "learning_rate = 0.01\n",
    "n_iters = 50\n",
    "\n",
    "for epoch in range(n_iters):\n",
    "    # prediction = forward pass\n",
    "    y_pred = forward(x)\n",
    "\n",
    "    # loss \n",
    "    l = loss(y, y_pred)\n",
    "\n",
    "    # gradients\n",
    "    l.backward()\n",
    "\n",
    "    # update weights\n",
    "    with torch.no_grad():\n",
    "        w -= learning_rate * w.grad\n",
    "\n",
    "    if epoch % 2 == 0:\n",
    "        print(f'epoc:{epoch}  w = {w.item():.3f}, y_pred={forward(5).item():.3f}, y = {10}, loss = {l.item():.7f}, dw = {w.grad.item():.7f}')\n",
    "\n",
    "    w.grad.zero_()\n",
    "\n",
    "print(f'Prediction after training: {forward(5)}, y = {10}')"
   ]
  },
  {
   "cell_type": "markdown",
   "id": "3b1f3f58-8b23-4542-a54f-9e6a7f1e0907",
   "metadata": {},
   "source": [
    "### Pytorch Loss and Pytorch Optimizer\n",
    "\n",
    "\n",
    "> Prediction: Manually\n",
    "\n",
    "> Gradients Computation: Autograd\n",
    "\n",
    "> Loss Computation: Pytorch Loss\n",
    "\n",
    "> Parameter updates: Pytorch Optimizer"
   ]
  },
  {
   "cell_type": "markdown",
   "id": "e80ecce1-6a61-4719-b7a1-72ab528819ec",
   "metadata": {},
   "source": [
    "1. Design Model = (input, output, size, forward pass)\n",
    "2. Construct loss and optimizer\n",
    "3. Training loop\n",
    "   - forward pass: compute prediction\n",
    "   - backward pass: gradients\n",
    "   - update weights"
   ]
  },
  {
   "cell_type": "code",
   "execution_count": null,
   "id": "ab0a6098-7ef0-4dc2-a731-d75035026327",
   "metadata": {},
   "outputs": [],
   "source": [
    "import torch\n",
    "import torch.nn as nn\n",
    "\n",
    "x = torch.tensor([1,2,3,4], dtype=torch.float32)\n",
    "y = torch.tensor([2,4,6,8], dtype=torch.float32)\n",
    "\n",
    "w = torch.tensor([0.0], dtype=torch.float32, requires_grad=True)"
   ]
  },
  {
   "cell_type": "code",
   "execution_count": null,
   "id": "65d25965-c68f-4904-b336-864b82441001",
   "metadata": {},
   "outputs": [],
   "source": [
    "# model\n",
    "def forward(x):\n",
    "    return w * x\n"
   ]
  },
  {
   "cell_type": "code",
   "execution_count": null,
   "id": "01c03c49-f473-4d96-b2bd-3e9d0675e13d",
   "metadata": {},
   "outputs": [
    {
     "name": "stdout",
     "output_type": "stream",
     "text": [
      "Prediction before training: f(5) = tensor([0.], grad_fn=<MulBackward0>)\n"
     ]
    }
   ],
   "source": [
    "print(f'Prediction before training: f(5) = {forward(5)}')"
   ]
  },
  {
   "cell_type": "code",
   "execution_count": null,
   "id": "d1404c5a-6174-4ff0-b906-9e87e7d1b8be",
   "metadata": {},
   "outputs": [
    {
     "name": "stdout",
     "output_type": "stream",
     "text": [
      "epoc:0  w = 0.300, y_pred=1.500, y = 10, loss = 30.0000000, dw = -30.0000000\n",
      "epoc:2  w = 0.772, y_pred=3.859, y = 10, loss = 15.6601877, dw = -21.6749992\n",
      "epoc:4  w = 1.113, y_pred=5.563, y = 10, loss = 8.1747169, dw = -15.6601877\n",
      "epoc:6  w = 1.359, y_pred=6.794, y = 10, loss = 4.2672529, dw = -11.3144855\n",
      "epoc:8  w = 1.537, y_pred=7.684, y = 10, loss = 2.2275321, dw = -8.1747150\n",
      "epoc:10  w = 1.665, y_pred=8.327, y = 10, loss = 1.1627856, dw = -5.9062314\n",
      "epoc:12  w = 1.758, y_pred=8.791, y = 10, loss = 0.6069812, dw = -4.2672515\n",
      "epoc:14  w = 1.825, y_pred=9.126, y = 10, loss = 0.3168478, dw = -3.0830884\n",
      "epoc:16  w = 1.874, y_pred=9.369, y = 10, loss = 0.1653965, dw = -2.2275314\n",
      "epoc:18  w = 1.909, y_pred=9.544, y = 10, loss = 0.0863381, dw = -1.6093917\n",
      "epoc:20  w = 1.934, y_pred=9.671, y = 10, loss = 0.0450689, dw = -1.1627841\n",
      "epoc:22  w = 1.952, y_pred=9.762, y = 10, loss = 0.0235263, dw = -0.8401127\n",
      "epoc:24  w = 1.966, y_pred=9.828, y = 10, loss = 0.0122808, dw = -0.6069803\n",
      "epoc:26  w = 1.975, y_pred=9.876, y = 10, loss = 0.0064107, dw = -0.4385428\n",
      "epoc:28  w = 1.982, y_pred=9.910, y = 10, loss = 0.0033464, dw = -0.3168479\n",
      "epoc:30  w = 1.987, y_pred=9.935, y = 10, loss = 0.0017469, dw = -0.2289228\n",
      "epoc:32  w = 1.991, y_pred=9.953, y = 10, loss = 0.0009119, dw = -0.1653977\n",
      "epoc:34  w = 1.993, y_pred=9.966, y = 10, loss = 0.0004760, dw = -0.1194997\n",
      "epoc:36  w = 1.995, y_pred=9.976, y = 10, loss = 0.0002485, dw = -0.0863385\n",
      "epoc:38  w = 1.996, y_pred=9.982, y = 10, loss = 0.0001297, dw = -0.0623794\n",
      "epoc:40  w = 1.997, y_pred=9.987, y = 10, loss = 0.0000677, dw = -0.0450683\n",
      "epoc:42  w = 1.998, y_pred=9.991, y = 10, loss = 0.0000353, dw = -0.0325624\n",
      "epoc:44  w = 1.999, y_pred=9.993, y = 10, loss = 0.0000184, dw = -0.0235248\n",
      "epoc:46  w = 1.999, y_pred=9.995, y = 10, loss = 0.0000096, dw = -0.0169984\n",
      "epoc:48  w = 1.999, y_pred=9.997, y = 10, loss = 0.0000050, dw = -0.0122809\n",
      "Prediction after training: tensor([9.9970], grad_fn=<MulBackward0>), y = 10\n"
     ]
    }
   ],
   "source": [
    "learning_rate = 0.01\n",
    "n_iters = 50\n",
    "\n",
    "loss = nn.MSELoss()\n",
    "optimizer = torch.optim.SGD([w], lr= learning_rate)\n",
    "\n",
    "for epoch in range(n_iters):\n",
    "    # prediction = forward pass\n",
    "    y_pred = forward(x)\n",
    "\n",
    "    # loss \n",
    "    l = loss(y, y_pred)\n",
    "\n",
    "    # gradients\n",
    "    l.backward()\n",
    "\n",
    "    optimizer.step()\n",
    "\n",
    "\n",
    "    if epoch % 2 == 0:\n",
    "        print(f'epoc:{epoch}  w = {w.item():.3f}, y_pred={forward(5).item():.3f}, y = {10}, loss = {l.item():.7f}, dw = {w.grad.item():.7f}')\n",
    "\n",
    "    optimizer.zero_grad()\n",
    "\n",
    "print(f'Prediction after training: {forward(5)}, y = {10}')"
   ]
  },
  {
   "cell_type": "markdown",
   "id": "6b2839fd-2705-4198-964b-df199929895b",
   "metadata": {},
   "source": [
    "### Pytorch Automate\n",
    "\n",
    "\n",
    "> Prediction: Manually\n",
    "\n",
    "> Gradients Computation: Autograd\n",
    "\n",
    "> Loss Computation: Pytorch Loss\n",
    "\n",
    "> Parameter updates: Pytorch Optimizer"
   ]
  },
  {
   "cell_type": "code",
   "execution_count": null,
   "id": "eb04319a-ca64-4905-bef8-7728fef9910a",
   "metadata": {},
   "outputs": [
    {
     "data": {
      "text/plain": [
       "(4, 1)"
      ]
     },
     "execution_count": null,
     "metadata": {},
     "output_type": "execute_result"
    }
   ],
   "source": [
    "import torch\n",
    "import torch.nn as nn\n",
    "\n",
    "x = torch.tensor([[1],[2],[3],[4]], dtype=torch.float32)\n",
    "y = torch.tensor([[2],[4],[6],[8]], dtype=torch.float32)\n",
    "\n",
    "x_test = torch.tensor([5], dtype = torch.float32)\n",
    "n_samples, n_features = x.shape\n",
    "n_samples, n_features"
   ]
  },
  {
   "cell_type": "code",
   "execution_count": null,
   "id": "6f57b743-dc1c-47a0-8f31-0e6c190a2027",
   "metadata": {},
   "outputs": [
    {
     "data": {
      "text/plain": [
       "Linear(in_features=1, out_features=1, bias=True)"
      ]
     },
     "execution_count": null,
     "metadata": {},
     "output_type": "execute_result"
    }
   ],
   "source": [
    "model = nn.Linear(in_features = n_features, out_features = 1)\n",
    "model"
   ]
  },
  {
   "cell_type": "code",
   "execution_count": null,
   "id": "6e59afc7-d5bf-47ea-8892-b9115cdd6f64",
   "metadata": {},
   "outputs": [
    {
     "data": {
      "text/plain": [
       "-0.9119284152984619"
      ]
     },
     "execution_count": null,
     "metadata": {},
     "output_type": "execute_result"
    }
   ],
   "source": [
    "[w,b] = model.parameters()\n",
    "w[0].item()"
   ]
  },
  {
   "cell_type": "code",
   "execution_count": null,
   "id": "3f233e0e-4437-4c25-89de-2ef25d870f30",
   "metadata": {},
   "outputs": [
    {
     "data": {
      "text/plain": [
       "tensor([[-0.9119]])"
      ]
     },
     "execution_count": null,
     "metadata": {},
     "output_type": "execute_result"
    }
   ],
   "source": [
    "model.state_dict()['weight']"
   ]
  },
  {
   "cell_type": "code",
   "execution_count": null,
   "id": "3bbfa11a-13f1-49b9-9566-74d4ec088e6e",
   "metadata": {},
   "outputs": [
    {
     "name": "stdout",
     "output_type": "stream",
     "text": [
      "Prediction before training: f(5) = tensor([-4.1126], grad_fn=<ViewBackward0>)\n"
     ]
    }
   ],
   "source": [
    "print(f'Prediction before training: f(5) = {model(x_test)}')"
   ]
  },
  {
   "cell_type": "code",
   "execution_count": null,
   "id": "254cad50-7d4a-4b82-b8b5-d1bb9f1c3eaf",
   "metadata": {},
   "outputs": [
    {
     "name": "stdout",
     "output_type": "stream",
     "text": [
      "epoc:0  w = 3.232 1.814, y_pred=17.976, y = 10, loss = 57.2857742, dw = -41.4436264\n",
      "epoc:20  w = 1.769 0.681, y_pred=9.526, y = 10, loss = 0.0821977, dw = -0.0851871\n",
      "epoc:40  w = 1.874 0.371, y_pred=9.740, y = 10, loss = 0.0243662, dw = -0.0389004\n",
      "epoc:60  w = 1.931 0.202, y_pred=9.859, y = 10, loss = 0.0072235, dw = -0.0211780\n",
      "epoc:80  w = 1.963 0.110, y_pred=9.923, y = 10, loss = 0.0021415, dw = -0.0115299\n",
      "epoc:100  w = 1.980 0.060, y_pred=9.958, y = 10, loss = 0.0006349, dw = -0.0062776\n",
      "epoc:120  w = 1.989 0.033, y_pred=9.977, y = 10, loss = 0.0001882, dw = -0.0034181\n",
      "epoc:140  w = 1.994 0.018, y_pred=9.988, y = 10, loss = 0.0000558, dw = -0.0018613\n",
      "epoc:160  w = 1.997 0.010, y_pred=9.993, y = 10, loss = 0.0000165, dw = -0.0010126\n",
      "epoc:180  w = 1.998 0.005, y_pred=9.996, y = 10, loss = 0.0000049, dw = -0.0005509\n",
      "epoc:200  w = 1.999 0.003, y_pred=9.998, y = 10, loss = 0.0000015, dw = -0.0003018\n",
      "epoc:220  w = 1.999 0.002, y_pred=9.999, y = 10, loss = 0.0000004, dw = -0.0001646\n",
      "epoc:240  w = 2.000 0.001, y_pred=9.999, y = 10, loss = 0.0000001, dw = -0.0000905\n",
      "epoc:260  w = 2.000 0.000, y_pred=10.000, y = 10, loss = 0.0000000, dw = -0.0000502\n",
      "epoc:280  w = 2.000 0.000, y_pred=10.000, y = 10, loss = 0.0000000, dw = -0.0000285\n",
      "epoc:300  w = 2.000 0.000, y_pred=10.000, y = 10, loss = 0.0000000, dw = -0.0000144\n",
      "epoc:320  w = 2.000 0.000, y_pred=10.000, y = 10, loss = 0.0000000, dw = -0.0000073\n",
      "epoc:340  w = 2.000 0.000, y_pred=10.000, y = 10, loss = 0.0000000, dw = -0.0000048\n",
      "epoc:360  w = 2.000 0.000, y_pred=10.000, y = 10, loss = 0.0000000, dw = -0.0000023\n",
      "epoc:380  w = 2.000 0.000, y_pred=10.000, y = 10, loss = 0.0000000, dw = -0.0000024\n",
      "epoc:400  w = 2.000 0.000, y_pred=10.000, y = 10, loss = 0.0000000, dw = -0.0000024\n",
      "epoc:420  w = 2.000 0.000, y_pred=10.000, y = 10, loss = 0.0000000, dw = 0.0000007\n",
      "epoc:440  w = 2.000 0.000, y_pred=10.000, y = 10, loss = 0.0000000, dw = -0.0000008\n",
      "epoc:460  w = 2.000 0.000, y_pred=10.000, y = 10, loss = 0.0000000, dw = 0.0000010\n",
      "epoc:480  w = 2.000 0.000, y_pred=10.000, y = 10, loss = 0.0000000, dw = -0.0000014\n",
      "Prediction after training: tensor([10.0000], grad_fn=<ViewBackward0>), y = 10\n"
     ]
    }
   ],
   "source": [
    "learning_rate = 0.1\n",
    "n_iters = 500\n",
    "\n",
    "loss = nn.MSELoss()\n",
    "optimizer = torch.optim.SGD(model.parameters(), lr= learning_rate)\n",
    "\n",
    "for epoch in range(n_iters):\n",
    "    # prediction = forward pass\n",
    "    y_pred = model(x)\n",
    "\n",
    "    # loss \n",
    "    l = loss(y, y_pred)\n",
    "\n",
    "    # gradients\n",
    "    l.backward()\n",
    "\n",
    "    optimizer.step()\n",
    "\n",
    "\n",
    "    if epoch % 20 == 0:\n",
    "        [w,b] = model.parameters()\n",
    "        print(f'epoc:{epoch}  w = {w[0].item():.3f} {b[0].item():.3f}, y_pred={model(x_test).item():.3f}, y = {10}, loss = {l.item():.7f}, dw = {w.grad.item():.7f}')\n",
    "\n",
    "    optimizer.zero_grad()\n",
    "\n",
    "print(f'Prediction after training: {model(x_test)}, y = {10}')"
   ]
  },
  {
   "cell_type": "markdown",
   "id": "514b8a74-5942-4914-acfa-cd385e32ded4",
   "metadata": {},
   "source": [
    "### Pytorch Model\n",
    "\n",
    "\n",
    "> Prediction: Manually\n",
    "\n",
    "> Gradients Computation: Autograd\n",
    "\n",
    "> Loss Computation: Pytorch Loss\n",
    "\n",
    "> Parameter updates: Pytorch Optimizer"
   ]
  },
  {
   "cell_type": "markdown",
   "id": "b3713518-392a-4b73-80ca-294ddfd6d91b",
   "metadata": {},
   "source": [
    "1. Design Model = (input, output, size, forward pass)\n",
    "2. Construct loss and optimizer\n",
    "3. Training loop\n",
    "   - forward pass: compute prediction\n",
    "   - backward pass: gradients\n",
    "   - update weights"
   ]
  },
  {
   "cell_type": "code",
   "execution_count": null,
   "id": "e479159d-3d24-414f-8b9d-8bdfd2b1377b",
   "metadata": {},
   "outputs": [
    {
     "data": {
      "text/plain": [
       "(4, 1)"
      ]
     },
     "execution_count": null,
     "metadata": {},
     "output_type": "execute_result"
    }
   ],
   "source": [
    "import torch\n",
    "import torch.nn as nn\n",
    "\n",
    "x = torch.tensor([[1],[2],[3],[4]], dtype=torch.float32)\n",
    "y = torch.tensor([[2],[4],[6],[8]], dtype=torch.float32)\n",
    "\n",
    "x_test = torch.tensor([5], dtype = torch.float32)\n",
    "n_samples, n_features = x.shape\n",
    "n_samples, n_features"
   ]
  },
  {
   "cell_type": "code",
   "execution_count": null,
   "id": "611ba483-2e5f-4f98-b92e-19915f247607",
   "metadata": {},
   "outputs": [
    {
     "data": {
      "text/plain": [
       "Linear(in_features=1, out_features=1, bias=True)"
      ]
     },
     "execution_count": null,
     "metadata": {},
     "output_type": "execute_result"
    }
   ],
   "source": [
    "model = nn.Linear(in_features = n_features, out_features = 1)\n",
    "model"
   ]
  },
  {
   "cell_type": "code",
   "execution_count": null,
   "id": "a627e323-4817-4b0f-8f1b-d6e78421b47e",
   "metadata": {},
   "outputs": [
    {
     "data": {
      "text/plain": [
       "LinearRegression(\n",
       "  (lin): Linear(in_features=1, out_features=1, bias=True)\n",
       ")"
      ]
     },
     "execution_count": null,
     "metadata": {},
     "output_type": "execute_result"
    }
   ],
   "source": [
    "class LinearRegression(nn.Module):\n",
    "    def __init__(self, in_features, out_features):\n",
    "        super(LinearRegression, self).__init__()\n",
    "\n",
    "        self.lin = nn.Linear(in_features, out_features)\n",
    "\n",
    "    def forward(self, x):\n",
    "        return self.lin(x)\n",
    "\n",
    "model = LinearRegression(in_features = n_features, out_features = 1)\n",
    "model"
   ]
  },
  {
   "cell_type": "code",
   "execution_count": null,
   "id": "f1802bf1-28fc-41ed-b7e1-e371d03622ba",
   "metadata": {},
   "outputs": [
    {
     "data": {
      "text/plain": [
       "0.014849305152893066"
      ]
     },
     "execution_count": null,
     "metadata": {},
     "output_type": "execute_result"
    }
   ],
   "source": [
    "[w,b] = model.parameters()\n",
    "w[0].item()"
   ]
  },
  {
   "cell_type": "code",
   "execution_count": null,
   "id": "0b24fbb0-ab14-40ad-afd7-28b581a6a89f",
   "metadata": {},
   "outputs": [
    {
     "data": {
      "text/plain": [
       "tensor([[0.0148]])"
      ]
     },
     "execution_count": null,
     "metadata": {},
     "output_type": "execute_result"
    }
   ],
   "source": [
    "model.state_dict()['lin.weight']"
   ]
  },
  {
   "cell_type": "code",
   "execution_count": null,
   "id": "9568e34a-19fe-4eb1-949f-75d8ba8a5dc4",
   "metadata": {},
   "outputs": [
    {
     "name": "stdout",
     "output_type": "stream",
     "text": [
      "Prediction before training: f(5) = tensor([0.8469], grad_fn=<ViewBackward0>)\n"
     ]
    }
   ],
   "source": [
    "print(f'Prediction before training: f(5) = {model(x_test)}')"
   ]
  },
  {
   "cell_type": "code",
   "execution_count": null,
   "id": "5c1485ec-5376-4d13-abcf-8ab5a60f9ec3",
   "metadata": {},
   "outputs": [
    {
     "name": "stdout",
     "output_type": "stream",
     "text": [
      "epoc:0  w = 2.606 1.611, y_pred=14.642, y = 10, loss = 22.4837551, dw = -25.9138470\n",
      "epoc:20  w = 1.767 0.686, y_pred=9.522, y = 10, loss = 0.0833880, dw = -0.0805315\n",
      "epoc:40  w = 1.873 0.373, y_pred=9.739, y = 10, loss = 0.0247202, dw = -0.0391794\n",
      "epoc:60  w = 1.931 0.203, y_pred=9.858, y = 10, loss = 0.0073285, dw = -0.0213290\n",
      "epoc:80  w = 1.962 0.111, y_pred=9.922, y = 10, loss = 0.0021726, dw = -0.0116135\n",
      "epoc:100  w = 1.980 0.060, y_pred=9.958, y = 10, loss = 0.0006441, dw = -0.0063227\n",
      "epoc:120  w = 1.989 0.033, y_pred=9.977, y = 10, loss = 0.0001909, dw = -0.0034429\n",
      "epoc:140  w = 1.994 0.018, y_pred=9.987, y = 10, loss = 0.0000566, dw = -0.0018725\n",
      "epoc:160  w = 1.997 0.010, y_pred=9.993, y = 10, loss = 0.0000168, dw = -0.0010188\n",
      "epoc:180  w = 1.998 0.005, y_pred=9.996, y = 10, loss = 0.0000050, dw = -0.0005555\n",
      "epoc:200  w = 1.999 0.003, y_pred=9.998, y = 10, loss = 0.0000015, dw = -0.0003012\n",
      "epoc:220  w = 1.999 0.002, y_pred=9.999, y = 10, loss = 0.0000004, dw = -0.0001644\n",
      "epoc:240  w = 2.000 0.001, y_pred=9.999, y = 10, loss = 0.0000001, dw = -0.0000920\n",
      "epoc:260  w = 2.000 0.000, y_pred=10.000, y = 10, loss = 0.0000000, dw = -0.0000499\n",
      "epoc:280  w = 2.000 0.000, y_pred=10.000, y = 10, loss = 0.0000000, dw = -0.0000279\n",
      "epoc:300  w = 2.000 0.000, y_pred=10.000, y = 10, loss = 0.0000000, dw = -0.0000136\n",
      "epoc:320  w = 2.000 0.000, y_pred=10.000, y = 10, loss = 0.0000000, dw = -0.0000103\n",
      "epoc:340  w = 2.000 0.000, y_pred=10.000, y = 10, loss = 0.0000000, dw = -0.0000025\n",
      "epoc:360  w = 2.000 0.000, y_pred=10.000, y = 10, loss = 0.0000000, dw = -0.0000039\n",
      "epoc:380  w = 2.000 0.000, y_pred=10.000, y = 10, loss = 0.0000000, dw = -0.0000024\n",
      "epoc:400  w = 2.000 0.000, y_pred=10.000, y = 10, loss = 0.0000000, dw = -0.0000023\n",
      "epoc:420  w = 2.000 0.000, y_pred=10.000, y = 10, loss = 0.0000000, dw = -0.0000007\n",
      "epoc:440  w = 2.000 0.000, y_pred=10.000, y = 10, loss = 0.0000000, dw = -0.0000008\n",
      "epoc:460  w = 2.000 0.000, y_pred=10.000, y = 10, loss = 0.0000000, dw = 0.0000010\n",
      "epoc:480  w = 2.000 0.000, y_pred=10.000, y = 10, loss = 0.0000000, dw = 0.0000007\n",
      "Prediction after training: tensor([10.], grad_fn=<ViewBackward0>), y = 10\n"
     ]
    }
   ],
   "source": [
    "learning_rate = 0.1\n",
    "n_iters = 500\n",
    "\n",
    "loss = nn.MSELoss()\n",
    "optimizer = torch.optim.SGD(model.parameters(), lr= learning_rate)\n",
    "\n",
    "for epoch in range(n_iters):\n",
    "    # prediction = forward pass\n",
    "    y_pred = model(x)\n",
    "\n",
    "    # loss \n",
    "    l = loss(y, y_pred)\n",
    "\n",
    "    # gradients\n",
    "    l.backward()\n",
    "\n",
    "    optimizer.step()\n",
    "\n",
    "\n",
    "    if epoch % 20 == 0:\n",
    "        [w,b] = model.parameters()\n",
    "        print(f'epoc:{epoch}  w = {w[0].item():.3f} {b[0].item():.3f}, y_pred={model(x_test).item():.3f}, y = {10}, loss = {l.item():.7f}, dw = {w.grad.item():.7f}')\n",
    "\n",
    "    optimizer.zero_grad()\n",
    "\n",
    "print(f'Prediction after training: {model(x_test)}, y = {10}')"
   ]
  },
  {
   "cell_type": "markdown",
   "id": "586377df-a03f-47fb-85c7-3e91dc45adf4",
   "metadata": {},
   "source": [
    "## Linear Regression"
   ]
  },
  {
   "cell_type": "code",
   "execution_count": null,
   "id": "8bd5c441-5f03-40a9-a16f-175985365753",
   "metadata": {},
   "outputs": [],
   "source": []
  },
  {
   "cell_type": "code",
   "execution_count": null,
   "id": "5cbfc4ab-3b47-406f-9414-4abcbe929cfc",
   "metadata": {},
   "outputs": [],
   "source": []
  }
 ],
 "metadata": {
  "kernelspec": {
   "display_name": "python3",
   "language": "python",
   "name": "python3"
  }
 },
 "nbformat": 4,
 "nbformat_minor": 5
}
