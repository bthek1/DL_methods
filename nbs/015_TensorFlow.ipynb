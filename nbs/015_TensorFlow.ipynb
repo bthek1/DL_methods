{
 "cells": [
  {
   "cell_type": "markdown",
   "id": "e791fe51-9a2d-4cc6-b3e0-91af0387e790",
   "metadata": {},
   "source": [
    "# TensorFlow\n",
    "\n",
    "> Tensor Flow graphs\n",
    "\n",
    "\n",
    "- skip_showdoc: true\n",
    "- skip_exec: true"
   ]
  },
  {
   "cell_type": "code",
   "execution_count": null,
   "id": "740f10e8-715c-4b77-888a-af395d3ce1fb",
   "metadata": {},
   "outputs": [],
   "source": []
  }
 ],
 "metadata": {
  "kernelspec": {
   "display_name": "python3",
   "language": "python",
   "name": "python3"
  }
 },
 "nbformat": 4,
 "nbformat_minor": 5
}
